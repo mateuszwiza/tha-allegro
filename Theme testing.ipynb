{
 "cells": [
  {
   "cell_type": "markdown",
   "id": "02747fe5",
   "metadata": {},
   "source": [
    "# This is a test\n",
    "\n",
    "## This is another test\n",
    "\n",
    "### And one more test\n",
    "\n",
    "Lorem ipsum dolor sit amet, consectetur adipiscing elit. Nam eu urna vestibulum, mollis lectus in, pulvinar lacus. Fusce et porttitor augue, et euismod tellus. Phasellus convallis sed metus nec commodo. Mauris ut lorem sed diam vestibulum fringilla a quis metus. Curabitur scelerisque nisl nec purus lacinia, quis eleifend nisl ultricies. Vivamus aliquam velit vel dui convallis congue. Curabitur ornare nunc id placerat ultricies. Sed sollicitudin rhoncus eros."
   ]
  },
  {
   "cell_type": "code",
   "execution_count": 1,
   "id": "e1e71bfe",
   "metadata": {},
   "outputs": [],
   "source": [
    "import pandas as pd\n",
    "import numpy as np"
   ]
  },
  {
   "cell_type": "code",
   "execution_count": 2,
   "id": "d0991ea2",
   "metadata": {},
   "outputs": [
    {
     "name": "stdout",
     "output_type": "stream",
     "text": [
      "1\n",
      "2\n",
      "8\n",
      "apple\n",
      "bear\n",
      "candy\n",
      "bar\n",
      "1.4\n"
     ]
    }
   ],
   "source": [
    "lst = [1,2,8,'apple', 'bear', 'candy', 'bar', 1.4]\n",
    "\n",
    "for element in lst:\n",
    "    print(element)"
   ]
  }
 ],
 "metadata": {
  "kernelspec": {
   "display_name": "Python 3",
   "language": "python",
   "name": "python3"
  },
  "language_info": {
   "codemirror_mode": {
    "name": "ipython",
    "version": 3
   },
   "file_extension": ".py",
   "mimetype": "text/x-python",
   "name": "python",
   "nbconvert_exporter": "python",
   "pygments_lexer": "ipython3",
   "version": "3.8.8"
  }
 },
 "nbformat": 4,
 "nbformat_minor": 5
}
