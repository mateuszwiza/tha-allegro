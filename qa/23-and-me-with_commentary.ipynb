{
 "cells": [
  {
   "cell_type": "markdown",
   "id": "a50de542",
   "metadata": {},
   "source": [
    "# Marketing Analytics Manager Test Solution"
   ]
  },
  {
   "cell_type": "markdown",
   "id": "4d646ff5",
   "metadata": {},
   "source": [
    "**Overview and Instructions:**\n",
    "The data/ directory contains fifty CSV files (one per week) of timestamped sales data. Each row in a file has two columns:\n",
    "- _sale_time_ - The timestamp on which the sale was made e.g. 2012-10-01 01:42:22\n",
    "- _purchaser_gender_ - The gender of the person who purchased (male or female)\n",
    "    \n",
    "Please answer the questions below based on the data provided. In addition, please attach the source code for your analysis."
   ]
  },
  {
   "cell_type": "markdown",
   "id": "526a97ed",
   "metadata": {},
   "source": [
    "## What They Are Testing For?"
   ]
  },
  {
   "cell_type": "markdown",
   "id": "c6ee1b69",
   "metadata": {},
   "source": [
    "Onsite interviews generally put pressure on candidates, so a candidate might not perform their best skills. Also, interviewers need to invest a significant amount of time from their schedule in the recruiting process. Take-home assignments play a crucial role in the recruitment of companies to eliminate onsite interview noise on the performance, and also false-true candidates seem correct person for the role but are not skilled as required.\n",
    "\n",
    "The difficulty level of a take-home assignment depends on several factors such as the job description, company, given time, etc. In this assignment, the company is interested in your data analysis and statistics knowledge and how comfortable you are with common data analysis tools such as Pandas. Another important point is your coding quality, which is a combination of your function definition, commenting, name assignment, list/dictionary comprehension, etc., styles. As long as your code is easy to follow and understand, there is nothing to worry about. Do not use complex expressions to show off your knowledge. At this stage, it is not expected you to know the coding conventions at the company. All will be taken care of in onboarding if you successfully pass your interviews. \n",
    "\n",
    "For data science, it is a precious ability to know shortcut functions and some programming concepts that save time. Using groupby, indexing functions, statistical and arithmetical operations on the dataset are good signs. Also, data visualization tools are important. It does not matter which tool you use (matplotlib, pandas.plot, seaborn) as long as your plots are understandable with title and axis labels. \n",
    "\n",
    "Throughout this tutorial, we will see some of the mentioned concepts (tools, plots, coding style, etc.) in solutions. "
   ]
  },
  {
   "cell_type": "markdown",
   "id": "5364c65a",
   "metadata": {},
   "source": [
    "## Data Exploration"
   ]
  },
  {
   "cell_type": "markdown",
   "id": "ba460691",
   "metadata": {},
   "source": [
    "Before diving into the questions, let's apply some data exploration techniques to have a better understanding on what we are dealing in the dataset. We'll start with importing a few useful libraries. We will use _pandas_ to create and analyse the dataset, and _matplotlib.pyplot_ to do plot graphs to visualize our answers. Glob will be used just to get all filenames under the /data directory."
   ]
  },
  {
   "cell_type": "code",
   "execution_count": 1,
   "id": "6aaff322",
   "metadata": {},
   "outputs": [],
   "source": [
    "# import libraries \n",
    "import pandas as pd\n",
    "import matplotlib.pyplot as plt \n",
    "import glob"
   ]
  },
  {
   "cell_type": "markdown",
   "id": "7aac9783",
   "metadata": {},
   "source": [
    "We can tweak the default plotting parameters to make our plots easily comprehensible. Even though we can change multiple parameters of our plots to make them fancy, today we are only interested in making them larger. So, we are defining a new figure size which we'll use in next cells."
   ]
  },
  {
   "cell_type": "code",
   "execution_count": 2,
   "id": "d1654182",
   "metadata": {},
   "outputs": [],
   "source": [
    "# assign a constant figure size and use it in plotting to make plots larger\n",
    "FIG_SIZE = (8,6)"
   ]
  },
  {
   "cell_type": "markdown",
   "id": "ae943b78",
   "metadata": {},
   "source": [
    "Let's create our dataset. First, we need to get all filenames under the /data directory in a list so we can concat them in one dataset using pandas concat function which can accept a list as input. This method prevents us to use a for loop to iterate over files, read them separately and append on a dataset. Therefore, it decreases the complexity and saves us time."
   ]
  },
  {
   "cell_type": "code",
   "execution_count": 3,
   "id": "36da5e6b",
   "metadata": {},
   "outputs": [
    {
     "data": {
      "text/plain": [
       "50"
      ]
     },
     "execution_count": 3,
     "metadata": {},
     "output_type": "execute_result"
    }
   ],
   "source": [
    "# get all filenames under the data directory \n",
    "l = [pd.read_csv(filename) for filename in glob.glob(\"./data/*.csv\")]\n",
    "\n",
    "# check the list size to understand how many files will be read\n",
    "len(l)"
   ]
  },
  {
   "cell_type": "markdown",
   "id": "7a6cef15",
   "metadata": {},
   "source": [
    "We have 50 files under the /data directory. So, we should have a list including 50 filenames."
   ]
  },
  {
   "cell_type": "code",
   "execution_count": 4,
   "id": "0a801abb",
   "metadata": {},
   "outputs": [
    {
     "data": {
      "text/html": [
       "<div>\n",
       "<style scoped>\n",
       "    .dataframe tbody tr th:only-of-type {\n",
       "        vertical-align: middle;\n",
       "    }\n",
       "\n",
       "    .dataframe tbody tr th {\n",
       "        vertical-align: top;\n",
       "    }\n",
       "\n",
       "    .dataframe thead th {\n",
       "        text-align: right;\n",
       "    }\n",
       "</style>\n",
       "<table border=\"1\" class=\"dataframe\">\n",
       "  <thead>\n",
       "    <tr style=\"text-align: right;\">\n",
       "      <th></th>\n",
       "      <th>sale_time</th>\n",
       "      <th>purchaser_gender</th>\n",
       "    </tr>\n",
       "  </thead>\n",
       "  <tbody>\n",
       "    <tr>\n",
       "      <th>0</th>\n",
       "      <td>2013-01-07 02:14:07</td>\n",
       "      <td>female</td>\n",
       "    </tr>\n",
       "    <tr>\n",
       "      <th>1</th>\n",
       "      <td>2013-01-07 02:57:53</td>\n",
       "      <td>male</td>\n",
       "    </tr>\n",
       "    <tr>\n",
       "      <th>2</th>\n",
       "      <td>2013-01-07 02:59:49</td>\n",
       "      <td>female</td>\n",
       "    </tr>\n",
       "    <tr>\n",
       "      <th>3</th>\n",
       "      <td>2013-01-07 03:02:53</td>\n",
       "      <td>male</td>\n",
       "    </tr>\n",
       "    <tr>\n",
       "      <th>4</th>\n",
       "      <td>2013-01-07 03:27:36</td>\n",
       "      <td>female</td>\n",
       "    </tr>\n",
       "  </tbody>\n",
       "</table>\n",
       "</div>"
      ],
      "text/plain": [
       "             sale_time purchaser_gender\n",
       "0  2013-01-07 02:14:07           female\n",
       "1  2013-01-07 02:57:53             male\n",
       "2  2013-01-07 02:59:49           female\n",
       "3  2013-01-07 03:02:53             male\n",
       "4  2013-01-07 03:27:36           female"
      ]
     },
     "execution_count": 4,
     "metadata": {},
     "output_type": "execute_result"
    }
   ],
   "source": [
    "#  create the dataset using all files under the data directory\n",
    "df = pd.concat(l, axis=0)\n",
    "df.head()"
   ]
  },
  {
   "cell_type": "markdown",
   "id": "f87cb136",
   "metadata": {},
   "source": [
    "The instructions say the dataset includes two columns. Let's check our dataset. "
   ]
  },
  {
   "cell_type": "code",
   "execution_count": 5,
   "id": "edafb2f0",
   "metadata": {},
   "outputs": [
    {
     "data": {
      "text/plain": [
       "Index(['sale_time', 'purchaser_gender'], dtype='object')"
      ]
     },
     "execution_count": 5,
     "metadata": {},
     "output_type": "execute_result"
    }
   ],
   "source": [
    "df.columns"
   ]
  },
  {
   "cell_type": "code",
   "execution_count": 6,
   "id": "4b5b5aee",
   "metadata": {},
   "outputs": [
    {
     "data": {
      "text/plain": [
       "(204329, 2)"
      ]
     },
     "execution_count": 6,
     "metadata": {},
     "output_type": "execute_result"
    }
   ],
   "source": [
    "df.shape"
   ]
  },
  {
   "cell_type": "markdown",
   "id": "62763460",
   "metadata": {},
   "source": [
    "It is consistent with what given to us in the overview section. By counting the sale entries for each day, we can obtain the sales amount for each day. Then, we can analyze the sales of the company. We will obtain the sales amount in a few steps. To begin with, we'll extract the sale day (year - month - day) from a complete timestamp (year - month - day hour - second - milisecond). We need to convert the sale_time column datatype to datetime since pandas library provides several functions to conveniently manipulate timestamps."
   ]
  },
  {
   "cell_type": "code",
   "execution_count": 7,
   "id": "6d7ed763",
   "metadata": {},
   "outputs": [],
   "source": [
    "sale_day = pd.to_datetime(df['sale_time'])"
   ]
  },
  {
   "cell_type": "markdown",
   "id": "ae25d81e",
   "metadata": {},
   "source": [
    "Now, we can get the day by flooring the timestamp to the closest day. After that, we will group the sales entries by days with the _groupby( )_ function. Then we will count the entries in each group (which are the sale days in our case) with _size( )_ , which gives us the sales amount for each day. Groupby objects use the given column as index. As the last step, we will reformat the dataset with _reset_index( )_ function to get rid of sale day indexes. "
   ]
  },
  {
   "cell_type": "code",
   "execution_count": 8,
   "id": "e8cbb0a5",
   "metadata": {},
   "outputs": [
    {
     "data": {
      "text/html": [
       "<div>\n",
       "<style scoped>\n",
       "    .dataframe tbody tr th:only-of-type {\n",
       "        vertical-align: middle;\n",
       "    }\n",
       "\n",
       "    .dataframe tbody tr th {\n",
       "        vertical-align: top;\n",
       "    }\n",
       "\n",
       "    .dataframe thead th {\n",
       "        text-align: right;\n",
       "    }\n",
       "</style>\n",
       "<table border=\"1\" class=\"dataframe\">\n",
       "  <thead>\n",
       "    <tr style=\"text-align: right;\">\n",
       "      <th></th>\n",
       "      <th>sale_day</th>\n",
       "      <th>sales_amount</th>\n",
       "    </tr>\n",
       "  </thead>\n",
       "  <tbody>\n",
       "    <tr>\n",
       "      <th>0</th>\n",
       "      <td>2012-10-01</td>\n",
       "      <td>514</td>\n",
       "    </tr>\n",
       "    <tr>\n",
       "      <th>1</th>\n",
       "      <td>2012-10-02</td>\n",
       "      <td>482</td>\n",
       "    </tr>\n",
       "    <tr>\n",
       "      <th>2</th>\n",
       "      <td>2012-10-03</td>\n",
       "      <td>499</td>\n",
       "    </tr>\n",
       "    <tr>\n",
       "      <th>3</th>\n",
       "      <td>2012-10-04</td>\n",
       "      <td>546</td>\n",
       "    </tr>\n",
       "    <tr>\n",
       "      <th>4</th>\n",
       "      <td>2012-10-05</td>\n",
       "      <td>476</td>\n",
       "    </tr>\n",
       "  </tbody>\n",
       "</table>\n",
       "</div>"
      ],
      "text/plain": [
       "    sale_day  sales_amount\n",
       "0 2012-10-01           514\n",
       "1 2012-10-02           482\n",
       "2 2012-10-03           499\n",
       "3 2012-10-04           546\n",
       "4 2012-10-05           476"
      ]
     },
     "execution_count": 8,
     "metadata": {},
     "output_type": "execute_result"
    }
   ],
   "source": [
    "daily_sales_df = sale_day.groupby(sale_day.dt.floor('d')).size().reset_index(name='sales_amount')\n",
    "daily_sales_df.rename(columns={'sale_time':'sale_day'},inplace=True)\n",
    "daily_sales_df.head()"
   ]
  },
  {
   "cell_type": "markdown",
   "id": "6e567f66",
   "metadata": {},
   "source": [
    "We continue to comprehending our dataset with some statistical metrics. _describe( )_ function provide us the main statistical metrics for columns."
   ]
  },
  {
   "cell_type": "code",
   "execution_count": 9,
   "id": "d7620063",
   "metadata": {},
   "outputs": [
    {
     "data": {
      "text/plain": [
       "count    350.000000\n",
       "mean     583.797143\n",
       "std      105.152783\n",
       "min      401.000000\n",
       "25%      496.000000\n",
       "50%      546.000000\n",
       "75%      688.750000\n",
       "max      801.000000\n",
       "Name: sales_amount, dtype: float64"
      ]
     },
     "execution_count": 9,
     "metadata": {},
     "output_type": "execute_result"
    }
   ],
   "source": [
    "daily_sales_df['sales_amount'].describe()"
   ]
  },
  {
   "cell_type": "markdown",
   "id": "0465df41",
   "metadata": {},
   "source": [
    "The output says we have 350 different days in the dataset, which is aligned with our expectations since we already know the given data includes 50 weeks (50 x 7 = 350 days). The mean of sales amount column is around 583, which means the mean of daily sales is around 583. The max and min daily sales are 401 and 801, in order."
   ]
  },
  {
   "cell_type": "markdown",
   "id": "33ca341d",
   "metadata": {},
   "source": [
    "Let's also check the daily sales amount over genders. We need to groupby the initial dataset by genders."
   ]
  },
  {
   "cell_type": "code",
   "execution_count": 10,
   "id": "fc72e817",
   "metadata": {},
   "outputs": [
    {
     "data": {
      "text/html": [
       "<div>\n",
       "<style scoped>\n",
       "    .dataframe tbody tr th:only-of-type {\n",
       "        vertical-align: middle;\n",
       "    }\n",
       "\n",
       "    .dataframe tbody tr th {\n",
       "        vertical-align: top;\n",
       "    }\n",
       "\n",
       "    .dataframe thead th {\n",
       "        text-align: right;\n",
       "    }\n",
       "</style>\n",
       "<table border=\"1\" class=\"dataframe\">\n",
       "  <thead>\n",
       "    <tr style=\"text-align: right;\">\n",
       "      <th></th>\n",
       "      <th>purchaser_gender</th>\n",
       "      <th>sales_amount</th>\n",
       "    </tr>\n",
       "  </thead>\n",
       "  <tbody>\n",
       "    <tr>\n",
       "      <th>0</th>\n",
       "      <td>female</td>\n",
       "      <td>107740</td>\n",
       "    </tr>\n",
       "    <tr>\n",
       "      <th>1</th>\n",
       "      <td>male</td>\n",
       "      <td>96589</td>\n",
       "    </tr>\n",
       "  </tbody>\n",
       "</table>\n",
       "</div>"
      ],
      "text/plain": [
       "  purchaser_gender  sales_amount\n",
       "0           female        107740\n",
       "1             male         96589"
      ]
     },
     "execution_count": 10,
     "metadata": {},
     "output_type": "execute_result"
    }
   ],
   "source": [
    "gender_sales_df = df.groupby(df.purchaser_gender).size().reset_index(name='sales_amount')\n",
    "gender_sales_df.head()"
   ]
  },
  {
   "cell_type": "markdown",
   "id": "9df52d67",
   "metadata": {},
   "source": [
    "According to above output, we can say female customers shop more comparing to male customers. "
   ]
  },
  {
   "cell_type": "markdown",
   "id": "ca1f98db",
   "metadata": {},
   "source": [
    "Another interesting thing we could check with the sales amount and their timestamps is seasonal trends. Check the beginning and end dates of our dataset."
   ]
  },
  {
   "cell_type": "code",
   "execution_count": 11,
   "id": "b399ffce",
   "metadata": {},
   "outputs": [
    {
     "data": {
      "text/plain": [
       "('2012-10-01 01:42:22', '2013-09-15 23:48:47')"
      ]
     },
     "execution_count": 11,
     "metadata": {},
     "output_type": "execute_result"
    }
   ],
   "source": [
    "df.sale_time.min(), df.sale_time.max()"
   ]
  },
  {
   "cell_type": "markdown",
   "id": "b3f79108",
   "metadata": {},
   "source": [
    "Since we do not have data belong to different year, we can not check seasonality over years. Still, we can look over the last months and see if there is a trend."
   ]
  },
  {
   "cell_type": "code",
   "execution_count": 12,
   "id": "e74c8964",
   "metadata": {},
   "outputs": [
    {
     "data": {
      "image/png": "[encoded data removed]",
      "text/plain": [
       "<Figure size 576x432 with 1 Axes>"
      ]
     },
     "metadata": {
      "needs_background": "light"
     },
     "output_type": "display_data"
    }
   ],
   "source": [
    "ax = daily_sales_df.plot(x='sale_day', y='sales_amount', figsize=FIG_SIZE)\n",
    "xcoords = ['2012-10-01','2012-11-01','2012-12-01',\n",
    "           '2013-01-07', '2013-02-01','2013-03-01', \n",
    "           '2013-04-01', '2013-05-01', '2013-06-01', \n",
    "           '2013-07-01', '2013-08-01', '2013-09-01']\n",
    "for xc in xcoords:\n",
    "    plt.axvline(x=xc, color='black', linestyle='--')"
   ]
  },
  {
   "cell_type": "markdown",
   "id": "a4868779",
   "metadata": {},
   "source": [
    "It doesn't seem the sales amount have a clear correlation with months. "
   ]
  },
  {
   "cell_type": "markdown",
   "id": "1e3db806",
   "metadata": {},
   "source": [
    "We analyzed our dataset from different perspectives. Now, we are ready to continue with questions. "
   ]
  },
  {
   "cell_type": "markdown",
   "id": "aa4004f6",
   "metadata": {},
   "source": [
    "## Question 1\n",
    "\n",
    "**Plot daily sales for all 50 weeks.**"
   ]
  },
  {
   "cell_type": "markdown",
   "id": "37431fea",
   "metadata": {},
   "source": [
    "We will produce a plot similar to one we used to check trends above. We won't mark the months this time. Pandas _plot( )_ function provides us ability to plot the data without using other library. In default, it uses dataset index as x-axis and other columns as y-axis values. Our daily_sales_df index will be sale_day which are the days sales are occured. The only column of daily_sales_df will be sales_amount which we calculated before. This is one of the alternative methods to plot. _plot( )_ function also provides flexibility to choose axis columns when we have multiple columns in the dataset. "
   ]
  },
  {
   "cell_type": "code",
   "execution_count": 13,
   "id": "8c171acd",
   "metadata": {},
   "outputs": [
    {
     "data": {
      "image/png": "[encoded data removed]",
      "text/plain": [
       "<Figure size 576x432 with 1 Axes>"
      ]
     },
     "metadata": {
      "needs_background": "light"
     },
     "output_type": "display_data"
    }
   ],
   "source": [
    "#  to use index in plotting make sale_day index\n",
    "daily_sales_df.index = daily_sales_df['sale_day']\n",
    "daily_sales_df.drop(columns=['sale_day'], inplace=True)\n",
    "\n",
    "#  plot daily sales for all 50 weeks\n",
    "daily_sales_df.plot(figsize=FIG_SIZE, title = \"Daily sales over 50 weeks\")\n",
    "plt.show()"
   ]
  },
  {
   "cell_type": "markdown",
   "id": "249658a3",
   "metadata": {},
   "source": [
    "We plotted the daily sales over to 50 weeks and observe a sudden change around May, which is the topic of next question."
   ]
  },
  {
   "cell_type": "markdown",
   "id": "5a969bbf",
   "metadata": {},
   "source": [
    "## Question 2\n",
    "\n",
    "**It looks like there has been a sudden change in daily sales. What date did it occur?**"
   ]
  },
  {
   "cell_type": "markdown",
   "id": "334a049c",
   "metadata": {},
   "source": [
    "This question interested in the sudden change we observed in the plot above. To be able to say the exact date of this change occur, we need to compare sales amount difference with the previous day and find the biggest difference which should give us the sudden change in the sales amount. Since we do not know the previous day data of the first row in our data set, we can use None instead of. Also, our last sales_amount is the previous day sales amount of a date (2013-09-15) not in dataset, so we won't use it."
   ]
  },
  {
   "cell_type": "code",
   "execution_count": 14,
   "id": "90338e0e",
   "metadata": {},
   "outputs": [
    {
     "data": {
      "text/html": [
       "<div>\n",
       "<style scoped>\n",
       "    .dataframe tbody tr th:only-of-type {\n",
       "        vertical-align: middle;\n",
       "    }\n",
       "\n",
       "    .dataframe tbody tr th {\n",
       "        vertical-align: top;\n",
       "    }\n",
       "\n",
       "    .dataframe thead th {\n",
       "        text-align: right;\n",
       "    }\n",
       "</style>\n",
       "<table border=\"1\" class=\"dataframe\">\n",
       "  <thead>\n",
       "    <tr style=\"text-align: right;\">\n",
       "      <th></th>\n",
       "      <th>sales_amount</th>\n",
       "      <th>prev_day_sale_amount</th>\n",
       "      <th>difference_btw_prev_day</th>\n",
       "    </tr>\n",
       "    <tr>\n",
       "      <th>sale_day</th>\n",
       "      <th></th>\n",
       "      <th></th>\n",
       "      <th></th>\n",
       "    </tr>\n",
       "  </thead>\n",
       "  <tbody>\n",
       "    <tr>\n",
       "      <th>2012-10-01</th>\n",
       "      <td>514</td>\n",
       "      <td>NaN</td>\n",
       "      <td>NaN</td>\n",
       "    </tr>\n",
       "    <tr>\n",
       "      <th>2012-10-02</th>\n",
       "      <td>482</td>\n",
       "      <td>514.0</td>\n",
       "      <td>-32.0</td>\n",
       "    </tr>\n",
       "    <tr>\n",
       "      <th>2012-10-03</th>\n",
       "      <td>499</td>\n",
       "      <td>482.0</td>\n",
       "      <td>17.0</td>\n",
       "    </tr>\n",
       "    <tr>\n",
       "      <th>2012-10-04</th>\n",
       "      <td>546</td>\n",
       "      <td>499.0</td>\n",
       "      <td>47.0</td>\n",
       "    </tr>\n",
       "    <tr>\n",
       "      <th>2012-10-05</th>\n",
       "      <td>476</td>\n",
       "      <td>546.0</td>\n",
       "      <td>-70.0</td>\n",
       "    </tr>\n",
       "  </tbody>\n",
       "</table>\n",
       "</div>"
      ],
      "text/plain": [
       "            sales_amount  prev_day_sale_amount  difference_btw_prev_day\n",
       "sale_day                                                               \n",
       "2012-10-01           514                   NaN                      NaN\n",
       "2012-10-02           482                 514.0                    -32.0\n",
       "2012-10-03           499                 482.0                     17.0\n",
       "2012-10-04           546                 499.0                     47.0\n",
       "2012-10-05           476                 546.0                    -70.0"
      ]
     },
     "execution_count": 14,
     "metadata": {},
     "output_type": "execute_result"
    }
   ],
   "source": [
    "daily_sales_df['prev_day_sale_amount'] = [None] + daily_sales_df['sales_amount'].to_list()[:-1]\n",
    "daily_sales_df['difference_btw_prev_day'] = daily_sales_df['sales_amount'] - daily_sales_df['prev_day_sale_amount']\n",
    "daily_sales_df.head()"
   ]
  },
  {
   "cell_type": "markdown",
   "id": "b2eea12c",
   "metadata": {},
   "source": [
    "We see 'NaN' values in the first row. Pandas interprets Python 'None' value as NaN. Since we obtained difference between days, we can get the maximum difference and see its index, which is the date that sales amount occured. _idxmax( )_ function returns the index of max value in given column. "
   ]
  },
  {
   "cell_type": "code",
   "execution_count": 15,
   "id": "33d3ff9e",
   "metadata": {},
   "outputs": [
    {
     "name": "stdout",
     "output_type": "stream",
     "text": [
      "2013-04-29 00:00:00\n"
     ]
    },
    {
     "data": {
      "text/html": [
       "<div>\n",
       "<style scoped>\n",
       "    .dataframe tbody tr th:only-of-type {\n",
       "        vertical-align: middle;\n",
       "    }\n",
       "\n",
       "    .dataframe tbody tr th {\n",
       "        vertical-align: top;\n",
       "    }\n",
       "\n",
       "    .dataframe thead th {\n",
       "        text-align: right;\n",
       "    }\n",
       "</style>\n",
       "<table border=\"1\" class=\"dataframe\">\n",
       "  <thead>\n",
       "    <tr style=\"text-align: right;\">\n",
       "      <th></th>\n",
       "      <th>sales_amount</th>\n",
       "      <th>prev_day_sale_amount</th>\n",
       "      <th>difference_btw_prev_day</th>\n",
       "    </tr>\n",
       "    <tr>\n",
       "      <th>sale_day</th>\n",
       "      <th></th>\n",
       "      <th></th>\n",
       "      <th></th>\n",
       "    </tr>\n",
       "  </thead>\n",
       "  <tbody>\n",
       "    <tr>\n",
       "      <th>2013-04-29</th>\n",
       "      <td>732</td>\n",
       "      <td>458.0</td>\n",
       "      <td>274.0</td>\n",
       "    </tr>\n",
       "  </tbody>\n",
       "</table>\n",
       "</div>"
      ],
      "text/plain": [
       "            sales_amount  prev_day_sale_amount  difference_btw_prev_day\n",
       "sale_day                                                               \n",
       "2013-04-29           732                 458.0                    274.0"
      ]
     },
     "execution_count": 15,
     "metadata": {},
     "output_type": "execute_result"
    }
   ],
   "source": [
    "# get the index of max change to answer what date did it occur\n",
    "print(daily_sales_df['difference_btw_prev_day'].idxmax(axis=\"columns\"))\n",
    "daily_sales_df[daily_sales_df.index == '2013-04-29']"
   ]
  },
  {
   "cell_type": "markdown",
   "id": "6ef1ad6f",
   "metadata": {},
   "source": [
    "The date of sudden change is '2013-04-29'. With using this date as index, we can get the sales amount at this particular date."
   ]
  },
  {
   "cell_type": "markdown",
   "id": "24d8ca92",
   "metadata": {},
   "source": [
    "## Question 3\n",
    "\n",
    "**Is the change in daily sales at the date you selected statistically significant? If so, what is the p-value?**"
   ]
  },
  {
   "cell_type": "markdown",
   "id": "8e03332a",
   "metadata": {},
   "source": [
    "Statistical significance decided by t-test in statistics. Scipy, a library that implements several scientific concepts in Python, includes stats module to apply t-test. We want to understand the importance of a specific sample, so we'll use _ttest_lsamp( )_ function. "
   ]
  },
  {
   "cell_type": "code",
   "execution_count": 16,
   "id": "bb894ccd",
   "metadata": {},
   "outputs": [
    {
     "data": {
      "text/plain": [
       "Ttest_1sampResult(statistic=-26.273266340051002, pvalue=1.3019593251472396e-84)"
      ]
     },
     "execution_count": 16,
     "metadata": {},
     "output_type": "execute_result"
    }
   ],
   "source": [
    "# scipy.stats include a function to do t-test and obtain p-value\n",
    "from scipy import stats\n",
    "\n",
    "# first drop all nan values (if any) for the test \n",
    "daily_sales_df.dropna(inplace=True)\n",
    "\n",
    "# then compare the max change with all sales_amount column \n",
    "# to understand its statistical importance\n",
    "stats.ttest_1samp(daily_sales_df['sales_amount'], 732)"
   ]
  },
  {
   "cell_type": "markdown",
   "id": "bec0ce44",
   "metadata": {},
   "source": [
    "The obtained p-value as the result of t-test is 1.3019593251472396e-84 which is lower than 0.05 (we can assume the threshold as 0.05 as a common practice). It leads to decide this particular date is important for us."
   ]
  },
  {
   "cell_type": "markdown",
   "id": "9ac8a389",
   "metadata": {},
   "source": [
    "## Question 4\n",
    "\n",
    "**Does the data suggest that the change in daily sales is due to a shift in the proportion of male-vs-female customers? Please use plots to support your answer (a rigorous statistical analysis is not necessary).**"
   ]
  },
  {
   "cell_type": "markdown",
   "id": "b264d23b",
   "metadata": {},
   "source": [
    "This question implies a dramatic change might be happened in male-vs-female customers at the date of sudden change. We can observe whether this assumption is valid or not by plotting sales amount with gender portions over 50 weeks. We will groupby our initial dataset, which includes purchaser_gender column, by first sale_day then purchaser gender. It return us daily sales amount by genders. "
   ]
  },
  {
   "cell_type": "code",
   "execution_count": 17,
   "id": "b07832f1",
   "metadata": {},
   "outputs": [],
   "source": [
    "# create gender_portions_df to analyze sales distribution over genders\n",
    "df['sale_day'] = pd.to_datetime(df['sale_time']).dt.floor('d')\n",
    "gender_portions_df = df.groupby(['sale_day', 'purchaser_gender']).size().reset_index(name='sales_amount')"
   ]
  },
  {
   "cell_type": "code",
   "execution_count": 18,
   "id": "4fae4683",
   "metadata": {
    "scrolled": true
   },
   "outputs": [
    {
     "data": {
      "text/html": [
       "<div>\n",
       "<style scoped>\n",
       "    .dataframe tbody tr th:only-of-type {\n",
       "        vertical-align: middle;\n",
       "    }\n",
       "\n",
       "    .dataframe tbody tr th {\n",
       "        vertical-align: top;\n",
       "    }\n",
       "\n",
       "    .dataframe thead th {\n",
       "        text-align: right;\n",
       "    }\n",
       "</style>\n",
       "<table border=\"1\" class=\"dataframe\">\n",
       "  <thead>\n",
       "    <tr style=\"text-align: right;\">\n",
       "      <th></th>\n",
       "      <th>sale_day</th>\n",
       "      <th>purchaser_gender</th>\n",
       "      <th>sales_amount</th>\n",
       "    </tr>\n",
       "  </thead>\n",
       "  <tbody>\n",
       "    <tr>\n",
       "      <th>0</th>\n",
       "      <td>2012-10-01</td>\n",
       "      <td>female</td>\n",
       "      <td>413</td>\n",
       "    </tr>\n",
       "    <tr>\n",
       "      <th>1</th>\n",
       "      <td>2012-10-01</td>\n",
       "      <td>male</td>\n",
       "      <td>101</td>\n",
       "    </tr>\n",
       "    <tr>\n",
       "      <th>2</th>\n",
       "      <td>2012-10-02</td>\n",
       "      <td>female</td>\n",
       "      <td>379</td>\n",
       "    </tr>\n",
       "    <tr>\n",
       "      <th>3</th>\n",
       "      <td>2012-10-02</td>\n",
       "      <td>male</td>\n",
       "      <td>103</td>\n",
       "    </tr>\n",
       "    <tr>\n",
       "      <th>4</th>\n",
       "      <td>2012-10-03</td>\n",
       "      <td>female</td>\n",
       "      <td>386</td>\n",
       "    </tr>\n",
       "    <tr>\n",
       "      <th>...</th>\n",
       "      <td>...</td>\n",
       "      <td>...</td>\n",
       "      <td>...</td>\n",
       "    </tr>\n",
       "    <tr>\n",
       "      <th>695</th>\n",
       "      <td>2013-09-13</td>\n",
       "      <td>male</td>\n",
       "      <td>537</td>\n",
       "    </tr>\n",
       "    <tr>\n",
       "      <th>696</th>\n",
       "      <td>2013-09-14</td>\n",
       "      <td>female</td>\n",
       "      <td>193</td>\n",
       "    </tr>\n",
       "    <tr>\n",
       "      <th>697</th>\n",
       "      <td>2013-09-14</td>\n",
       "      <td>male</td>\n",
       "      <td>462</td>\n",
       "    </tr>\n",
       "    <tr>\n",
       "      <th>698</th>\n",
       "      <td>2013-09-15</td>\n",
       "      <td>female</td>\n",
       "      <td>230</td>\n",
       "    </tr>\n",
       "    <tr>\n",
       "      <th>699</th>\n",
       "      <td>2013-09-15</td>\n",
       "      <td>male</td>\n",
       "      <td>522</td>\n",
       "    </tr>\n",
       "  </tbody>\n",
       "</table>\n",
       "<p>700 rows × 3 columns</p>\n",
       "</div>"
      ],
      "text/plain": [
       "      sale_day purchaser_gender  sales_amount\n",
       "0   2012-10-01           female           413\n",
       "1   2012-10-01             male           101\n",
       "2   2012-10-02           female           379\n",
       "3   2012-10-02             male           103\n",
       "4   2012-10-03           female           386\n",
       "..         ...              ...           ...\n",
       "695 2013-09-13             male           537\n",
       "696 2013-09-14           female           193\n",
       "697 2013-09-14             male           462\n",
       "698 2013-09-15           female           230\n",
       "699 2013-09-15             male           522\n",
       "\n",
       "[700 rows x 3 columns]"
      ]
     },
     "execution_count": 18,
     "metadata": {},
     "output_type": "execute_result"
    }
   ],
   "source": [
    "gender_portions_df"
   ]
  },
  {
   "cell_type": "markdown",
   "id": "3ff13a63",
   "metadata": {},
   "source": [
    "After filtering the previous dataset by female and male genders, we can obtain female_sales_amount and male_sales_amount columns for each day."
   ]
  },
  {
   "cell_type": "code",
   "execution_count": 19,
   "id": "4ce3065a",
   "metadata": {},
   "outputs": [
    {
     "data": {
      "text/html": [
       "<div>\n",
       "<style scoped>\n",
       "    .dataframe tbody tr th:only-of-type {\n",
       "        vertical-align: middle;\n",
       "    }\n",
       "\n",
       "    .dataframe tbody tr th {\n",
       "        vertical-align: top;\n",
       "    }\n",
       "\n",
       "    .dataframe thead th {\n",
       "        text-align: right;\n",
       "    }\n",
       "</style>\n",
       "<table border=\"1\" class=\"dataframe\">\n",
       "  <thead>\n",
       "    <tr style=\"text-align: right;\">\n",
       "      <th></th>\n",
       "      <th>sale_day</th>\n",
       "      <th>female_sales_amount</th>\n",
       "      <th>male_sales_amount</th>\n",
       "    </tr>\n",
       "  </thead>\n",
       "  <tbody>\n",
       "    <tr>\n",
       "      <th>345</th>\n",
       "      <td>2013-09-11</td>\n",
       "      <td>224</td>\n",
       "      <td>495</td>\n",
       "    </tr>\n",
       "    <tr>\n",
       "      <th>346</th>\n",
       "      <td>2013-09-12</td>\n",
       "      <td>225</td>\n",
       "      <td>510</td>\n",
       "    </tr>\n",
       "    <tr>\n",
       "      <th>347</th>\n",
       "      <td>2013-09-13</td>\n",
       "      <td>206</td>\n",
       "      <td>537</td>\n",
       "    </tr>\n",
       "    <tr>\n",
       "      <th>348</th>\n",
       "      <td>2013-09-14</td>\n",
       "      <td>193</td>\n",
       "      <td>462</td>\n",
       "    </tr>\n",
       "    <tr>\n",
       "      <th>349</th>\n",
       "      <td>2013-09-15</td>\n",
       "      <td>230</td>\n",
       "      <td>522</td>\n",
       "    </tr>\n",
       "  </tbody>\n",
       "</table>\n",
       "</div>"
      ],
      "text/plain": [
       "      sale_day  female_sales_amount  male_sales_amount\n",
       "345 2013-09-11                  224                495\n",
       "346 2013-09-12                  225                510\n",
       "347 2013-09-13                  206                537\n",
       "348 2013-09-14                  193                462\n",
       "349 2013-09-15                  230                522"
      ]
     },
     "execution_count": 19,
     "metadata": {},
     "output_type": "execute_result"
    }
   ],
   "source": [
    "# calculate female and male sales amount separately\n",
    "new_df = pd.DataFrame(gender_portions_df['sale_day'].unique(),columns=['sale_day'])\n",
    "new_df['female_sales_amount'] = pd.Series(gender_portions_df[gender_portions_df.purchaser_gender == 'female']['sales_amount']).reset_index(drop=True)\n",
    "new_df['male_sales_amount'] = pd.Series(gender_portions_df[gender_portions_df.purchaser_gender == 'male']['sales_amount']).reset_index(drop=True)\n",
    "new_df[-5:]"
   ]
  },
  {
   "cell_type": "markdown",
   "id": "58ce0134",
   "metadata": {},
   "source": [
    "With our new columns, we basically divide male_sales_amount to female_sales_amount to calculate gender ratio among customers per day."
   ]
  },
  {
   "cell_type": "code",
   "execution_count": 20,
   "id": "c248d2e1",
   "metadata": {},
   "outputs": [
    {
     "data": {
      "text/html": [
       "<div>\n",
       "<style scoped>\n",
       "    .dataframe tbody tr th:only-of-type {\n",
       "        vertical-align: middle;\n",
       "    }\n",
       "\n",
       "    .dataframe tbody tr th {\n",
       "        vertical-align: top;\n",
       "    }\n",
       "\n",
       "    .dataframe thead th {\n",
       "        text-align: right;\n",
       "    }\n",
       "</style>\n",
       "<table border=\"1\" class=\"dataframe\">\n",
       "  <thead>\n",
       "    <tr style=\"text-align: right;\">\n",
       "      <th></th>\n",
       "      <th>sale_day</th>\n",
       "      <th>female_sales_amount</th>\n",
       "      <th>male_sales_amount</th>\n",
       "      <th>gender_ratio</th>\n",
       "    </tr>\n",
       "  </thead>\n",
       "  <tbody>\n",
       "    <tr>\n",
       "      <th>0</th>\n",
       "      <td>2012-10-01</td>\n",
       "      <td>413</td>\n",
       "      <td>101</td>\n",
       "      <td>0.244552</td>\n",
       "    </tr>\n",
       "    <tr>\n",
       "      <th>1</th>\n",
       "      <td>2012-10-02</td>\n",
       "      <td>379</td>\n",
       "      <td>103</td>\n",
       "      <td>0.271768</td>\n",
       "    </tr>\n",
       "    <tr>\n",
       "      <th>2</th>\n",
       "      <td>2012-10-03</td>\n",
       "      <td>386</td>\n",
       "      <td>113</td>\n",
       "      <td>0.292746</td>\n",
       "    </tr>\n",
       "    <tr>\n",
       "      <th>3</th>\n",
       "      <td>2012-10-04</td>\n",
       "      <td>432</td>\n",
       "      <td>114</td>\n",
       "      <td>0.263889</td>\n",
       "    </tr>\n",
       "    <tr>\n",
       "      <th>4</th>\n",
       "      <td>2012-10-05</td>\n",
       "      <td>368</td>\n",
       "      <td>108</td>\n",
       "      <td>0.293478</td>\n",
       "    </tr>\n",
       "  </tbody>\n",
       "</table>\n",
       "</div>"
      ],
      "text/plain": [
       "    sale_day  female_sales_amount  male_sales_amount  gender_ratio\n",
       "0 2012-10-01                  413                101      0.244552\n",
       "1 2012-10-02                  379                103      0.271768\n",
       "2 2012-10-03                  386                113      0.292746\n",
       "3 2012-10-04                  432                114      0.263889\n",
       "4 2012-10-05                  368                108      0.293478"
      ]
     },
     "execution_count": 20,
     "metadata": {},
     "output_type": "execute_result"
    }
   ],
   "source": [
    "# calculate gender ratio of sales\n",
    "new_df['gender_ratio'] = new_df['male_sales_amount']/new_df['female_sales_amount']\n",
    "new_df.head()"
   ]
  },
  {
   "cell_type": "markdown",
   "id": "04fe8de1",
   "metadata": {},
   "source": [
    "Now, we will plot gender ratio change over 50 weeks with the total sales amount to observe if there is a correlation between them. _secondary_y_ argument of _plot( )_ function solves the problem of having two different scales in one plot. It rescales the secondary y with a new y axis in the right side of plot."
   ]
  },
  {
   "cell_type": "code",
   "execution_count": 21,
   "id": "fd2821b7",
   "metadata": {},
   "outputs": [
    {
     "data": {
      "image/png": "[encoded data removed]",
      "text/plain": [
       "<Figure size 576x432 with 2 Axes>"
      ]
     },
     "metadata": {
      "needs_background": "light"
     },
     "output_type": "display_data"
    }
   ],
   "source": [
    "# copy() function creates a new dataframe as a copy of the given dataframe\n",
    "plot_df = new_df.copy()\n",
    "plot_df['total_sales_amount']  = plot_df['male_sales_amount'] + plot_df['female_sales_amount']\n",
    "\n",
    "# do not need anymore sales amounts by gender,we used them to calculate gender ratio\n",
    "plot_df.drop(columns=['female_sales_amount', 'male_sales_amount'], inplace=True)\n",
    "plot_df.index = plot_df['sale_day']\n",
    "plot_df.drop(columns=['sale_day'], inplace=True)\n",
    "plot_df.plot(secondary_y = ['gender_ratio'],figsize=FIG_SIZE, title= \"Gender ratio and sales amount over all 50 weeks\")\n",
    "plt.show()"
   ]
  },
  {
   "cell_type": "markdown",
   "id": "548e1c7a",
   "metadata": {},
   "source": [
    "The increase trend of male ratio in the sales amount does not explain the sudden change. The reason should be something different. For example, it might be caused by starting a new marketing campaign or adding a new feature to the website."
   ]
  },
  {
   "cell_type": "markdown",
   "id": "3c93282f",
   "metadata": {},
   "source": [
    "## Question 5\n",
    "\n",
    "**Assume a given day is divided into four dayparts: night (12:00AM - 6:00AM), morning (6:00AM to 12:00PM), afternoon (12:00PM to 6:00PM) and evening (6:00PM - 12:00AM). What is the percentage of sales in each daypart over all 50 weeks?**"
   ]
  },
  {
   "cell_type": "markdown",
   "id": "1b334610",
   "metadata": {},
   "source": [
    "To understand the sales amount distribution over particular parts of the day, we need to calculate specific sales amount within mentioned parts. Again, pandas datetime datatype help us to get hours in timestamps so we can divide the day to parts according to hours. Therefore, we start with changing initial dataset sale_time column to datetime object. We can check the datatypes with .dtypes."
   ]
  },
  {
   "cell_type": "code",
   "execution_count": 22,
   "id": "54952df1",
   "metadata": {},
   "outputs": [
    {
     "data": {
      "text/plain": [
       "sale_time                   object\n",
       "purchaser_gender            object\n",
       "sale_day            datetime64[ns]\n",
       "sale_hour                    int64\n",
       "dtype: object"
      ]
     },
     "execution_count": 22,
     "metadata": {},
     "output_type": "execute_result"
    }
   ],
   "source": [
    "# extract sale hour to divide sales to the part of days\n",
    "df['sale_hour']  = pd.to_datetime(df['sale_time']).dt.ceil('h').dt.hour\n",
    "df.dtypes"
   ]
  },
  {
   "cell_type": "markdown",
   "id": "37cb9dec",
   "metadata": {},
   "source": [
    "We can define functions to apply some manipulations on dataframe columns. The following function encodes the logic given in the question."
   ]
  },
  {
   "cell_type": "code",
   "execution_count": 23,
   "id": "8238994b",
   "metadata": {},
   "outputs": [],
   "source": [
    "# define a function to apply sale hour column to decide a part of day based on the mentioned logic\n",
    "def assign_day_part(sale_hour):\n",
    "    if sale_hour > 6 and sale_hour < 12:\n",
    "        return 'morning'\n",
    "    if sale_hour > 12 and sale_hour < 18:\n",
    "        return 'afternoon'\n",
    "    if sale_hour > 18 and sale_hour < 24:\n",
    "        return 'evening'\n",
    "    if sale_hour > -1 and sale_hour < 6:\n",
    "        return 'night'"
   ]
  },
  {
   "cell_type": "markdown",
   "id": "4575de3a",
   "metadata": {},
   "source": [
    "After defining the function, we can apply it with using a specific column of the dataframe as input with _apply( )_. It save us to iterate over the dataframe, so, reduces the complexity.   "
   ]
  },
  {
   "cell_type": "code",
   "execution_count": 24,
   "id": "0af713bf",
   "metadata": {},
   "outputs": [
    {
     "data": {
      "text/html": [
       "<div>\n",
       "<style scoped>\n",
       "    .dataframe tbody tr th:only-of-type {\n",
       "        vertical-align: middle;\n",
       "    }\n",
       "\n",
       "    .dataframe tbody tr th {\n",
       "        vertical-align: top;\n",
       "    }\n",
       "\n",
       "    .dataframe thead th {\n",
       "        text-align: right;\n",
       "    }\n",
       "</style>\n",
       "<table border=\"1\" class=\"dataframe\">\n",
       "  <thead>\n",
       "    <tr style=\"text-align: right;\">\n",
       "      <th></th>\n",
       "      <th>sale_day</th>\n",
       "      <th>day_part</th>\n",
       "    </tr>\n",
       "  </thead>\n",
       "  <tbody>\n",
       "    <tr>\n",
       "      <th>0</th>\n",
       "      <td>2013-01-07</td>\n",
       "      <td>night</td>\n",
       "    </tr>\n",
       "    <tr>\n",
       "      <th>1</th>\n",
       "      <td>2013-01-07</td>\n",
       "      <td>night</td>\n",
       "    </tr>\n",
       "    <tr>\n",
       "      <th>2</th>\n",
       "      <td>2013-01-07</td>\n",
       "      <td>night</td>\n",
       "    </tr>\n",
       "    <tr>\n",
       "      <th>3</th>\n",
       "      <td>2013-01-07</td>\n",
       "      <td>night</td>\n",
       "    </tr>\n",
       "    <tr>\n",
       "      <th>4</th>\n",
       "      <td>2013-01-07</td>\n",
       "      <td>night</td>\n",
       "    </tr>\n",
       "    <tr>\n",
       "      <th>...</th>\n",
       "      <td>...</td>\n",
       "      <td>...</td>\n",
       "    </tr>\n",
       "    <tr>\n",
       "      <th>4970</th>\n",
       "      <td>2013-08-18</td>\n",
       "      <td>night</td>\n",
       "    </tr>\n",
       "    <tr>\n",
       "      <th>4971</th>\n",
       "      <td>2013-08-18</td>\n",
       "      <td>night</td>\n",
       "    </tr>\n",
       "    <tr>\n",
       "      <th>4972</th>\n",
       "      <td>2013-08-18</td>\n",
       "      <td>night</td>\n",
       "    </tr>\n",
       "    <tr>\n",
       "      <th>4973</th>\n",
       "      <td>2013-08-18</td>\n",
       "      <td>night</td>\n",
       "    </tr>\n",
       "    <tr>\n",
       "      <th>4974</th>\n",
       "      <td>2013-08-18</td>\n",
       "      <td>night</td>\n",
       "    </tr>\n",
       "  </tbody>\n",
       "</table>\n",
       "<p>204329 rows × 2 columns</p>\n",
       "</div>"
      ],
      "text/plain": [
       "       sale_day day_part\n",
       "0    2013-01-07    night\n",
       "1    2013-01-07    night\n",
       "2    2013-01-07    night\n",
       "3    2013-01-07    night\n",
       "4    2013-01-07    night\n",
       "...         ...      ...\n",
       "4970 2013-08-18    night\n",
       "4971 2013-08-18    night\n",
       "4972 2013-08-18    night\n",
       "4973 2013-08-18    night\n",
       "4974 2013-08-18    night\n",
       "\n",
       "[204329 rows x 2 columns]"
      ]
     },
     "execution_count": 24,
     "metadata": {},
     "output_type": "execute_result"
    }
   ],
   "source": [
    "# apply the defined function and create day_part column\n",
    "df['day_part'] = df['sale_hour'].apply(assign_day_part)\n",
    "\n",
    "# drop unnecessary columns\n",
    "df.drop(columns = ['purchaser_gender', 'sale_hour', 'sale_time'], inplace= True)\n",
    "df"
   ]
  },
  {
   "cell_type": "markdown",
   "id": "d2145813",
   "metadata": {},
   "source": [
    "We can check some entries with different parts of the day."
   ]
  },
  {
   "cell_type": "code",
   "execution_count": 25,
   "id": "a4376172",
   "metadata": {},
   "outputs": [
    {
     "data": {
      "text/html": [
       "<div>\n",
       "<style scoped>\n",
       "    .dataframe tbody tr th:only-of-type {\n",
       "        vertical-align: middle;\n",
       "    }\n",
       "\n",
       "    .dataframe tbody tr th {\n",
       "        vertical-align: top;\n",
       "    }\n",
       "\n",
       "    .dataframe thead th {\n",
       "        text-align: right;\n",
       "    }\n",
       "</style>\n",
       "<table border=\"1\" class=\"dataframe\">\n",
       "  <thead>\n",
       "    <tr style=\"text-align: right;\">\n",
       "      <th></th>\n",
       "      <th>sale_day</th>\n",
       "      <th>day_part</th>\n",
       "    </tr>\n",
       "  </thead>\n",
       "  <tbody>\n",
       "    <tr>\n",
       "      <th>209</th>\n",
       "      <td>2013-01-07</td>\n",
       "      <td>afternoon</td>\n",
       "    </tr>\n",
       "    <tr>\n",
       "      <th>210</th>\n",
       "      <td>2013-01-07</td>\n",
       "      <td>afternoon</td>\n",
       "    </tr>\n",
       "    <tr>\n",
       "      <th>211</th>\n",
       "      <td>2013-01-07</td>\n",
       "      <td>afternoon</td>\n",
       "    </tr>\n",
       "    <tr>\n",
       "      <th>212</th>\n",
       "      <td>2013-01-07</td>\n",
       "      <td>afternoon</td>\n",
       "    </tr>\n",
       "    <tr>\n",
       "      <th>213</th>\n",
       "      <td>2013-01-07</td>\n",
       "      <td>afternoon</td>\n",
       "    </tr>\n",
       "    <tr>\n",
       "      <th>...</th>\n",
       "      <td>...</td>\n",
       "      <td>...</td>\n",
       "    </tr>\n",
       "    <tr>\n",
       "      <th>4796</th>\n",
       "      <td>2013-08-18</td>\n",
       "      <td>afternoon</td>\n",
       "    </tr>\n",
       "    <tr>\n",
       "      <th>4797</th>\n",
       "      <td>2013-08-18</td>\n",
       "      <td>afternoon</td>\n",
       "    </tr>\n",
       "    <tr>\n",
       "      <th>4798</th>\n",
       "      <td>2013-08-18</td>\n",
       "      <td>afternoon</td>\n",
       "    </tr>\n",
       "    <tr>\n",
       "      <th>4799</th>\n",
       "      <td>2013-08-18</td>\n",
       "      <td>afternoon</td>\n",
       "    </tr>\n",
       "    <tr>\n",
       "      <th>4800</th>\n",
       "      <td>2013-08-18</td>\n",
       "      <td>afternoon</td>\n",
       "    </tr>\n",
       "  </tbody>\n",
       "</table>\n",
       "<p>68119 rows × 2 columns</p>\n",
       "</div>"
      ],
      "text/plain": [
       "       sale_day   day_part\n",
       "209  2013-01-07  afternoon\n",
       "210  2013-01-07  afternoon\n",
       "211  2013-01-07  afternoon\n",
       "212  2013-01-07  afternoon\n",
       "213  2013-01-07  afternoon\n",
       "...         ...        ...\n",
       "4796 2013-08-18  afternoon\n",
       "4797 2013-08-18  afternoon\n",
       "4798 2013-08-18  afternoon\n",
       "4799 2013-08-18  afternoon\n",
       "4800 2013-08-18  afternoon\n",
       "\n",
       "[68119 rows x 2 columns]"
      ]
     },
     "execution_count": 25,
     "metadata": {},
     "output_type": "execute_result"
    }
   ],
   "source": [
    "df[df.day_part == 'afternoon']"
   ]
  },
  {
   "cell_type": "markdown",
   "id": "63fa455b",
   "metadata": {},
   "source": [
    "The only remaining step to answer the question is, calculating total sales amount per day part. We will use the _groupby( )_ function one last time to obtain total sales amount by day parts. Then we can divide each day part sales amount to total sales amount of all 50 weeks. We obtain the total sales amount with _sum( )_ function."
   ]
  },
  {
   "cell_type": "code",
   "execution_count": 26,
   "id": "4d210bff",
   "metadata": {},
   "outputs": [],
   "source": [
    "# calculate sales amount per day part\n",
    "df_pct_sales = df.groupby(df.day_part).size().reset_index(name='day_part_sales_amount')\n",
    "\n",
    "# calculate sales amount percentage per day part\n",
    "df_pct_sales['day_part_sales_percentage'] = df_pct_sales['day_part_sales_amount'] / df_pct_sales['day_part_sales_amount'].sum()"
   ]
  },
  {
   "cell_type": "code",
   "execution_count": 27,
   "id": "52238aba",
   "metadata": {},
   "outputs": [
    {
     "data": {
      "text/html": [
       "<div>\n",
       "<style scoped>\n",
       "    .dataframe tbody tr th:only-of-type {\n",
       "        vertical-align: middle;\n",
       "    }\n",
       "\n",
       "    .dataframe tbody tr th {\n",
       "        vertical-align: top;\n",
       "    }\n",
       "\n",
       "    .dataframe thead th {\n",
       "        text-align: right;\n",
       "    }\n",
       "</style>\n",
       "<table border=\"1\" class=\"dataframe\">\n",
       "  <thead>\n",
       "    <tr style=\"text-align: right;\">\n",
       "      <th></th>\n",
       "      <th>day_part</th>\n",
       "      <th>day_part_sales_amount</th>\n",
       "      <th>day_part_sales_percentage</th>\n",
       "    </tr>\n",
       "  </thead>\n",
       "  <tbody>\n",
       "    <tr>\n",
       "      <th>0</th>\n",
       "      <td>afternoon</td>\n",
       "      <td>68119</td>\n",
       "      <td>0.394595</td>\n",
       "    </tr>\n",
       "    <tr>\n",
       "      <th>1</th>\n",
       "      <td>evening</td>\n",
       "      <td>41111</td>\n",
       "      <td>0.238145</td>\n",
       "    </tr>\n",
       "    <tr>\n",
       "      <th>2</th>\n",
       "      <td>morning</td>\n",
       "      <td>49833</td>\n",
       "      <td>0.288669</td>\n",
       "    </tr>\n",
       "    <tr>\n",
       "      <th>3</th>\n",
       "      <td>night</td>\n",
       "      <td>13567</td>\n",
       "      <td>0.078590</td>\n",
       "    </tr>\n",
       "  </tbody>\n",
       "</table>\n",
       "</div>"
      ],
      "text/plain": [
       "    day_part  day_part_sales_amount  day_part_sales_percentage\n",
       "0  afternoon                  68119                   0.394595\n",
       "1    evening                  41111                   0.238145\n",
       "2    morning                  49833                   0.288669\n",
       "3      night                  13567                   0.078590"
      ]
     },
     "execution_count": 27,
     "metadata": {},
     "output_type": "execute_result"
    }
   ],
   "source": [
    "df_pct_sales"
   ]
  },
  {
   "cell_type": "markdown",
   "id": "66db3213",
   "metadata": {},
   "source": [
    "As a conclusion, we can say the customers of this company do more shopping in afternoon and very less shopping in nights."
   ]
  },
  {
   "cell_type": "code",
   "execution_count": null,
   "id": "196b05a0",
   "metadata": {},
   "outputs": [],
   "source": []
  }
 ],
 "metadata": {
  "kernelspec": {
   "display_name": "Python 3 (ipykernel)",
   "language": "python",
   "name": "python3"
  },
  "language_info": {
   "codemirror_mode": {
    "name": "ipython",
    "version": 3
   },
   "file_extension": ".py",
   "mimetype": "text/x-python",
   "name": "python",
   "nbconvert_exporter": "python",
   "pygments_lexer": "ipython3",
   "version": "3.8.8"
  }
 },
 "nbformat": 4,
 "nbformat_minor": 5
}
