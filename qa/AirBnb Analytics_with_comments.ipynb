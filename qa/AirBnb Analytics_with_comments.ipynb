{
 "cells": [
  {
   "cell_type": "markdown",
   "id": "1f282960",
   "metadata": {},
   "source": [
    "# AirBnB Analytics Specialist Take Home Solution"
   ]
  },
  {
   "cell_type": "markdown",
   "id": "458e87aa",
   "metadata": {},
   "source": [
    "**Overview and Instructions:**\n",
    "\n",
    "AirBnB wants to understand\n",
    "   - What guests are searching in Dublin\n",
    "   - Which inquiries hosts tend to accept\n",
    "   - What gaps exist between guest demand and host supply\n",
    "   - Any other information that deepens the understanding of the data\n",
    "    \n",
    "Goal is to analyze, understand, visualize, and communicate the demand/supply of the market in Dublin\n",
    "\n",
    "You should:\n",
    "   - Create a pdf presentation with a maximum of 15 slides with relevant tables, graphs, visualizations\n",
    "   - Attach a pdf of code\n",
    "   - Take no more than 3-6 hours\n",
    "    \n",
    "Evaluated based on:\n",
    "   - Aesthetics of presentation\n",
    "   - Analysis including graphs, tables, and visualiations\n",
    "   - Data decisions you made and style of coding\n",
    "   - How well you followed directions"
   ]
  },
  {
   "cell_type": "markdown",
   "id": "105f190f",
   "metadata": {},
   "source": [
    "**Datasets**\n",
    "\n",
    "There are 2 datasets\n",
    "1. searches.tsv - Contains a row for each set of searches that a user does for Dublin\n",
    "2. contacts.tsv - contains a row for every time that an assigned visitor makes an inquiry for a stay in a listing in Dublin\n",
    "\n",
    "Searches dataset contains the following columns:\n",
    "   - ds - Date of the search\n",
    "   - id_user - Alphanumeric user_id\n",
    "   - ds_checkin - Date stamp of the check-in date of the search\n",
    "   - ds_checkout - Date stamp of the check-out date of the search\n",
    "   - n_searches - Number of searches in the search set\n",
    "   - n_nights - The number of nights the search was for\n",
    "   - n_guests_min - The minimum number of guests selected in a search set\n",
    "   - n_guests_max - The maximum number of guests selected in a search set\n",
    "   - origin_country - The country the search was from\n",
    "   - filter_price_min - The value of the lower bound of the price filter, if the user used it\n",
    "   - filter_price_max - The value of the upper bound of the price filter, if the user used it\n",
    "   - filter_room_types - The room types that the user filtered by, if the user used the room_types filter\n",
    "   - filter_neighborhoods - The neighborhoods types that the user filtered by, if the user used the neighborhoods filter\n",
    "\n",
    "Contacts dataset contains the following columns:\n",
    "   - id_guest - Alphanumeric user_id of the guest making the inquiry\n",
    "   - id_host - Alphanumeric user_id of the host of the listing to which the inquiry is made\n",
    "   - id_listing - Alphanumeric identifier for the listing to which the inquiry is made\n",
    "   - ts_contact_at - UTC timestamp of the moment the inquiry is made.\n",
    "   - ts_reply_at - UTC timestamp of the moment the host replies to the inquiry, if so\n",
    "   - ts_accepted_at - UTC timestamp of the moment the host accepts the inquiry, if so\n",
    "   - ts_booking_at - UTC timestamp of the moment the booking is made, if so\n",
    "   - ds_checkin - Date stamp of the check-in date of the inquiry\n",
    "   - ds_checkout - Date stamp of the check-out date of the inquiry\n",
    "   - n_guests - The number of guests the inquiry is for\n",
    "   - n_messages - The total number of messages that were sent around this inquiry"
   ]
  },
  {
   "cell_type": "markdown",
   "id": "31778db4",
   "metadata": {},
   "source": [
    "## Data Exploration"
   ]
  },
  {
   "cell_type": "markdown",
   "id": "2ccad47f",
   "metadata": {},
   "source": [
    "Before thinking about which regression techniques or classification algorithms to apply, you need to first understand the dataset. \n",
    "\n",
    "First we will import relevant libraries and datasets.\n",
    "-- Pandas is used for creating and manipulating datasets\n",
    "-- Numpy is used for computing value\n",
    "-- Seaborn and Matplotlib are used for creating visualization"
   ]
  },
  {
   "cell_type": "code",
   "execution_count": 60,
   "id": "c8626eaf-1b2a-4eb4-9721-579464497f22",
   "metadata": {},
   "outputs": [],
   "source": [
    "#Import libraries/dataset\n",
    "import pandas as pd\n",
    "import numpy as np\n",
    "import seaborn as sns\n",
    "import matplotlib.pyplot as plt\n",
    "\n",
    "contacts_file = (\"/Volumes/GoogleDrive-111543480941895333768/My Drive/Projects/StrataScratch/AirBnb Take Home/contacts.tsv\")\n",
    "contacts = pd.read_csv(contacts_file, sep=\"\\t\")\n",
    "\n",
    "searches_file = (\"/Volumes/GoogleDrive-111543480941895333768/My Drive/Projects/StrataScratch/AirBnb Take Home/searches.tsv\")\n",
    "searches = pd.read_csv(searches_file, sep=\"\\t\")"
   ]
  },
  {
   "cell_type": "markdown",
   "id": "9d321018",
   "metadata": {},
   "source": [
    "Remove columns with high null values % since this could lead to an inaccurate model "
   ]
  },
  {
   "cell_type": "code",
   "execution_count": 61,
   "id": "11b839b3",
   "metadata": {},
   "outputs": [
    {
     "name": "stdout",
     "output_type": "stream",
     "text": [
      "Contacts\n",
      "id_guest          0.000000\n",
      "id_host           0.000000\n",
      "id_listing        0.000000\n",
      "ts_contact_at     0.000000\n",
      "ts_reply_at       0.077208\n",
      "ts_accepted_at    0.536367\n",
      "ts_booking_at     0.722101\n",
      "ds_checkin        0.000000\n",
      "ds_checkout       0.000000\n",
      "n_guests          0.000000\n",
      "n_messages        0.000000\n",
      "dtype: float64\n",
      "Searches\n",
      "ds                      0.000000\n",
      "id_user                 0.000000\n",
      "ds_checkin              0.331561\n",
      "ds_checkout             0.331561\n",
      "n_searches              0.000000\n",
      "n_nights                0.331561\n",
      "n_guests_min            0.000000\n",
      "n_guests_max            0.000000\n",
      "origin_country          0.000000\n",
      "filter_price_min        0.627221\n",
      "filter_price_max        0.627221\n",
      "filter_room_types       0.546940\n",
      "filter_neighborhoods    0.962336\n",
      "dtype: float64\n"
     ]
    }
   ],
   "source": [
    "#Find % of null values in datasets \n",
    "print('Contacts')\n",
    "print(contacts.isna().sum()/len(contacts))\n",
    "print('Searches')\n",
    "print(searches.isna().sum()/len(searches))"
   ]
  },
  {
   "cell_type": "markdown",
   "id": "8d417966",
   "metadata": {},
   "source": [
    "The neighborhood column in searches has 96.2336% of null values. This could lead to inaccurate assumptions about the demand from people. When looking through the column, 'City Centre' was a common choice, so this should be investigated further with more data."
   ]
  },
  {
   "cell_type": "markdown",
   "id": "bf11949e",
   "metadata": {},
   "source": [
    "## Searches Dataset"
   ]
  },
  {
   "cell_type": "code",
   "execution_count": 62,
   "id": "80f4990e",
   "metadata": {},
   "outputs": [],
   "source": [
    "#Drop filter_neighborhoods column\n",
    "\n",
    "searches = searches.drop(columns=['filter_neighborhoods'])"
   ]
  },
  {
   "cell_type": "markdown",
   "id": "5fd9dc9b",
   "metadata": {},
   "source": [
    "Certain models can be more accurate or process faster if its variables had more suitable data types "
   ]
  },
  {
   "cell_type": "code",
   "execution_count": 63,
   "id": "d4df4a54",
   "metadata": {},
   "outputs": [
    {
     "data": {
      "text/plain": [
       "ds                    object\n",
       "id_user               object\n",
       "ds_checkin            object\n",
       "ds_checkout           object\n",
       "n_searches             int64\n",
       "n_nights             float64\n",
       "n_guests_min           int64\n",
       "n_guests_max           int64\n",
       "origin_country        object\n",
       "filter_price_min     float64\n",
       "filter_price_max     float64\n",
       "filter_room_types     object\n",
       "dtype: object"
      ]
     },
     "execution_count": 63,
     "metadata": {},
     "output_type": "execute_result"
    }
   ],
   "source": [
    "#Checking the data types of the columns in the searches dataset\n",
    "searches.dtypes"
   ]
  },
  {
   "cell_type": "markdown",
   "id": "2f75b440",
   "metadata": {},
   "source": [
    "As seen, the date columns (ds, ds_checkin, ds_checkout) are object types. These columns can be convereted to datatime type for easier manipulation.\n",
    "\n",
    "I was wondering if how soon people want their rooms could yield any useful information. I would calculate this by finding the difference between ds (date search) column and ds_checkin (date check in) column. I believe a distribution of this column would be useful since we can find how soon do people start planning their trips. This could lead to better business decisions."
   ]
  },
  {
   "cell_type": "code",
   "execution_count": 64,
   "id": "176e6fae-edfe-428a-9100-63e01ef17afc",
   "metadata": {},
   "outputs": [],
   "source": [
    "#Manipulation of searches dataset\n",
    "\n",
    "#Convert date column to datetime data type for easier analysis\n",
    "searches['ds'] = pd.to_datetime(searches['ds'])\n",
    "searches['ds_checkin'] = pd.to_datetime(searches['ds_checkin'])\n",
    "searches['ds_checkout'] = pd.to_datetime(searches['ds_checkout'])\n",
    "\n",
    "#How soon they want the room\n",
    "searches['length_preperation'] = searches['ds_checkin'] - searches['ds']"
   ]
  },
  {
   "cell_type": "markdown",
   "id": "f2dbe41a",
   "metadata": {},
   "source": [
    "The describe function displays a 8 number summary to understand the distribution of the dataset. This is helpful to understand if there are any obvious skewness or outliers in the dataset that could be fixed quickly. "
   ]
  },
  {
   "cell_type": "code",
   "execution_count": 65,
   "id": "5b75a236-8191-44c8-aafa-85386e27832b",
   "metadata": {
    "scrolled": false
   },
   "outputs": [
    {
     "data": {
      "text/html": [
       "<div>\n",
       "<style scoped>\n",
       "    .dataframe tbody tr th:only-of-type {\n",
       "        vertical-align: middle;\n",
       "    }\n",
       "\n",
       "    .dataframe tbody tr th {\n",
       "        vertical-align: top;\n",
       "    }\n",
       "\n",
       "    .dataframe thead th {\n",
       "        text-align: right;\n",
       "    }\n",
       "</style>\n",
       "<table border=\"1\" class=\"dataframe\">\n",
       "  <thead>\n",
       "    <tr style=\"text-align: right;\">\n",
       "      <th></th>\n",
       "      <th>n_searches</th>\n",
       "      <th>n_nights</th>\n",
       "      <th>n_guests_min</th>\n",
       "      <th>n_guests_max</th>\n",
       "      <th>filter_price_min</th>\n",
       "      <th>filter_price_max</th>\n",
       "      <th>length_preperation</th>\n",
       "    </tr>\n",
       "  </thead>\n",
       "  <tbody>\n",
       "    <tr>\n",
       "      <th>count</th>\n",
       "      <td>35737.000000</td>\n",
       "      <td>23888.000000</td>\n",
       "      <td>35737.000000</td>\n",
       "      <td>35737.000000</td>\n",
       "      <td>13322.000000</td>\n",
       "      <td>1.332200e+04</td>\n",
       "      <td>23888</td>\n",
       "    </tr>\n",
       "    <tr>\n",
       "      <th>mean</th>\n",
       "      <td>9.206565</td>\n",
       "      <td>7.672765</td>\n",
       "      <td>1.742955</td>\n",
       "      <td>2.105857</td>\n",
       "      <td>8.470200</td>\n",
       "      <td>9.019063e+07</td>\n",
       "      <td>51 days 08:11:53.730743469</td>\n",
       "    </tr>\n",
       "    <tr>\n",
       "      <th>std</th>\n",
       "      <td>17.348746</td>\n",
       "      <td>21.557614</td>\n",
       "      <td>1.460440</td>\n",
       "      <td>1.817358</td>\n",
       "      <td>53.987679</td>\n",
       "      <td>2.978482e+08</td>\n",
       "      <td>65 days 18:56:19.491940518</td>\n",
       "    </tr>\n",
       "    <tr>\n",
       "      <th>min</th>\n",
       "      <td>1.000000</td>\n",
       "      <td>0.000000</td>\n",
       "      <td>1.000000</td>\n",
       "      <td>1.000000</td>\n",
       "      <td>0.000000</td>\n",
       "      <td>9.000000e+00</td>\n",
       "      <td>-1 days +00:00:00</td>\n",
       "    </tr>\n",
       "    <tr>\n",
       "      <th>25%</th>\n",
       "      <td>1.000000</td>\n",
       "      <td>2.000000</td>\n",
       "      <td>1.000000</td>\n",
       "      <td>1.000000</td>\n",
       "      <td>0.000000</td>\n",
       "      <td>8.600000e+01</td>\n",
       "      <td>10 days 00:00:00</td>\n",
       "    </tr>\n",
       "    <tr>\n",
       "      <th>50%</th>\n",
       "      <td>4.000000</td>\n",
       "      <td>3.000000</td>\n",
       "      <td>1.000000</td>\n",
       "      <td>2.000000</td>\n",
       "      <td>0.000000</td>\n",
       "      <td>1.390000e+02</td>\n",
       "      <td>26 days 00:00:00</td>\n",
       "    </tr>\n",
       "    <tr>\n",
       "      <th>75%</th>\n",
       "      <td>10.000000</td>\n",
       "      <td>5.000000</td>\n",
       "      <td>2.000000</td>\n",
       "      <td>2.000000</td>\n",
       "      <td>0.000000</td>\n",
       "      <td>3.010000e+02</td>\n",
       "      <td>67 days 00:00:00</td>\n",
       "    </tr>\n",
       "    <tr>\n",
       "      <th>max</th>\n",
       "      <td>448.000000</td>\n",
       "      <td>399.000000</td>\n",
       "      <td>16.000000</td>\n",
       "      <td>16.000000</td>\n",
       "      <td>1250.000000</td>\n",
       "      <td>1.073742e+09</td>\n",
       "      <td>604 days 00:00:00</td>\n",
       "    </tr>\n",
       "  </tbody>\n",
       "</table>\n",
       "</div>"
      ],
      "text/plain": [
       "         n_searches      n_nights  n_guests_min  n_guests_max  \\\n",
       "count  35737.000000  23888.000000  35737.000000  35737.000000   \n",
       "mean       9.206565      7.672765      1.742955      2.105857   \n",
       "std       17.348746     21.557614      1.460440      1.817358   \n",
       "min        1.000000      0.000000      1.000000      1.000000   \n",
       "25%        1.000000      2.000000      1.000000      1.000000   \n",
       "50%        4.000000      3.000000      1.000000      2.000000   \n",
       "75%       10.000000      5.000000      2.000000      2.000000   \n",
       "max      448.000000    399.000000     16.000000     16.000000   \n",
       "\n",
       "       filter_price_min  filter_price_max          length_preperation  \n",
       "count      13322.000000      1.332200e+04                       23888  \n",
       "mean           8.470200      9.019063e+07  51 days 08:11:53.730743469  \n",
       "std           53.987679      2.978482e+08  65 days 18:56:19.491940518  \n",
       "min            0.000000      9.000000e+00           -1 days +00:00:00  \n",
       "25%            0.000000      8.600000e+01            10 days 00:00:00  \n",
       "50%            0.000000      1.390000e+02            26 days 00:00:00  \n",
       "75%            0.000000      3.010000e+02            67 days 00:00:00  \n",
       "max         1250.000000      1.073742e+09           604 days 00:00:00  "
      ]
     },
     "metadata": {},
     "output_type": "display_data"
    }
   ],
   "source": [
    "#Describe searches dataset\n",
    "\n",
    "display(searches.describe())"
   ]
  },
  {
   "cell_type": "markdown",
   "id": "d7a69013",
   "metadata": {},
   "source": [
    "This shows that number of guests usually 1 or 2. This can be understood since at even at 75% the n_guests_min and n_guests_max is 2 and at 25% is 1. Leads to believe that smaller accomodations are preferred."
   ]
  },
  {
   "cell_type": "markdown",
   "id": "1b376ae7",
   "metadata": {},
   "source": [
    "Now to calculate the skewness of the dataset. Skewness is where the distribution of the values lean towards a specific side from the normal distribution. For example, if a lot of students scored above 90 in a test on a 0-100 range, the graph will be skewed to the right.\n",
    "\n",
    "The problem with skewness is most models and diagnostic tests assume normality (normal distribution). Here we calculate the skewness of the dataset through the Fisher-Pearson coefficient."
   ]
  },
  {
   "cell_type": "code",
   "execution_count": 66,
   "id": "f5a1ea3e",
   "metadata": {},
   "outputs": [
    {
     "data": {
      "text/plain": [
       "n_searches           7.509258\n",
       "n_nights             9.942364\n",
       "n_guests_min         3.583798\n",
       "n_guests_max         3.148548\n",
       "filter_price_min    11.087745\n",
       "filter_price_max     2.999833\n",
       "dtype: float64"
      ]
     },
     "metadata": {},
     "output_type": "display_data"
    }
   ],
   "source": [
    "#Calculate skewness in searches dataset\n",
    "\n",
    "display(searches.skew(axis = 0, numeric_only = True, skipna = True))"
   ]
  },
  {
   "cell_type": "markdown",
   "id": "132d37cb",
   "metadata": {},
   "source": [
    "All numeric columns have a Fisher-Pearson coefficient value greater than 1. This results in a positive skewness. With more time, I would have used a transformation method such as log transformation to reduce the skewness."
   ]
  },
  {
   "cell_type": "markdown",
   "id": "92af0fec",
   "metadata": {},
   "source": [
    "## TIP\n",
    "\n",
    "Your take home tests will give you a time limit ranging from 1 hour to 72 hours. Due to this time limit, there may be certain models you want to implement or apply a transformation to the dataset. It is important to be vigilant about time and follow the directions as strict as possible. If you realize there is a certain component you want to add but don't have enough time, apply it as a code in your solution.\n",
    "\n",
    "For this AirBnb project, all the columns have a Fisher-Pearson coeffcieint value greater than 1. This means the data is skewed. I could use a transformation technique to fix this problem and create a more accurate model. Unforutnately there is a 6h time limit, so I can not implement it. I would write a comment about this (as I did right above) to indicate I have indicated a problem and would apply this solution if I had more time. "
   ]
  },
  {
   "cell_type": "markdown",
   "id": "e56a111a",
   "metadata": {},
   "source": [
    "## Distributions"
   ]
  },
  {
   "cell_type": "markdown",
   "id": "ccb531ff",
   "metadata": {},
   "source": [
    "Now let's find the distribution of values in the columns.\n",
    "\n",
    "First let's start with minimum and maximum guests. Here we can find number of people searched for when booking rooms."
   ]
  },
  {
   "cell_type": "code",
   "execution_count": 67,
   "id": "e5389d2c",
   "metadata": {},
   "outputs": [
    {
     "data": {
      "text/plain": [
       "<seaborn.axisgrid.FacetGrid at 0x7fe2a8d365b0>"
      ]
     },
     "execution_count": 67,
     "metadata": {},
     "output_type": "execute_result"
    },
    {
     "data": {
      "image/png": "[encoded data removed]",
      "text/plain": [
       "<Figure size 360x360 with 1 Axes>"
      ]
     },
     "metadata": {
      "needs_background": "light"
     },
     "output_type": "display_data"
    },
    {
     "data": {
      "image/png": "[encoded data removed]",
      "text/plain": [
       "<Figure size 360x360 with 1 Axes>"
      ]
     },
     "metadata": {
      "needs_background": "light"
     },
     "output_type": "display_data"
    }
   ],
   "source": [
    "#Distribution plot of n_guests_min and n_guests_max\n",
    "sns.displot(searches, x = 'n_guests_min', color = 'brown')\n",
    "sns.displot(searches, x = 'n_guests_max', color = 'black')"
   ]
  },
  {
   "cell_type": "markdown",
   "id": "e63361c1",
   "metadata": {},
   "source": [
    "Both have similar distributions with 1 being the most popular option and 2 being the next popular option. This leads me to believe smaller accomodations would be a good investment for in Dublin."
   ]
  },
  {
   "cell_type": "markdown",
   "id": "0f567950",
   "metadata": {},
   "source": [
    "Next let's find out when are people making these searches. With this we could calculate when do people start thinking about going to Dublin for vacation for ads."
   ]
  },
  {
   "cell_type": "code",
   "execution_count": 68,
   "id": "17bad4aa",
   "metadata": {},
   "outputs": [
    {
     "data": {
      "text/plain": [
       "[[None,\n",
       "  None,\n",
       "  None,\n",
       "  None,\n",
       "  None,\n",
       "  None,\n",
       "  None,\n",
       "  None,\n",
       "  None,\n",
       "  None,\n",
       "  None,\n",
       "  None,\n",
       "  None,\n",
       "  None]]"
      ]
     },
     "execution_count": 68,
     "metadata": {},
     "output_type": "execute_result"
    },
    {
     "data": {
      "image/png": "[encoded data removed]",
      "text/plain": [
       "<Figure size 360x360 with 1 Axes>"
      ]
     },
     "metadata": {
      "needs_background": "light"
     },
     "output_type": "display_data"
    }
   ],
   "source": [
    "#When were searches conducted\n",
    "\n",
    "ax = sns.displot(searches, x = 'ds', color = 'brown')\n",
    "[plt.setp(ax.get_xticklabels(), rotation=90) for ax in ax.axes.flat]"
   ]
  },
  {
   "cell_type": "markdown",
   "id": "43014adc",
   "metadata": {},
   "source": [
    "Noticed all date searches was between October 1st to October 14th. No major variation between when search was conducted between these dates."
   ]
  },
  {
   "cell_type": "markdown",
   "id": "fe8e8780",
   "metadata": {},
   "source": [
    "Next let's understand what is the maximum price people are willing to pay for a room.\n",
    "Airbnb's website automatically sets the maximum price as 1073742000 and certain prices are so low in the count that it is negligible. So we set the maximum price with a relevant count as 600. 600 was chosen as the upper limit since only 5.31% of the dataset has values greater than 600.\n",
    "\n",
    "Filter_price_max was chosen instead of filter_price_min due to the minimum set as $10 on Airbnb's website."
   ]
  },
  {
   "cell_type": "code",
   "execution_count": 69,
   "id": "963e19be",
   "metadata": {},
   "outputs": [
    {
     "data": {
      "text/plain": [
       "0.053110221898872316"
      ]
     },
     "execution_count": 69,
     "metadata": {},
     "output_type": "execute_result"
    }
   ],
   "source": [
    "#Percentage of dataset with a filter_price_max above 600\n",
    "\n",
    "len(searches[searches['filter_price_max'] > 600])/len(searches['filter_price_max'])"
   ]
  },
  {
   "cell_type": "code",
   "execution_count": 70,
   "id": "edc47791",
   "metadata": {},
   "outputs": [
    {
     "data": {
      "text/plain": [
       "<seaborn.axisgrid.FacetGrid at 0x7fe2a837ad00>"
      ]
     },
     "execution_count": 70,
     "metadata": {},
     "output_type": "execute_result"
    },
    {
     "data": {
      "image/png": "[encoded data removed]",
      "text/plain": [
       "<Figure size 360x360 with 1 Axes>"
      ]
     },
     "metadata": {
      "needs_background": "light"
     },
     "output_type": "display_data"
    }
   ],
   "source": [
    "#Distribution of filter_price_max of searches\n",
    "\n",
    "#Removing the set upper limit\n",
    "searches_maxprice_removed = searches[searches['filter_price_max'] <= 600]\n",
    "\n",
    "#Distribution plot of filter_price_max column\n",
    "sns.displot(x=searches_maxprice_removed[\"filter_price_max\"], color = 'blue')"
   ]
  },
  {
   "cell_type": "markdown",
   "id": "70f73c55",
   "metadata": {},
   "source": [
    "Most people search for a room below $200/night with most searches around $100/night.\n",
    "59% of people searched for rooms between $60 and $130 a night."
   ]
  },
  {
   "cell_type": "markdown",
   "id": "81e93e60",
   "metadata": {},
   "source": [
    "Let's calculate how long soon people want rooms when booking. First we have to convert the length_preperation column to int data type for filtering. After that search for length_preperations less than 100, since only 9.4% of the dataset exists beyond that."
   ]
  },
  {
   "cell_type": "code",
   "execution_count": 71,
   "id": "0eb6622c",
   "metadata": {},
   "outputs": [
    {
     "data": {
      "text/plain": [
       "<seaborn.axisgrid.FacetGrid at 0x7fe2bb188f70>"
      ]
     },
     "execution_count": 71,
     "metadata": {},
     "output_type": "execute_result"
    },
    {
     "data": {
      "image/png": "[encoded data removed]",
      "text/plain": [
       "<Figure size 360x360 with 1 Axes>"
      ]
     },
     "metadata": {
      "needs_background": "light"
     },
     "output_type": "display_data"
    }
   ],
   "source": [
    "#Distribution of length_preperation of searches\n",
    "\n",
    "#Percentage of dataset beyond 100 days\n",
    "distribution = searches[\"length_preperation\"] / np.timedelta64(1, 'D')\n",
    "len(distribution[distribution > 100])/len(distribution)\n",
    "\n",
    "#Remove values beyond 100 days\n",
    "distribution = distribution[distribution < 100]\n",
    "\n",
    "#Distribution plot of length_preperation column\n",
    "sns.displot(x=distribution, color = 'green')\n"
   ]
  },
  {
   "cell_type": "markdown",
   "id": "fda1a0e2",
   "metadata": {},
   "source": [
    "Based on this data, around 37% of people search for a room within 2 weeks\n",
    "23.7% search for rooms within a week\n",
    "13.46% search for rooms between 1-2 weeks\n",
    "12.51% search for rooms between 2-3 weeks"
   ]
  },
  {
   "cell_type": "markdown",
   "id": "e6ad1ec7",
   "metadata": {},
   "source": [
    "Now let's find the distribution of number of nights people want to stay. \n",
    "Of course as before, we have to find the upper limit. In this case 4.74% of the dataset exists beyond 20 days, so we chose 20 as upper limit."
   ]
  },
  {
   "cell_type": "code",
   "execution_count": 72,
   "id": "5279229d",
   "metadata": {},
   "outputs": [
    {
     "data": {
      "text/plain": [
       "<seaborn.axisgrid.FacetGrid at 0x7fe298916fa0>"
      ]
     },
     "execution_count": 72,
     "metadata": {},
     "output_type": "execute_result"
    },
    {
     "data": {
      "image/png": "[encoded data removed]",
      "text/plain": [
       "<Figure size 360x360 with 1 Axes>"
      ]
     },
     "metadata": {
      "needs_background": "light"
     },
     "output_type": "display_data"
    }
   ],
   "source": [
    "#Distribution of n_nights of searches\n",
    "\n",
    "#Percentage of dataset beyond 20 nights\n",
    "len(searches[searches['n_nights'] > 20])/len(searches['n_nights']) \n",
    "\n",
    "#Remove n_nights beyond 20 days\n",
    "searches_within_twenty = searches[searches['n_nights'] < 20]\n",
    "\n",
    "#Distribution plot of length_preperation column\n",
    "sns.displot(searches_within_twenty, x='n_nights', color = 'red')"
   ]
  },
  {
   "cell_type": "markdown",
   "id": "b51b750e",
   "metadata": {},
   "source": [
    "Around 70% of people want to stay between 1-4 days, mostly 2 or 3\n",
    "People generally don’t want to stay for more than a week (only 15% want to stay more than a week)"
   ]
  },
  {
   "cell_type": "markdown",
   "id": "ec874fdd",
   "metadata": {},
   "source": [
    "Here we are going to calculate when do people want to take a trip to Dublin.\n",
    "\n",
    "We use the check in date to calculate this.\n",
    "\n",
    "Used only checkin month, cause checkout is usually within 5 days. The 75% of n_nights is 5, so assumed 5 days after checkin date people usually checkout."
   ]
  },
  {
   "cell_type": "code",
   "execution_count": 73,
   "id": "52e2bcad",
   "metadata": {},
   "outputs": [
    {
     "data": {
      "text/plain": [
       "count    23888.000000\n",
       "mean         7.672765\n",
       "std         21.557614\n",
       "min          0.000000\n",
       "25%          2.000000\n",
       "50%          3.000000\n",
       "75%          5.000000\n",
       "max        399.000000\n",
       "Name: n_nights, dtype: float64"
      ]
     },
     "execution_count": 73,
     "metadata": {},
     "output_type": "execute_result"
    }
   ],
   "source": [
    "#8 number summary of n_nights column\n",
    "\n",
    "searches['n_nights'].describe()"
   ]
  },
  {
   "cell_type": "code",
   "execution_count": 74,
   "id": "5b947a71",
   "metadata": {},
   "outputs": [
    {
     "data": {
      "text/plain": [
       "<seaborn.axisgrid.FacetGrid at 0x7fe2c82c3f70>"
      ]
     },
     "execution_count": 74,
     "metadata": {},
     "output_type": "execute_result"
    },
    {
     "data": {
      "image/png": "[encoded data removed]",
      "text/plain": [
       "<Figure size 360x360 with 1 Axes>"
      ]
     },
     "metadata": {
      "needs_background": "light"
     },
     "output_type": "display_data"
    }
   ],
   "source": [
    "#Distribution of months of ds_checkin of searches\n",
    "\n",
    "checkin_month = pd.DatetimeIndex(searches['ds_checkin']).month\n",
    "\n",
    "#Distribution plot of length_preperation column\n",
    "sns.displot(checkin_month, color = 'yellow')"
   ]
  },
  {
   "cell_type": "markdown",
   "id": "d37880db",
   "metadata": {},
   "source": [
    "83.74% of searches were in the October-December\n",
    "\n",
    "Breakdown:\n",
    "- 45.05% in October\n",
    "- 26.1% in November\n",
    "- 12.6% in December"
   ]
  },
  {
   "cell_type": "markdown",
   "id": "12a92e3a",
   "metadata": {},
   "source": [
    "Now I want to understand which are the most common type of rooms searched for."
   ]
  },
  {
   "cell_type": "code",
   "execution_count": 75,
   "id": "4e781925",
   "metadata": {},
   "outputs": [
    {
     "data": {
      "text/plain": [
       "array([',Entire home/apt,Entire home/apt,Private room,Private room', nan,\n",
       "       ',Entire home/apt',\n",
       "       'Entire home/apt,Entire home/apt,Private room,Private room',\n",
       "       'Entire home/apt', ',Shared room,Private room',\n",
       "       'Entire home/apt,Private room,Shared room,Private room,Shared room',\n",
       "       'Private room', 'Entire home/apt,Private room', ',Private room',\n",
       "       ',Entire home/apt,Private room',\n",
       "       ',Entire home/apt,Private room,Private room',\n",
       "       'Entire home/apt,Private room,Shared room',\n",
       "       ',Entire home/apt,Entire home/apt,Private room',\n",
       "       ',Entire home/apt,Entire home/apt,Shared room,Shared room'],\n",
       "      dtype=object)"
      ]
     },
     "execution_count": 75,
     "metadata": {},
     "output_type": "execute_result"
    }
   ],
   "source": [
    "#Types of rooms searched for\n",
    "\n",
    "searches['filter_room_types'].unique()[0:15]"
   ]
  },
  {
   "cell_type": "markdown",
   "id": "4aca6aa0",
   "metadata": {},
   "source": [
    "Most of the room types requested were entire home/apt and private room sometimes shared room.\n",
    "If given more time, I would have cleaned this column since most filter values are actually repeated within the same cell.\n",
    "On the airbnb website, there are only 4 values in the type of place: \n",
    "- Entire Place\n",
    "- Private Room\n",
    "- Hotel Room\n",
    "- Shared Room\n",
    "\n",
    "So searching how often these 4 strings occur would be how I go about it"
   ]
  },
  {
   "cell_type": "markdown",
   "id": "ee9a8643",
   "metadata": {},
   "source": [
    "There is also the origin_country column which indicates which country the search came from. We could find the most common countries searched from."
   ]
  },
  {
   "cell_type": "code",
   "execution_count": 76,
   "id": "676bd100",
   "metadata": {},
   "outputs": [
    {
     "data": {
      "text/html": [
       "<div>\n",
       "<style scoped>\n",
       "    .dataframe tbody tr th:only-of-type {\n",
       "        vertical-align: middle;\n",
       "    }\n",
       "\n",
       "    .dataframe tbody tr th {\n",
       "        vertical-align: top;\n",
       "    }\n",
       "\n",
       "    .dataframe thead th {\n",
       "        text-align: right;\n",
       "    }\n",
       "</style>\n",
       "<table border=\"1\" class=\"dataframe\">\n",
       "  <thead>\n",
       "    <tr style=\"text-align: right;\">\n",
       "      <th></th>\n",
       "      <th>count</th>\n",
       "    </tr>\n",
       "    <tr>\n",
       "      <th>origin_country</th>\n",
       "      <th></th>\n",
       "    </tr>\n",
       "  </thead>\n",
       "  <tbody>\n",
       "    <tr>\n",
       "      <th>IE</th>\n",
       "      <td>6608</td>\n",
       "    </tr>\n",
       "    <tr>\n",
       "      <th>US</th>\n",
       "      <td>5811</td>\n",
       "    </tr>\n",
       "    <tr>\n",
       "      <th>GB</th>\n",
       "      <td>4832</td>\n",
       "    </tr>\n",
       "    <tr>\n",
       "      <th>FR</th>\n",
       "      <td>3444</td>\n",
       "    </tr>\n",
       "    <tr>\n",
       "      <th>IT</th>\n",
       "      <td>2333</td>\n",
       "    </tr>\n",
       "    <tr>\n",
       "      <th>DE</th>\n",
       "      <td>2170</td>\n",
       "    </tr>\n",
       "    <tr>\n",
       "      <th>ES</th>\n",
       "      <td>1759</td>\n",
       "    </tr>\n",
       "    <tr>\n",
       "      <th>CA</th>\n",
       "      <td>1085</td>\n",
       "    </tr>\n",
       "    <tr>\n",
       "      <th>AU</th>\n",
       "      <td>962</td>\n",
       "    </tr>\n",
       "    <tr>\n",
       "      <th>NL</th>\n",
       "      <td>843</td>\n",
       "    </tr>\n",
       "    <tr>\n",
       "      <th>BR</th>\n",
       "      <td>636</td>\n",
       "    </tr>\n",
       "    <tr>\n",
       "      <th>CH</th>\n",
       "      <td>535</td>\n",
       "    </tr>\n",
       "    <tr>\n",
       "      <th>BE</th>\n",
       "      <td>386</td>\n",
       "    </tr>\n",
       "    <tr>\n",
       "      <th>AT</th>\n",
       "      <td>320</td>\n",
       "    </tr>\n",
       "    <tr>\n",
       "      <th>RU</th>\n",
       "      <td>274</td>\n",
       "    </tr>\n",
       "  </tbody>\n",
       "</table>\n",
       "</div>"
      ],
      "text/plain": [
       "                count\n",
       "origin_country       \n",
       "IE               6608\n",
       "US               5811\n",
       "GB               4832\n",
       "FR               3444\n",
       "IT               2333\n",
       "DE               2170\n",
       "ES               1759\n",
       "CA               1085\n",
       "AU                962\n",
       "NL                843\n",
       "BR                636\n",
       "CH                535\n",
       "BE                386\n",
       "AT                320\n",
       "RU                274"
      ]
     },
     "execution_count": 76,
     "metadata": {},
     "output_type": "execute_result"
    }
   ],
   "source": [
    "#Find top 15 countries where searches originate from\n",
    "\n",
    "#Group by origin country and finding the count of each country\n",
    "search_origin = searches.groupby(\"origin_country\").agg({'origin_country' : 'count'})\n",
    "search_origin.columns = ['count']\n",
    "\n",
    "search_origin = search_origin.sort_values('count', ascending = False) #Sort count in descending order\n",
    "search_origin.nlargest(15, 'count') #Find the 15 largest values"
   ]
  },
  {
   "cell_type": "markdown",
   "id": "fa2822a5",
   "metadata": {},
   "source": [
    "Ireland, US, and Great Britain comprise of 48% of searches\n",
    "Dublin destinations could be promoted within these 3 countries more for the winter months"
   ]
  },
  {
   "cell_type": "markdown",
   "id": "1a39cb1f",
   "metadata": {},
   "source": [
    "## Contacts Dataset"
   ]
  },
  {
   "cell_type": "markdown",
   "id": "bb7f4149",
   "metadata": {},
   "source": [
    "After analyzing the searches dataset, we have to start analyzing the contacts dataset.\n",
    "First we'll start with the data types of the dataset."
   ]
  },
  {
   "cell_type": "code",
   "execution_count": 77,
   "id": "6d927c8c",
   "metadata": {},
   "outputs": [
    {
     "data": {
      "text/plain": [
       "id_guest          object\n",
       "id_host           object\n",
       "id_listing        object\n",
       "ts_contact_at     object\n",
       "ts_reply_at       object\n",
       "ts_accepted_at    object\n",
       "ts_booking_at     object\n",
       "ds_checkin        object\n",
       "ds_checkout       object\n",
       "n_guests           int64\n",
       "n_messages         int64\n",
       "dtype: object"
      ]
     },
     "execution_count": 77,
     "metadata": {},
     "output_type": "execute_result"
    }
   ],
   "source": [
    "#Datatypes of contacts dataset\n",
    "contacts.dtypes"
   ]
  },
  {
   "cell_type": "markdown",
   "id": "4caf9bc8",
   "metadata": {},
   "source": [
    "This shows that multiple columns need to be converted to datatime data type\n",
    "\n",
    "These columns need to be converted\n",
    "   - ts_contact_at\n",
    "   - ts_reply_at\n",
    "   - ts_accepted_at\n",
    "   - ts_booking_at\n",
    "   - ds_checkin\n",
    "   - ds_checkout\n",
    "   - accepted\n",
    "\n",
    "And create length_stay in the contacts dataset as well"
   ]
  },
  {
   "cell_type": "code",
   "execution_count": 78,
   "id": "b51b27b0",
   "metadata": {
    "scrolled": true
   },
   "outputs": [
    {
     "data": {
      "text/html": [
       "<div>\n",
       "<style scoped>\n",
       "    .dataframe tbody tr th:only-of-type {\n",
       "        vertical-align: middle;\n",
       "    }\n",
       "\n",
       "    .dataframe tbody tr th {\n",
       "        vertical-align: top;\n",
       "    }\n",
       "\n",
       "    .dataframe thead th {\n",
       "        text-align: right;\n",
       "    }\n",
       "</style>\n",
       "<table border=\"1\" class=\"dataframe\">\n",
       "  <thead>\n",
       "    <tr style=\"text-align: right;\">\n",
       "      <th></th>\n",
       "      <th>n_guests</th>\n",
       "      <th>n_messages</th>\n",
       "      <th>length_stay</th>\n",
       "    </tr>\n",
       "  </thead>\n",
       "  <tbody>\n",
       "    <tr>\n",
       "      <th>count</th>\n",
       "      <td>7823.000000</td>\n",
       "      <td>7823.000000</td>\n",
       "      <td>7823</td>\n",
       "    </tr>\n",
       "    <tr>\n",
       "      <th>mean</th>\n",
       "      <td>2.422600</td>\n",
       "      <td>6.319954</td>\n",
       "      <td>5 days 19:25:32.864629937</td>\n",
       "    </tr>\n",
       "    <tr>\n",
       "      <th>std</th>\n",
       "      <td>1.617347</td>\n",
       "      <td>6.472827</td>\n",
       "      <td>14 days 23:45:24.447710564</td>\n",
       "    </tr>\n",
       "    <tr>\n",
       "      <th>min</th>\n",
       "      <td>1.000000</td>\n",
       "      <td>1.000000</td>\n",
       "      <td>1 days 00:00:00</td>\n",
       "    </tr>\n",
       "    <tr>\n",
       "      <th>25%</th>\n",
       "      <td>1.000000</td>\n",
       "      <td>2.000000</td>\n",
       "      <td>2 days 00:00:00</td>\n",
       "    </tr>\n",
       "    <tr>\n",
       "      <th>50%</th>\n",
       "      <td>2.000000</td>\n",
       "      <td>4.000000</td>\n",
       "      <td>3 days 00:00:00</td>\n",
       "    </tr>\n",
       "    <tr>\n",
       "      <th>75%</th>\n",
       "      <td>3.000000</td>\n",
       "      <td>8.000000</td>\n",
       "      <td>5 days 00:00:00</td>\n",
       "    </tr>\n",
       "    <tr>\n",
       "      <th>max</th>\n",
       "      <td>16.000000</td>\n",
       "      <td>102.000000</td>\n",
       "      <td>334 days 00:00:00</td>\n",
       "    </tr>\n",
       "  </tbody>\n",
       "</table>\n",
       "</div>"
      ],
      "text/plain": [
       "          n_guests   n_messages                 length_stay\n",
       "count  7823.000000  7823.000000                        7823\n",
       "mean      2.422600     6.319954   5 days 19:25:32.864629937\n",
       "std       1.617347     6.472827  14 days 23:45:24.447710564\n",
       "min       1.000000     1.000000             1 days 00:00:00\n",
       "25%       1.000000     2.000000             2 days 00:00:00\n",
       "50%       2.000000     4.000000             3 days 00:00:00\n",
       "75%       3.000000     8.000000             5 days 00:00:00\n",
       "max      16.000000   102.000000           334 days 00:00:00"
      ]
     },
     "metadata": {},
     "output_type": "display_data"
    }
   ],
   "source": [
    "#Manipulation of contacts dataset\n",
    "\n",
    "#Convert date columns to datetime data type \n",
    "contacts['ts_contact_at'] = pd.to_datetime(contacts['ts_contact_at'])\n",
    "contacts['ts_reply_at'] = pd.to_datetime(contacts['ts_reply_at'])\n",
    "contacts['ts_accepted_at'] = pd.to_datetime(contacts['ts_accepted_at'])\n",
    "contacts['ts_booking_at'] = pd.to_datetime(contacts['ts_booking_at'])\n",
    "contacts['ds_checkin'] = pd.to_datetime(contacts['ds_checkin'])\n",
    "contacts['ds_checkout'] = pd.to_datetime(contacts['ds_checkout'])\n",
    "contacts['accepted'] = np.where(np.isnan(contacts['ts_accepted_at']), False, True)\n",
    "\n",
    "contacts['length_stay'] = contacts['ds_checkout'] - contacts['ds_checkin']\n",
    "\n",
    "#Understand dataset with describe function\n",
    "display(contacts.describe())"
   ]
  },
  {
   "cell_type": "code",
   "execution_count": 79,
   "id": "fa1bdf60",
   "metadata": {},
   "outputs": [
    {
     "data": {
      "text/plain": [
       "n_guests      2.441468\n",
       "n_messages    3.696440\n",
       "accepted      0.145883\n",
       "dtype: float64"
      ]
     },
     "metadata": {},
     "output_type": "display_data"
    }
   ],
   "source": [
    "#Calculate skewness in contacts dataset\n",
    "\n",
    "display(contacts.skew(axis = 0, numeric_only = True, skipna = True))"
   ]
  },
  {
   "cell_type": "markdown",
   "id": "236c637c",
   "metadata": {},
   "source": [
    "All columns have a Fisher-Pearson coefficient value greater than 1.\n",
    "Except for accepted, which could be due to it being a derived from an existing column.\n",
    "With more time, I would have used a transformation method such as box-cox to reduce the skewness."
   ]
  },
  {
   "cell_type": "markdown",
   "id": "3368f46e",
   "metadata": {},
   "source": [
    "Finding the distribution of number guests staying\n",
    "\n",
    "This would be useful in comparing how many guests were searched for vs how many guests the room was booked for\n",
    "\n",
    "Choosing less than 8 guests, since only 1.46% (114 values) of the contacts dataset has 8 or more guests. To better visualize the majority distribution we removed rows with 8 or more guests."
   ]
  },
  {
   "cell_type": "code",
   "execution_count": 80,
   "id": "829fceec",
   "metadata": {},
   "outputs": [
    {
     "data": {
      "text/plain": [
       "<seaborn.axisgrid.FacetGrid at 0x7fe29891d700>"
      ]
     },
     "execution_count": 80,
     "metadata": {},
     "output_type": "execute_result"
    },
    {
     "data": {
      "image/png": "[encoded data removed]",
      "text/plain": [
       "<Figure size 421.25x360 with 1 Axes>"
      ]
     },
     "metadata": {
      "needs_background": "light"
     },
     "output_type": "display_data"
    }
   ],
   "source": [
    "#Number of guests stayed\n",
    "\n",
    "contacts_less8 = contacts[contacts['n_guests'] < 8]\n",
    "sns.displot(contacts_less8, x = 'n_guests', hue = 'accepted', multiple=\"dodge\")"
   ]
  },
  {
   "cell_type": "markdown",
   "id": "ad9869c1",
   "metadata": {},
   "source": [
    "2 guests is the most popular option to book, but 1 guest is the most popularly searched option. This leads me to believe there is a lack of supply of viable single guest rooms."
   ]
  },
  {
   "cell_type": "markdown",
   "id": "cb9cfe1d",
   "metadata": {},
   "source": [
    "Another thought I had was if there was a correlation between number of guests vs how long people stayed\n",
    "\n",
    "I took the average length stay by number of guests who were accepted/not-accepted."
   ]
  },
  {
   "cell_type": "code",
   "execution_count": 81,
   "id": "cb7358ad",
   "metadata": {},
   "outputs": [
    {
     "data": {
      "text/html": [
       "<div>\n",
       "<style scoped>\n",
       "    .dataframe tbody tr th:only-of-type {\n",
       "        vertical-align: middle;\n",
       "    }\n",
       "\n",
       "    .dataframe tbody tr th {\n",
       "        vertical-align: top;\n",
       "    }\n",
       "\n",
       "    .dataframe thead tr th {\n",
       "        text-align: left;\n",
       "    }\n",
       "\n",
       "    .dataframe thead tr:last-of-type th {\n",
       "        text-align: right;\n",
       "    }\n",
       "</style>\n",
       "<table border=\"1\" class=\"dataframe\">\n",
       "  <thead>\n",
       "    <tr>\n",
       "      <th></th>\n",
       "      <th></th>\n",
       "      <th colspan=\"2\" halign=\"left\">length_stay</th>\n",
       "    </tr>\n",
       "    <tr>\n",
       "      <th></th>\n",
       "      <th></th>\n",
       "      <th>mean</th>\n",
       "      <th>count</th>\n",
       "    </tr>\n",
       "    <tr>\n",
       "      <th>n_guests</th>\n",
       "      <th>accepted</th>\n",
       "      <th></th>\n",
       "      <th></th>\n",
       "    </tr>\n",
       "  </thead>\n",
       "  <tbody>\n",
       "    <tr>\n",
       "      <th rowspan=\"2\" valign=\"top\">1</th>\n",
       "      <th>False</th>\n",
       "      <td>8 days 07:04:51.383812010</td>\n",
       "      <td>1149</td>\n",
       "    </tr>\n",
       "    <tr>\n",
       "      <th>True</th>\n",
       "      <td>5 days 21:18:50.362694300</td>\n",
       "      <td>965</td>\n",
       "    </tr>\n",
       "    <tr>\n",
       "      <th rowspan=\"2\" valign=\"top\">2</th>\n",
       "      <th>False</th>\n",
       "      <td>5 days 21:33:11.323210412</td>\n",
       "      <td>1844</td>\n",
       "    </tr>\n",
       "    <tr>\n",
       "      <th>True</th>\n",
       "      <td>4 days 17:08:49.542645241</td>\n",
       "      <td>1618</td>\n",
       "    </tr>\n",
       "    <tr>\n",
       "      <th rowspan=\"2\" valign=\"top\">3</th>\n",
       "      <th>False</th>\n",
       "      <td>9 days 11:56:01.325966850</td>\n",
       "      <td>362</td>\n",
       "    </tr>\n",
       "    <tr>\n",
       "      <th>True</th>\n",
       "      <td>6 days 21:26:37.633136094</td>\n",
       "      <td>338</td>\n",
       "    </tr>\n",
       "    <tr>\n",
       "      <th rowspan=\"2\" valign=\"top\">4</th>\n",
       "      <th>False</th>\n",
       "      <td>4 days 08:04:52.089249492</td>\n",
       "      <td>493</td>\n",
       "    </tr>\n",
       "    <tr>\n",
       "      <th>True</th>\n",
       "      <td>3 days 22:47:25.623342175</td>\n",
       "      <td>377</td>\n",
       "    </tr>\n",
       "    <tr>\n",
       "      <th rowspan=\"2\" valign=\"top\">5</th>\n",
       "      <th>False</th>\n",
       "      <td>3 days 02:21:10.588235294</td>\n",
       "      <td>102</td>\n",
       "    </tr>\n",
       "    <tr>\n",
       "      <th>True</th>\n",
       "      <td>3 days 12:05:45.600000</td>\n",
       "      <td>125</td>\n",
       "    </tr>\n",
       "    <tr>\n",
       "      <th rowspan=\"2\" valign=\"top\">6</th>\n",
       "      <th>False</th>\n",
       "      <td>4 days 00:42:59.104477611</td>\n",
       "      <td>134</td>\n",
       "    </tr>\n",
       "    <tr>\n",
       "      <th>True</th>\n",
       "      <td>3 days 05:18:51.428571428</td>\n",
       "      <td>140</td>\n",
       "    </tr>\n",
       "    <tr>\n",
       "      <th rowspan=\"2\" valign=\"top\">7</th>\n",
       "      <th>False</th>\n",
       "      <td>2 days 23:22:06.315789473</td>\n",
       "      <td>38</td>\n",
       "    </tr>\n",
       "    <tr>\n",
       "      <th>True</th>\n",
       "      <td>3 days 04:00:00</td>\n",
       "      <td>24</td>\n",
       "    </tr>\n",
       "    <tr>\n",
       "      <th rowspan=\"2\" valign=\"top\">8</th>\n",
       "      <th>False</th>\n",
       "      <td>3 days 10:30:00</td>\n",
       "      <td>32</td>\n",
       "    </tr>\n",
       "    <tr>\n",
       "      <th>True</th>\n",
       "      <td>3 days 11:28:41.739130434</td>\n",
       "      <td>23</td>\n",
       "    </tr>\n",
       "    <tr>\n",
       "      <th rowspan=\"2\" valign=\"top\">9</th>\n",
       "      <th>False</th>\n",
       "      <td>2 days 00:00:00</td>\n",
       "      <td>2</td>\n",
       "    </tr>\n",
       "    <tr>\n",
       "      <th>True</th>\n",
       "      <td>4 days 00:00:00</td>\n",
       "      <td>1</td>\n",
       "    </tr>\n",
       "    <tr>\n",
       "      <th rowspan=\"2\" valign=\"top\">10</th>\n",
       "      <th>False</th>\n",
       "      <td>3 days 12:00:00</td>\n",
       "      <td>16</td>\n",
       "    </tr>\n",
       "    <tr>\n",
       "      <th>True</th>\n",
       "      <td>3 days 15:00:00</td>\n",
       "      <td>8</td>\n",
       "    </tr>\n",
       "    <tr>\n",
       "      <th rowspan=\"2\" valign=\"top\">11</th>\n",
       "      <th>False</th>\n",
       "      <td>2 days 08:00:00</td>\n",
       "      <td>3</td>\n",
       "    </tr>\n",
       "    <tr>\n",
       "      <th>True</th>\n",
       "      <td>3 days 12:00:00</td>\n",
       "      <td>2</td>\n",
       "    </tr>\n",
       "    <tr>\n",
       "      <th rowspan=\"2\" valign=\"top\">12</th>\n",
       "      <th>False</th>\n",
       "      <td>2 days 18:00:00</td>\n",
       "      <td>12</td>\n",
       "    </tr>\n",
       "    <tr>\n",
       "      <th>True</th>\n",
       "      <td>9 days 08:00:00</td>\n",
       "      <td>3</td>\n",
       "    </tr>\n",
       "    <tr>\n",
       "      <th rowspan=\"2\" valign=\"top\">13</th>\n",
       "      <th>False</th>\n",
       "      <td>2 days 00:00:00</td>\n",
       "      <td>1</td>\n",
       "    </tr>\n",
       "    <tr>\n",
       "      <th>True</th>\n",
       "      <td>3 days 12:00:00</td>\n",
       "      <td>2</td>\n",
       "    </tr>\n",
       "    <tr>\n",
       "      <th>15</th>\n",
       "      <th>False</th>\n",
       "      <td>3 days 00:00:00</td>\n",
       "      <td>4</td>\n",
       "    </tr>\n",
       "    <tr>\n",
       "      <th rowspan=\"2\" valign=\"top\">16</th>\n",
       "      <th>False</th>\n",
       "      <td>5 days 00:00:00</td>\n",
       "      <td>4</td>\n",
       "    </tr>\n",
       "    <tr>\n",
       "      <th>True</th>\n",
       "      <td>2 days 00:00:00</td>\n",
       "      <td>1</td>\n",
       "    </tr>\n",
       "  </tbody>\n",
       "</table>\n",
       "</div>"
      ],
      "text/plain": [
       "                                length_stay      \n",
       "                                       mean count\n",
       "n_guests accepted                                \n",
       "1        False    8 days 07:04:51.383812010  1149\n",
       "         True     5 days 21:18:50.362694300   965\n",
       "2        False    5 days 21:33:11.323210412  1844\n",
       "         True     4 days 17:08:49.542645241  1618\n",
       "3        False    9 days 11:56:01.325966850   362\n",
       "         True     6 days 21:26:37.633136094   338\n",
       "4        False    4 days 08:04:52.089249492   493\n",
       "         True     3 days 22:47:25.623342175   377\n",
       "5        False    3 days 02:21:10.588235294   102\n",
       "         True        3 days 12:05:45.600000   125\n",
       "6        False    4 days 00:42:59.104477611   134\n",
       "         True     3 days 05:18:51.428571428   140\n",
       "7        False    2 days 23:22:06.315789473    38\n",
       "         True               3 days 04:00:00    24\n",
       "8        False              3 days 10:30:00    32\n",
       "         True     3 days 11:28:41.739130434    23\n",
       "9        False              2 days 00:00:00     2\n",
       "         True               4 days 00:00:00     1\n",
       "10       False              3 days 12:00:00    16\n",
       "         True               3 days 15:00:00     8\n",
       "11       False              2 days 08:00:00     3\n",
       "         True               3 days 12:00:00     2\n",
       "12       False              2 days 18:00:00    12\n",
       "         True               9 days 08:00:00     3\n",
       "13       False              2 days 00:00:00     1\n",
       "         True               3 days 12:00:00     2\n",
       "15       False              3 days 00:00:00     4\n",
       "16       False              5 days 00:00:00     4\n",
       "         True               2 days 00:00:00     1"
      ]
     },
     "execution_count": 81,
     "metadata": {},
     "output_type": "execute_result"
    }
   ],
   "source": [
    "#Check average length of stay by n_guests of the applications\n",
    "\n",
    "contacts.groupby([\"n_guests\", \"accepted\"]).agg({'length_stay' : ['mean', 'count']})\n",
    "\n",
    "#Using count here to find if there is enough data to support any claims made about the average length_stay."
   ]
  },
  {
   "cell_type": "markdown",
   "id": "6f7f9e34",
   "metadata": {},
   "source": [
    "As seen, the length_stay is usually around a day more for single guests compared to 2 guests. People in small groups (1-3 size) stay for around 5 days. I don't think a safe assumption can be made about length of stay of guests with 5 or more due to lack of data. But it does seem that guests with 5 or more generally stay 3/4 days need to research further once data is available.\n",
    "\n",
    "Another interesting fact is that people who ask for a longer length_stay are rejected at a higher rate. For 1 guest, the average accepted application is a little under 6 days while rejected ones is 8 days. For all n_guests until 5, the average rejected length_stay is greater than average accepted length_stay."
   ]
  },
  {
   "cell_type": "markdown",
   "id": "45bb2d32",
   "metadata": {},
   "source": [
    "I was also wondering how many acceptance actually is converted into booking the room."
   ]
  },
  {
   "cell_type": "code",
   "execution_count": 82,
   "id": "4aa3c66a",
   "metadata": {},
   "outputs": [
    {
     "data": {
      "text/plain": [
       "0.5993934381031155"
      ]
     },
     "execution_count": 82,
     "metadata": {},
     "output_type": "execute_result"
    }
   ],
   "source": [
    "#Conversion rate from accepting to booking\n",
    "\n",
    "contacts['ts_booking_at'].count()/contacts['ts_accepted_at'].count()\n"
   ]
  },
  {
   "cell_type": "markdown",
   "id": "3d43c2a9",
   "metadata": {},
   "source": [
    "As seen before during the common check in dates, the popular dates are October-December.\n",
    "Finding if there happens to be major difference people rejected vs accepted."
   ]
  },
  {
   "cell_type": "code",
   "execution_count": 83,
   "id": "40bf6170",
   "metadata": {},
   "outputs": [
    {
     "data": {
      "text/plain": [
       "([<matplotlib.axis.XTick at 0x7fe298752370>,\n",
       "  <matplotlib.axis.XTick at 0x7fe298752760>,\n",
       "  <matplotlib.axis.XTick at 0x7fe298725700>],\n",
       " [Text(9.75, 0, '9.75'), Text(10.0, 0, '10.00'), Text(10.25, 0, '10.25')])"
      ]
     },
     "execution_count": 83,
     "metadata": {},
     "output_type": "execute_result"
    },
    {
     "data": {
      "image/png": "[encoded data removed]",
      "text/plain": [
       "<Figure size 421.25x360 with 1 Axes>"
      ]
     },
     "metadata": {
      "needs_background": "light"
     },
     "output_type": "display_data"
    }
   ],
   "source": [
    "#Timeframe of when guests or accepted vs rejected\n",
    "\n",
    "contacts['month_checkin'] = contacts['ds_checkin'].dt.month #Extract month from checkin date\n",
    "contacts_checkin = contacts[contacts['month_checkin'] > 9] #Use only peak season months (Oct, Nov, Dec)\n",
    "\n",
    "#Distribution of checkin among October, November, and December and split by acceptance\n",
    "sns.displot(contacts_checkin, x='month_checkin', hue = 'accepted', multiple=\"dodge\")\n",
    "plt.xticks([10, 11, 12])"
   ]
  },
  {
   "cell_type": "markdown",
   "id": "fc18f40d",
   "metadata": {},
   "source": [
    "There does not appear to be any major variation between accepted vs rejected users"
   ]
  },
  {
   "cell_type": "markdown",
   "id": "d05ab0c4",
   "metadata": {},
   "source": [
    "Often you have to merge datasets to get peform faster analysis. \n",
    "We'll merge the searches and contacts datasets for further analysis."
   ]
  },
  {
   "cell_type": "code",
   "execution_count": 84,
   "id": "5bb4cdb2",
   "metadata": {},
   "outputs": [],
   "source": [
    "#Merge datasets for more analysis\n",
    "\n",
    "merged_datasets = contacts.merge(searches, left_on='id_guest', right_on='id_user')"
   ]
  },
  {
   "cell_type": "markdown",
   "id": "a3c6ab5e",
   "metadata": {},
   "source": [
    "Let's check if the maximum price people are willing to pay affects the acceptance/rejection rates.\n",
    "\n",
    "To further help better visualize the trend we set the filter price max as less or equal to 600.\n",
    "600 was chosen as the limit since only 14.25% of the dataset has values greater than 600."
   ]
  },
  {
   "cell_type": "code",
   "execution_count": 85,
   "id": "dacadb2f",
   "metadata": {},
   "outputs": [
    {
     "data": {
      "text/plain": [
       "<seaborn.axisgrid.FacetGrid at 0x7fe2bae5aee0>"
      ]
     },
     "execution_count": 85,
     "metadata": {},
     "output_type": "execute_result"
    },
    {
     "data": {
      "image/png": "[encoded data removed]",
      "text/plain": [
       "<Figure size 421.25x360 with 1 Axes>"
      ]
     },
     "metadata": {
      "needs_background": "light"
     },
     "output_type": "display_data"
    }
   ],
   "source": [
    "#Check difference between prices searched between accepted/rejected applicants\n",
    "\n",
    "merged_pricemax_filter = merged_datasets.loc[(merged_datasets['filter_price_max'] <= 600)]\n",
    "\n",
    "sns.displot(merged_pricemax_filter, x=\"filter_price_max\", hue=\"accepted\", multiple=\"dodge\")"
   ]
  },
  {
   "cell_type": "code",
   "execution_count": 86,
   "id": "c3899286",
   "metadata": {},
   "outputs": [
    {
     "data": {
      "text/html": [
       "<div>\n",
       "<style scoped>\n",
       "    .dataframe tbody tr th:only-of-type {\n",
       "        vertical-align: middle;\n",
       "    }\n",
       "\n",
       "    .dataframe tbody tr th {\n",
       "        vertical-align: top;\n",
       "    }\n",
       "\n",
       "    .dataframe thead th {\n",
       "        text-align: right;\n",
       "    }\n",
       "</style>\n",
       "<table border=\"1\" class=\"dataframe\">\n",
       "  <thead>\n",
       "    <tr style=\"text-align: right;\">\n",
       "      <th></th>\n",
       "      <th>accepted</th>\n",
       "    </tr>\n",
       "    <tr>\n",
       "      <th>classification_max_price</th>\n",
       "      <th></th>\n",
       "    </tr>\n",
       "  </thead>\n",
       "  <tbody>\n",
       "    <tr>\n",
       "      <th>0-100</th>\n",
       "      <td>0.411160</td>\n",
       "    </tr>\n",
       "    <tr>\n",
       "      <th>100-200</th>\n",
       "      <td>0.430308</td>\n",
       "    </tr>\n",
       "    <tr>\n",
       "      <th>200-300</th>\n",
       "      <td>0.431149</td>\n",
       "    </tr>\n",
       "    <tr>\n",
       "      <th>300-400</th>\n",
       "      <td>0.450488</td>\n",
       "    </tr>\n",
       "    <tr>\n",
       "      <th>400-500</th>\n",
       "      <td>0.485549</td>\n",
       "    </tr>\n",
       "    <tr>\n",
       "      <th>500-600</th>\n",
       "      <td>0.422297</td>\n",
       "    </tr>\n",
       "    <tr>\n",
       "      <th>600+</th>\n",
       "      <td>0.433122</td>\n",
       "    </tr>\n",
       "  </tbody>\n",
       "</table>\n",
       "</div>"
      ],
      "text/plain": [
       "                          accepted\n",
       "classification_max_price          \n",
       "0-100                     0.411160\n",
       "100-200                   0.430308\n",
       "200-300                   0.431149\n",
       "300-400                   0.450488\n",
       "400-500                   0.485549\n",
       "500-600                   0.422297\n",
       "600+                      0.433122"
      ]
     },
     "execution_count": 86,
     "metadata": {},
     "output_type": "execute_result"
    }
   ],
   "source": [
    "#Classify dataset based on filter_price_max\n",
    "\n",
    "def label_price (row):\n",
    "    if (row['filter_price_max'] >= 0) & (row['filter_price_max'] < 100):\n",
    "        return '0-100'\n",
    "    \n",
    "    elif (row['filter_price_max'] >= 100) & (row['filter_price_max'] < 200):\n",
    "        return '100-200'\n",
    "\n",
    "    elif (row['filter_price_max'] >= 200) & (row['filter_price_max'] < 300):\n",
    "        return '200-300'\n",
    "    \n",
    "    elif (row['filter_price_max'] >= 300) & (row['filter_price_max'] < 400):\n",
    "        return '300-400'\n",
    "\n",
    "    elif (row['filter_price_max'] >= 400) & (row['filter_price_max'] < 500):\n",
    "        return '400-500'\n",
    "    \n",
    "    elif (row['filter_price_max'] >= 500) & (row['filter_price_max'] < 600):\n",
    "        return '500-600'\n",
    "    \n",
    "    else:\n",
    "        return '600+'\n",
    "\n",
    "merged_datasets['classification_max_price'] = merged_datasets.apply(lambda row: label_price(row), axis=1)\n",
    "\n",
    "merged_datasets.groupby('classification_max_price').agg({'accepted': 'mean'})"
   ]
  },
  {
   "cell_type": "markdown",
   "id": "e700062d",
   "metadata": {},
   "source": [
    "Based on this table, it can be seen that regardless of max_filter_price, people are rejected at similar rates around 43%"
   ]
  },
  {
   "cell_type": "markdown",
   "id": "6dfa425f",
   "metadata": {},
   "source": [
    "One of the few details the Airbnb hosts see about the potential guests is their hometown from their profile information.\n",
    "\n",
    "I'm curious to see if there is any difference in acceptance rate by country. "
   ]
  },
  {
   "cell_type": "code",
   "execution_count": 87,
   "id": "106fc1d3",
   "metadata": {},
   "outputs": [
    {
     "data": {
      "text/html": [
       "<div>\n",
       "<style scoped>\n",
       "    .dataframe tbody tr th:only-of-type {\n",
       "        vertical-align: middle;\n",
       "    }\n",
       "\n",
       "    .dataframe tbody tr th {\n",
       "        vertical-align: top;\n",
       "    }\n",
       "\n",
       "    .dataframe thead th {\n",
       "        text-align: right;\n",
       "    }\n",
       "</style>\n",
       "<table border=\"1\" class=\"dataframe\">\n",
       "  <thead>\n",
       "    <tr style=\"text-align: right;\">\n",
       "      <th></th>\n",
       "      <th>origin_country</th>\n",
       "      <th>accepted</th>\n",
       "      <th>count_accepted</th>\n",
       "      <th>count_country</th>\n",
       "      <th>acceptance_rate</th>\n",
       "    </tr>\n",
       "  </thead>\n",
       "  <tbody>\n",
       "    <tr>\n",
       "      <th>73</th>\n",
       "      <td>IN</td>\n",
       "      <td>True</td>\n",
       "      <td>138</td>\n",
       "      <td>874</td>\n",
       "      <td>0.157895</td>\n",
       "    </tr>\n",
       "    <tr>\n",
       "      <th>55</th>\n",
       "      <td>HR</td>\n",
       "      <td>True</td>\n",
       "      <td>159</td>\n",
       "      <td>530</td>\n",
       "      <td>0.300000</td>\n",
       "    </tr>\n",
       "    <tr>\n",
       "      <th>72</th>\n",
       "      <td>AT</td>\n",
       "      <td>True</td>\n",
       "      <td>83</td>\n",
       "      <td>239</td>\n",
       "      <td>0.347280</td>\n",
       "    </tr>\n",
       "    <tr>\n",
       "      <th>54</th>\n",
       "      <td>RU</td>\n",
       "      <td>True</td>\n",
       "      <td>83</td>\n",
       "      <td>239</td>\n",
       "      <td>0.347280</td>\n",
       "    </tr>\n",
       "    <tr>\n",
       "      <th>11</th>\n",
       "      <td>IT</td>\n",
       "      <td>True</td>\n",
       "      <td>1183</td>\n",
       "      <td>3137</td>\n",
       "      <td>0.377112</td>\n",
       "    </tr>\n",
       "    <tr>\n",
       "      <th>100</th>\n",
       "      <td>AE</td>\n",
       "      <td>True</td>\n",
       "      <td>59</td>\n",
       "      <td>154</td>\n",
       "      <td>0.383117</td>\n",
       "    </tr>\n",
       "    <tr>\n",
       "      <th>0</th>\n",
       "      <td>CA</td>\n",
       "      <td>True</td>\n",
       "      <td>407</td>\n",
       "      <td>993</td>\n",
       "      <td>0.409869</td>\n",
       "    </tr>\n",
       "    <tr>\n",
       "      <th>13</th>\n",
       "      <td>IE</td>\n",
       "      <td>True</td>\n",
       "      <td>1217</td>\n",
       "      <td>2951</td>\n",
       "      <td>0.412403</td>\n",
       "    </tr>\n",
       "    <tr>\n",
       "      <th>24</th>\n",
       "      <td>ES</td>\n",
       "      <td>True</td>\n",
       "      <td>794</td>\n",
       "      <td>1914</td>\n",
       "      <td>0.414838</td>\n",
       "    </tr>\n",
       "    <tr>\n",
       "      <th>49</th>\n",
       "      <td>RO</td>\n",
       "      <td>True</td>\n",
       "      <td>50</td>\n",
       "      <td>118</td>\n",
       "      <td>0.423729</td>\n",
       "    </tr>\n",
       "    <tr>\n",
       "      <th>78</th>\n",
       "      <td>CR</td>\n",
       "      <td>True</td>\n",
       "      <td>82</td>\n",
       "      <td>188</td>\n",
       "      <td>0.436170</td>\n",
       "    </tr>\n",
       "    <tr>\n",
       "      <th>6</th>\n",
       "      <td>GB</td>\n",
       "      <td>True</td>\n",
       "      <td>1610</td>\n",
       "      <td>3667</td>\n",
       "      <td>0.439051</td>\n",
       "    </tr>\n",
       "    <tr>\n",
       "      <th>25</th>\n",
       "      <td>BE</td>\n",
       "      <td>True</td>\n",
       "      <td>134</td>\n",
       "      <td>304</td>\n",
       "      <td>0.440789</td>\n",
       "    </tr>\n",
       "    <tr>\n",
       "      <th>38</th>\n",
       "      <td>BR</td>\n",
       "      <td>True</td>\n",
       "      <td>215</td>\n",
       "      <td>482</td>\n",
       "      <td>0.446058</td>\n",
       "    </tr>\n",
       "    <tr>\n",
       "      <th>27</th>\n",
       "      <td>AU</td>\n",
       "      <td>True</td>\n",
       "      <td>268</td>\n",
       "      <td>590</td>\n",
       "      <td>0.454237</td>\n",
       "    </tr>\n",
       "    <tr>\n",
       "      <th>17</th>\n",
       "      <td>FR</td>\n",
       "      <td>True</td>\n",
       "      <td>1526</td>\n",
       "      <td>3232</td>\n",
       "      <td>0.472153</td>\n",
       "    </tr>\n",
       "    <tr>\n",
       "      <th>12</th>\n",
       "      <td>CH</td>\n",
       "      <td>True</td>\n",
       "      <td>279</td>\n",
       "      <td>585</td>\n",
       "      <td>0.476923</td>\n",
       "    </tr>\n",
       "    <tr>\n",
       "      <th>7</th>\n",
       "      <td>US</td>\n",
       "      <td>True</td>\n",
       "      <td>2050</td>\n",
       "      <td>4298</td>\n",
       "      <td>0.476966</td>\n",
       "    </tr>\n",
       "    <tr>\n",
       "      <th>14</th>\n",
       "      <td>DE</td>\n",
       "      <td>True</td>\n",
       "      <td>745</td>\n",
       "      <td>1535</td>\n",
       "      <td>0.485342</td>\n",
       "    </tr>\n",
       "    <tr>\n",
       "      <th>31</th>\n",
       "      <td>NL</td>\n",
       "      <td>True</td>\n",
       "      <td>212</td>\n",
       "      <td>433</td>\n",
       "      <td>0.489607</td>\n",
       "    </tr>\n",
       "    <tr>\n",
       "      <th>46</th>\n",
       "      <td>SG</td>\n",
       "      <td>True</td>\n",
       "      <td>115</td>\n",
       "      <td>232</td>\n",
       "      <td>0.495690</td>\n",
       "    </tr>\n",
       "    <tr>\n",
       "      <th>65</th>\n",
       "      <td>PT</td>\n",
       "      <td>True</td>\n",
       "      <td>101</td>\n",
       "      <td>203</td>\n",
       "      <td>0.497537</td>\n",
       "    </tr>\n",
       "    <tr>\n",
       "      <th>1</th>\n",
       "      <td>DK</td>\n",
       "      <td>True</td>\n",
       "      <td>86</td>\n",
       "      <td>125</td>\n",
       "      <td>0.688000</td>\n",
       "    </tr>\n",
       "  </tbody>\n",
       "</table>\n",
       "</div>"
      ],
      "text/plain": [
       "    origin_country accepted  count_accepted  count_country  acceptance_rate\n",
       "73              IN     True             138            874         0.157895\n",
       "55              HR     True             159            530         0.300000\n",
       "72              AT     True              83            239         0.347280\n",
       "54              RU     True              83            239         0.347280\n",
       "11              IT     True            1183           3137         0.377112\n",
       "100             AE     True              59            154         0.383117\n",
       "0               CA     True             407            993         0.409869\n",
       "13              IE     True            1217           2951         0.412403\n",
       "24              ES     True             794           1914         0.414838\n",
       "49              RO     True              50            118         0.423729\n",
       "78              CR     True              82            188         0.436170\n",
       "6               GB     True            1610           3667         0.439051\n",
       "25              BE     True             134            304         0.440789\n",
       "38              BR     True             215            482         0.446058\n",
       "27              AU     True             268            590         0.454237\n",
       "17              FR     True            1526           3232         0.472153\n",
       "12              CH     True             279            585         0.476923\n",
       "7               US     True            2050           4298         0.476966\n",
       "14              DE     True             745           1535         0.485342\n",
       "31              NL     True             212            433         0.489607\n",
       "46              SG     True             115            232         0.495690\n",
       "65              PT     True             101            203         0.497537\n",
       "1               DK     True              86            125         0.688000"
      ]
     },
     "execution_count": 87,
     "metadata": {},
     "output_type": "execute_result"
    }
   ],
   "source": [
    "#Find the acceptance rate by country\n",
    "\n",
    "dataset_country = merged_datasets[['origin_country', 'accepted']]\n",
    "\n",
    "#Find acceptance count by country and accepted\n",
    "accepted_count = dataset_country.groupby(['origin_country', 'accepted']).agg({'origin_country':'count'})\n",
    "accepted_count.columns = ['count_accepted']\n",
    "\n",
    "#Find acceptance count by country\n",
    "country_count = dataset_country.groupby(['origin_country']).agg({'origin_country':'count'})\n",
    "country_count.columns = ['count_country']\n",
    "\n",
    "#Merge datasets for easier manipulation \n",
    "acceptance_country = pd.merge(dataset_country, accepted_count,  how='left', on=['origin_country','accepted']) #Merge accepted count\n",
    "acceptance_country = acceptance_country.drop_duplicates()\n",
    "\n",
    "acceptance_country = pd.merge(acceptance_country, country_count, how='left', on=['origin_country']) #Merge total country count\n",
    "acceptance_country = acceptance_country.sort_values(['count_country', 'accepted'], ascending = [False, True])\n",
    "acceptance_country = acceptance_country[acceptance_country['count_country'] >= 100] #100 is used so there is a good amount of data to make assumptions\n",
    "acceptance_country = acceptance_country[acceptance_country['accepted'] == True]\n",
    "\n",
    "#Divide count_accepted column by count_country column to find acceptance rate by country\n",
    "acceptance_country['acceptance_rate'] = acceptance_country['count_accepted']/acceptance_country['count_country']\n",
    "acceptance_country.sort_values(['acceptance_rate'], ascending = True)"
   ]
  },
  {
   "cell_type": "markdown",
   "id": "d6fe89c4",
   "metadata": {},
   "source": [
    "Interesting point is that India only has the lowest acceptance rate of 15%, which is half of the acceptance rate compared to the second lowest accepted country.\n",
    "\n",
    "There could be a potential market in Denmark, which can be seen through highest acceptance rate but low application numbers. Increasing marketing in this country could increase demand.\n",
    "\n",
    "Needs to be investigated further"
   ]
  }
 ],
 "metadata": {
  "celltoolbar": "Raw Cell Format",
  "kernelspec": {
   "display_name": "Python 3 (ipykernel)",
   "language": "python",
   "name": "python3"
  },
  "language_info": {
   "codemirror_mode": {
    "name": "ipython",
    "version": 3
   },
   "file_extension": ".py",
   "mimetype": "text/x-python",
   "name": "python",
   "nbconvert_exporter": "python",
   "pygments_lexer": "ipython3",
   "version": "3.9.7"
  },
  "varInspector": {
   "cols": {
    "lenName": 16,
    "lenType": 16,
    "lenVar": 40
   },
   "kernels_config": {
    "python": {
     "delete_cmd_postfix": "",
     "delete_cmd_prefix": "del ",
     "library": "var_list.py",
     "varRefreshCmd": "print(var_dic_list())"
    },
    "r": {
     "delete_cmd_postfix": ") ",
     "delete_cmd_prefix": "rm(",
     "library": "var_list.r",
     "varRefreshCmd": "cat(var_dic_list()) "
    }
   },
   "types_to_exclude": [
    "module",
    "function",
    "builtin_function_or_method",
    "instance",
    "_Feature"
   ],
   "window_display": false
  }
 },
 "nbformat": 4,
 "nbformat_minor": 5
}
