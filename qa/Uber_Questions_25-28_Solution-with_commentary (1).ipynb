{
 "cells": [
  {
   "cell_type": "markdown",
   "id": "7ceae40c",
   "metadata": {},
   "source": [
    "# Uber Questions 25-28, 13-14 Solution"
   ]
  },
  {
   "cell_type": "markdown",
   "id": "d8bff017",
   "metadata": {},
   "source": [
    "**Overview and Instructions:**\n",
    "\n",
    "For questions 25-28 please use the \"dataset_2.csv\" dataset."
   ]
  },
  {
   "cell_type": "markdown",
   "id": "358240c6",
   "metadata": {},
   "source": [
    "## Data Exploration"
   ]
  },
  {
   "cell_type": "markdown",
   "id": "d5c40814",
   "metadata": {},
   "source": [
    "Let's start with reading and exploring the dataset. First, import pandas and numpy as always."
   ]
  },
  {
   "cell_type": "code",
   "execution_count": 1,
   "id": "d2736896",
   "metadata": {},
   "outputs": [],
   "source": [
    "import pandas as pd\n",
    "import numpy as np\n",
    "import matplotlib.pyplot as plt"
   ]
  },
  {
   "cell_type": "markdown",
   "id": "4611385a",
   "metadata": {},
   "source": [
    "Then, read the dataset."
   ]
  },
  {
   "cell_type": "code",
   "execution_count": 2,
   "id": "a1d93b30",
   "metadata": {},
   "outputs": [
    {
     "data": {
      "text/html": [
       "<div>\n",
       "<style scoped>\n",
       "    .dataframe tbody tr th:only-of-type {\n",
       "        vertical-align: middle;\n",
       "    }\n",
       "\n",
       "    .dataframe tbody tr th {\n",
       "        vertical-align: top;\n",
       "    }\n",
       "\n",
       "    .dataframe thead th {\n",
       "        text-align: right;\n",
       "    }\n",
       "</style>\n",
       "<table border=\"1\" class=\"dataframe\">\n",
       "  <thead>\n",
       "    <tr style=\"text-align: right;\">\n",
       "      <th></th>\n",
       "      <th>Name</th>\n",
       "      <th>Trips Completed</th>\n",
       "      <th>Accept Rate</th>\n",
       "      <th>Supply Hours</th>\n",
       "      <th>Rating</th>\n",
       "    </tr>\n",
       "  </thead>\n",
       "  <tbody>\n",
       "    <tr>\n",
       "      <th>0</th>\n",
       "      <td>Abdul</td>\n",
       "      <td>1</td>\n",
       "      <td>100%</td>\n",
       "      <td>3</td>\n",
       "      <td>4.8</td>\n",
       "    </tr>\n",
       "    <tr>\n",
       "      <th>1</th>\n",
       "      <td>Abraham</td>\n",
       "      <td>12</td>\n",
       "      <td>83%</td>\n",
       "      <td>5</td>\n",
       "      <td>4.7</td>\n",
       "    </tr>\n",
       "    <tr>\n",
       "      <th>2</th>\n",
       "      <td>Adelina</td>\n",
       "      <td>1</td>\n",
       "      <td>100%</td>\n",
       "      <td>2</td>\n",
       "      <td>4.7</td>\n",
       "    </tr>\n",
       "    <tr>\n",
       "      <th>3</th>\n",
       "      <td>Akilah</td>\n",
       "      <td>1</td>\n",
       "      <td>100%</td>\n",
       "      <td>2</td>\n",
       "      <td>4.9</td>\n",
       "    </tr>\n",
       "    <tr>\n",
       "      <th>4</th>\n",
       "      <td>Alec</td>\n",
       "      <td>21</td>\n",
       "      <td>76%</td>\n",
       "      <td>11</td>\n",
       "      <td>5.0</td>\n",
       "    </tr>\n",
       "    <tr>\n",
       "      <th>5</th>\n",
       "      <td>Alesha</td>\n",
       "      <td>7</td>\n",
       "      <td>100%</td>\n",
       "      <td>4</td>\n",
       "      <td>4.8</td>\n",
       "    </tr>\n",
       "    <tr>\n",
       "      <th>6</th>\n",
       "      <td>Alvaro</td>\n",
       "      <td>17</td>\n",
       "      <td>88%</td>\n",
       "      <td>11</td>\n",
       "      <td>4.6</td>\n",
       "    </tr>\n",
       "    <tr>\n",
       "      <th>7</th>\n",
       "      <td>Andra</td>\n",
       "      <td>16</td>\n",
       "      <td>94%</td>\n",
       "      <td>11</td>\n",
       "      <td>4.6</td>\n",
       "    </tr>\n",
       "    <tr>\n",
       "      <th>8</th>\n",
       "      <td>Augusta</td>\n",
       "      <td>19</td>\n",
       "      <td>84%</td>\n",
       "      <td>11</td>\n",
       "      <td>4.7</td>\n",
       "    </tr>\n",
       "    <tr>\n",
       "      <th>9</th>\n",
       "      <td>Aurora</td>\n",
       "      <td>10</td>\n",
       "      <td>90%</td>\n",
       "      <td>4</td>\n",
       "      <td>4.6</td>\n",
       "    </tr>\n",
       "  </tbody>\n",
       "</table>\n",
       "</div>"
      ],
      "text/plain": [
       "      Name  Trips Completed Accept Rate  Supply Hours  Rating\n",
       "0    Abdul                1        100%             3     4.8\n",
       "1  Abraham               12         83%             5     4.7\n",
       "2  Adelina                1        100%             2     4.7\n",
       "3   Akilah                1        100%             2     4.9\n",
       "4     Alec               21         76%            11     5.0\n",
       "5   Alesha                7        100%             4     4.8\n",
       "6   Alvaro               17         88%            11     4.6\n",
       "7    Andra               16         94%            11     4.6\n",
       "8  Augusta               19         84%            11     4.7\n",
       "9   Aurora               10         90%             4     4.6"
      ]
     },
     "execution_count": 2,
     "metadata": {},
     "output_type": "execute_result"
    }
   ],
   "source": [
    "df = pd.read_csv('dataset_2.csv')\n",
    "df.head(10)"
   ]
  },
  {
   "cell_type": "markdown",
   "id": "120a8a92",
   "metadata": {},
   "source": [
    "It seems we have a dataset that includes taxi driver statistics. Let's check if there is any null values."
   ]
  },
  {
   "cell_type": "code",
   "execution_count": 3,
   "id": "28adcc3e",
   "metadata": {},
   "outputs": [
    {
     "name": "stdout",
     "output_type": "stream",
     "text": [
      "<class 'pandas.core.frame.DataFrame'>\n",
      "RangeIndex: 119 entries, 0 to 118\n",
      "Data columns (total 5 columns):\n",
      " #   Column           Non-Null Count  Dtype  \n",
      "---  ------           --------------  -----  \n",
      " 0   Name             119 non-null    object \n",
      " 1   Trips Completed  119 non-null    int64  \n",
      " 2   Accept Rate      119 non-null    object \n",
      " 3   Supply Hours     119 non-null    int64  \n",
      " 4   Rating           119 non-null    float64\n",
      "dtypes: float64(1), int64(2), object(2)\n",
      "memory usage: 4.8+ KB\n"
     ]
    }
   ],
   "source": [
    "df.info()"
   ]
  },
  {
   "cell_type": "markdown",
   "id": "53facd5e",
   "metadata": {},
   "source": [
    "We are very lucky! We have a full non-null dataframe. Only thing that we need to apply as data preprocessing is remove `%` symbol from `Accept Rate` column to be able to use its values in integer comparison. "
   ]
  },
  {
   "cell_type": "code",
   "execution_count": 4,
   "id": "992ef18b",
   "metadata": {},
   "outputs": [
    {
     "data": {
      "text/html": [
       "<div>\n",
       "<style scoped>\n",
       "    .dataframe tbody tr th:only-of-type {\n",
       "        vertical-align: middle;\n",
       "    }\n",
       "\n",
       "    .dataframe tbody tr th {\n",
       "        vertical-align: top;\n",
       "    }\n",
       "\n",
       "    .dataframe thead th {\n",
       "        text-align: right;\n",
       "    }\n",
       "</style>\n",
       "<table border=\"1\" class=\"dataframe\">\n",
       "  <thead>\n",
       "    <tr style=\"text-align: right;\">\n",
       "      <th></th>\n",
       "      <th>Name</th>\n",
       "      <th>Trips Completed</th>\n",
       "      <th>Accept Rate</th>\n",
       "      <th>Supply Hours</th>\n",
       "      <th>Rating</th>\n",
       "    </tr>\n",
       "  </thead>\n",
       "  <tbody>\n",
       "    <tr>\n",
       "      <th>0</th>\n",
       "      <td>Abdul</td>\n",
       "      <td>1</td>\n",
       "      <td>100.0</td>\n",
       "      <td>3</td>\n",
       "      <td>4.8</td>\n",
       "    </tr>\n",
       "    <tr>\n",
       "      <th>1</th>\n",
       "      <td>Abraham</td>\n",
       "      <td>12</td>\n",
       "      <td>83.0</td>\n",
       "      <td>5</td>\n",
       "      <td>4.7</td>\n",
       "    </tr>\n",
       "    <tr>\n",
       "      <th>2</th>\n",
       "      <td>Adelina</td>\n",
       "      <td>1</td>\n",
       "      <td>100.0</td>\n",
       "      <td>2</td>\n",
       "      <td>4.7</td>\n",
       "    </tr>\n",
       "    <tr>\n",
       "      <th>3</th>\n",
       "      <td>Akilah</td>\n",
       "      <td>1</td>\n",
       "      <td>100.0</td>\n",
       "      <td>2</td>\n",
       "      <td>4.9</td>\n",
       "    </tr>\n",
       "    <tr>\n",
       "      <th>4</th>\n",
       "      <td>Alec</td>\n",
       "      <td>21</td>\n",
       "      <td>76.0</td>\n",
       "      <td>11</td>\n",
       "      <td>5.0</td>\n",
       "    </tr>\n",
       "  </tbody>\n",
       "</table>\n",
       "</div>"
      ],
      "text/plain": [
       "      Name  Trips Completed  Accept Rate  Supply Hours  Rating\n",
       "0    Abdul                1        100.0             3     4.8\n",
       "1  Abraham               12         83.0             5     4.7\n",
       "2  Adelina                1        100.0             2     4.7\n",
       "3   Akilah                1        100.0             2     4.9\n",
       "4     Alec               21         76.0            11     5.0"
      ]
     },
     "execution_count": 4,
     "metadata": {},
     "output_type": "execute_result"
    }
   ],
   "source": [
    "# convert accept rate to float from string to force conditions later\n",
    "df['Accept Rate'] = df['Accept Rate'].apply(lambda x: float(x[:-1]))\n",
    "df.head()"
   ]
  },
  {
   "cell_type": "markdown",
   "id": "f6ee6a1f",
   "metadata": {},
   "source": [
    "Now, we will have some bar plots to observe statistics distribution over taxi drivers. We will define a function to use multiple times in plotting. This function will help us to put values on bar charts."
   ]
  },
  {
   "cell_type": "code",
   "execution_count": 5,
   "id": "0614123e",
   "metadata": {},
   "outputs": [],
   "source": [
    "plt.rcParams[\"figure.figsize\"] = (12,6)\n",
    "\n",
    "def plot_counts(ax):\n",
    "\n",
    "    for c in ax.containers:\n",
    "\n",
    "        # Optional: if the segment is small or 0, customize the labels\n",
    "        labels = [v.get_height() if v.get_height() > 0 else '' for v in c]\n",
    "\n",
    "        # remove the labels parameter if it's not needed for customized labels\n",
    "        ax.bar_label(c, labels=labels, label_type='center', fontsize=8)\n",
    "    plt.ylabel(\"Count\")\n",
    "    plt.show()"
   ]
  },
  {
   "cell_type": "markdown",
   "id": "c35da6e2",
   "metadata": {},
   "source": [
    "Let's start to plot with Accept Rate. "
   ]
  },
  {
   "cell_type": "code",
   "execution_count": 6,
   "id": "3c307077",
   "metadata": {},
   "outputs": [
    {
     "data": {
      "image/png": "[encoded data removed]",
      "text/plain": [
       "<Figure size 864x432 with 1 Axes>"
      ]
     },
     "metadata": {
      "needs_background": "light"
     },
     "output_type": "display_data"
    }
   ],
   "source": [
    "ax=df.groupby(\"Accept Rate\")[\"Name\"].count().reset_index().plot(\n",
    "    kind='bar', stacked=False, x='Accept Rate', color='plum', legend=False)\n",
    "plot_counts(ax)"
   ]
  },
  {
   "cell_type": "markdown",
   "id": "a80e2e66",
   "metadata": {},
   "source": [
    "Majority of taxi drivers have >95% accept rate. We will continue with ratings."
   ]
  },
  {
   "cell_type": "code",
   "execution_count": 7,
   "id": "492442b4",
   "metadata": {},
   "outputs": [
    {
     "data": {
      "image/png": "[encoded data removed]",
      "text/plain": [
       "<Figure size 864x432 with 1 Axes>"
      ]
     },
     "metadata": {
      "needs_background": "light"
     },
     "output_type": "display_data"
    }
   ],
   "source": [
    "ax=df.groupby(\"Rating\")[\"Name\"].count().reset_index().plot(\n",
    "    kind='bar', stacked=False, x='Rating', color='pink',legend=False)\n",
    "plot_counts(ax)"
   ]
  },
  {
   "cell_type": "markdown",
   "id": "60c2abef",
   "metadata": {},
   "source": [
    "There are just a few taxi drivers have a rating lower than 4.5."
   ]
  },
  {
   "cell_type": "code",
   "execution_count": 8,
   "id": "f7ad2335",
   "metadata": {},
   "outputs": [
    {
     "data": {
      "image/png": "[encoded data removed]",
      "text/plain": [
       "<Figure size 864x432 with 1 Axes>"
      ]
     },
     "metadata": {
      "needs_background": "light"
     },
     "output_type": "display_data"
    }
   ],
   "source": [
    "ax=df.groupby(\"Trips Completed\")[\"Name\"].count().reset_index().plot(\n",
    "    kind='bar', stacked=False, x='Trips Completed', color='c', legend=False)\n",
    "plot_counts(ax)"
   ]
  },
  {
   "cell_type": "markdown",
   "id": "0a5f694f",
   "metadata": {},
   "source": [
    "There is a wide range for completed trips. "
   ]
  },
  {
   "cell_type": "code",
   "execution_count": 9,
   "id": "e585d00f",
   "metadata": {},
   "outputs": [
    {
     "data": {
      "image/png": "[encoded data removed]",
      "text/plain": [
       "<Figure size 864x432 with 1 Axes>"
      ]
     },
     "metadata": {
      "needs_background": "light"
     },
     "output_type": "display_data"
    }
   ],
   "source": [
    "ax=df.groupby(\"Supply Hours\")[\"Name\"].count().reset_index().plot(\n",
    "    kind='bar', stacked=False, x='Supply Hours', color='lavender',legend=False)\n",
    "plot_counts(ax)"
   ]
  },
  {
   "cell_type": "markdown",
   "id": "994bb986",
   "metadata": {},
   "source": [
    "Most of the taxi drivers work more than 5 hours. Okay, now we can move forward with questions!"
   ]
  },
  {
   "cell_type": "markdown",
   "id": "d099c4ec",
   "metadata": {},
   "source": [
    "## QUESTION 25"
   ]
  },
  {
   "cell_type": "markdown",
   "id": "6b28dc8b",
   "metadata": {},
   "source": [
    "It is going to be a huge Saturday and there will need to be many more cars on the road than last week. In order to get drivers to go online, we're assessing the following two bonus options in terms of cost.\n",
    "\n",
    "**Option 1:** $50 for each driver that is online at least 8 hours, accept 90% of requests, completes 10 trips, and has a rating of 4.7 or better during the time frame.\n",
    "\n",
    "**Option 2:** $4/ trip for all drivers complete 12 trips, and have a 4.7 or better rating.\n",
    "\n",
    "How much would the total bonus payout with Option 1?"
   ]
  },
  {
   "cell_type": "markdown",
   "id": "8ed931bd",
   "metadata": {},
   "source": [
    "## SOLUTION 25"
   ]
  },
  {
   "cell_type": "markdown",
   "id": "2e70c444",
   "metadata": {},
   "source": [
    "It is basic filtering! We will apply the conditions onto dataframe and see how many taxi drivers would fall under them."
   ]
  },
  {
   "cell_type": "code",
   "execution_count": 10,
   "id": "d65a83b4",
   "metadata": {},
   "outputs": [
    {
     "data": {
      "text/html": [
       "<div>\n",
       "<style scoped>\n",
       "    .dataframe tbody tr th:only-of-type {\n",
       "        vertical-align: middle;\n",
       "    }\n",
       "\n",
       "    .dataframe tbody tr th {\n",
       "        vertical-align: top;\n",
       "    }\n",
       "\n",
       "    .dataframe thead th {\n",
       "        text-align: right;\n",
       "    }\n",
       "</style>\n",
       "<table border=\"1\" class=\"dataframe\">\n",
       "  <thead>\n",
       "    <tr style=\"text-align: right;\">\n",
       "      <th></th>\n",
       "      <th>Name</th>\n",
       "      <th>Trips Completed</th>\n",
       "      <th>Accept Rate</th>\n",
       "      <th>Supply Hours</th>\n",
       "      <th>Rating</th>\n",
       "    </tr>\n",
       "  </thead>\n",
       "  <tbody>\n",
       "    <tr>\n",
       "      <th>11</th>\n",
       "      <td>Byron</td>\n",
       "      <td>15</td>\n",
       "      <td>100.0</td>\n",
       "      <td>10</td>\n",
       "      <td>4.9</td>\n",
       "    </tr>\n",
       "    <tr>\n",
       "      <th>12</th>\n",
       "      <td>Carlota</td>\n",
       "      <td>14</td>\n",
       "      <td>100.0</td>\n",
       "      <td>8</td>\n",
       "      <td>5.0</td>\n",
       "    </tr>\n",
       "    <tr>\n",
       "      <th>19</th>\n",
       "      <td>Dannette</td>\n",
       "      <td>14</td>\n",
       "      <td>100.0</td>\n",
       "      <td>9</td>\n",
       "      <td>4.9</td>\n",
       "    </tr>\n",
       "    <tr>\n",
       "      <th>23</th>\n",
       "      <td>Demetrius</td>\n",
       "      <td>14</td>\n",
       "      <td>100.0</td>\n",
       "      <td>9</td>\n",
       "      <td>5.0</td>\n",
       "    </tr>\n",
       "    <tr>\n",
       "      <th>26</th>\n",
       "      <td>Dimple</td>\n",
       "      <td>15</td>\n",
       "      <td>100.0</td>\n",
       "      <td>10</td>\n",
       "      <td>4.9</td>\n",
       "    </tr>\n",
       "  </tbody>\n",
       "</table>\n",
       "</div>"
      ],
      "text/plain": [
       "         Name  Trips Completed  Accept Rate  Supply Hours  Rating\n",
       "11      Byron               15        100.0            10     4.9\n",
       "12    Carlota               14        100.0             8     5.0\n",
       "19   Dannette               14        100.0             9     4.9\n",
       "23  Demetrius               14        100.0             9     5.0\n",
       "26     Dimple               15        100.0            10     4.9"
      ]
     },
     "execution_count": 10,
     "metadata": {},
     "output_type": "execute_result"
    }
   ],
   "source": [
    "# filter by given condition\n",
    "first_option_df = df[(df['Supply Hours'] >= 8) & (df['Trips Completed'] >= 10) & \n",
    "                     (df['Accept Rate'] >= 90) & (df['Rating'] >= 4.7)]\n",
    "first_option_df.head()"
   ]
  },
  {
   "cell_type": "markdown",
   "id": "79e21536",
   "metadata": {},
   "source": [
    "Now, multiply row number with $50, the answer is there!"
   ]
  },
  {
   "cell_type": "code",
   "execution_count": 11,
   "id": "6aa62436",
   "metadata": {},
   "outputs": [
    {
     "name": "stdout",
     "output_type": "stream",
     "text": [
      "$1050\n"
     ]
    }
   ],
   "source": [
    "first_option_total_payout = 50 * len(first_option_df)\n",
    "print('$'+str(first_option_total_payout))"
   ]
  },
  {
   "cell_type": "markdown",
   "id": "66fffee5",
   "metadata": {},
   "source": [
    "## QUESTION 26"
   ]
  },
  {
   "cell_type": "markdown",
   "id": "cae493f1",
   "metadata": {},
   "source": [
    "How much would the total bonus payout with option 2?"
   ]
  },
  {
   "cell_type": "markdown",
   "id": "4be1853a",
   "metadata": {},
   "source": [
    "## SOLUTION 26"
   ]
  },
  {
   "cell_type": "markdown",
   "id": "42558843",
   "metadata": {},
   "source": [
    "We will do the same filtering with different conditions. Apply them as given in the question statement."
   ]
  },
  {
   "cell_type": "code",
   "execution_count": 12,
   "id": "68fefee6",
   "metadata": {},
   "outputs": [
    {
     "data": {
      "text/html": [
       "<div>\n",
       "<style scoped>\n",
       "    .dataframe tbody tr th:only-of-type {\n",
       "        vertical-align: middle;\n",
       "    }\n",
       "\n",
       "    .dataframe tbody tr th {\n",
       "        vertical-align: top;\n",
       "    }\n",
       "\n",
       "    .dataframe thead th {\n",
       "        text-align: right;\n",
       "    }\n",
       "</style>\n",
       "<table border=\"1\" class=\"dataframe\">\n",
       "  <thead>\n",
       "    <tr style=\"text-align: right;\">\n",
       "      <th></th>\n",
       "      <th>Name</th>\n",
       "      <th>Trips Completed</th>\n",
       "      <th>Accept Rate</th>\n",
       "      <th>Supply Hours</th>\n",
       "      <th>Rating</th>\n",
       "    </tr>\n",
       "  </thead>\n",
       "  <tbody>\n",
       "    <tr>\n",
       "      <th>1</th>\n",
       "      <td>Abraham</td>\n",
       "      <td>12</td>\n",
       "      <td>83.0</td>\n",
       "      <td>5</td>\n",
       "      <td>4.7</td>\n",
       "    </tr>\n",
       "    <tr>\n",
       "      <th>4</th>\n",
       "      <td>Alec</td>\n",
       "      <td>21</td>\n",
       "      <td>76.0</td>\n",
       "      <td>11</td>\n",
       "      <td>5.0</td>\n",
       "    </tr>\n",
       "    <tr>\n",
       "      <th>8</th>\n",
       "      <td>Augusta</td>\n",
       "      <td>19</td>\n",
       "      <td>84.0</td>\n",
       "      <td>11</td>\n",
       "      <td>4.7</td>\n",
       "    </tr>\n",
       "    <tr>\n",
       "      <th>10</th>\n",
       "      <td>Buffy</td>\n",
       "      <td>13</td>\n",
       "      <td>54.0</td>\n",
       "      <td>6</td>\n",
       "      <td>5.0</td>\n",
       "    </tr>\n",
       "    <tr>\n",
       "      <th>11</th>\n",
       "      <td>Byron</td>\n",
       "      <td>15</td>\n",
       "      <td>100.0</td>\n",
       "      <td>10</td>\n",
       "      <td>4.9</td>\n",
       "    </tr>\n",
       "  </tbody>\n",
       "</table>\n",
       "</div>"
      ],
      "text/plain": [
       "       Name  Trips Completed  Accept Rate  Supply Hours  Rating\n",
       "1   Abraham               12         83.0             5     4.7\n",
       "4      Alec               21         76.0            11     5.0\n",
       "8   Augusta               19         84.0            11     4.7\n",
       "10    Buffy               13         54.0             6     5.0\n",
       "11    Byron               15        100.0            10     4.9"
      ]
     },
     "execution_count": 12,
     "metadata": {},
     "output_type": "execute_result"
    }
   ],
   "source": [
    "# filter by given condition\n",
    "second_option_df = df[(df['Trips Completed'] >= 12) & (df['Rating'] >= 4.7)]\n",
    "second_option_df.head()"
   ]
  },
  {
   "cell_type": "markdown",
   "id": "bd9c2124",
   "metadata": {},
   "source": [
    "Finally, multiply total completed trips for all drivers with $4. "
   ]
  },
  {
   "cell_type": "code",
   "execution_count": 13,
   "id": "0a1e70a1",
   "metadata": {},
   "outputs": [
    {
     "name": "stdout",
     "output_type": "stream",
     "text": [
      "$2976\n"
     ]
    }
   ],
   "source": [
    "second_option_total_payout = 4 * second_option_df['Trips Completed'].sum()\n",
    "print('$'+str(second_option_total_payout))"
   ]
  },
  {
   "cell_type": "markdown",
   "id": "db669f82",
   "metadata": {},
   "source": [
    "## QUESTION 27"
   ]
  },
  {
   "cell_type": "markdown",
   "id": "79244399",
   "metadata": {},
   "source": [
    "How many drivers would qualify under Option 1 but not under Option 2?"
   ]
  },
  {
   "cell_type": "markdown",
   "id": "f5b2cf58",
   "metadata": {},
   "source": [
    "## SOLUTION 27"
   ]
  },
  {
   "cell_type": "markdown",
   "id": "0a957506",
   "metadata": {},
   "source": [
    "To solve it, we can benefit from the indicator option of pandas merge, which is explained here: https://pandas.pydata.org/docs/reference/api/pandas.DataFrame.merge.html"
   ]
  },
  {
   "cell_type": "markdown",
   "id": "70ce2736",
   "metadata": {},
   "source": [
    "We will set indicator to True and it will help us to identify each row is coming from which dataframe as left, right or both. We will merge on first option dataset with left setting. It means the drivers would qualify under Option 1 but not under Option 2 will have `left_only` indicator."
   ]
  },
  {
   "cell_type": "code",
   "execution_count": 14,
   "id": "f41d9d1c",
   "metadata": {},
   "outputs": [
    {
     "data": {
      "text/html": [
       "<div>\n",
       "<style scoped>\n",
       "    .dataframe tbody tr th:only-of-type {\n",
       "        vertical-align: middle;\n",
       "    }\n",
       "\n",
       "    .dataframe tbody tr th {\n",
       "        vertical-align: top;\n",
       "    }\n",
       "\n",
       "    .dataframe thead th {\n",
       "        text-align: right;\n",
       "    }\n",
       "</style>\n",
       "<table border=\"1\" class=\"dataframe\">\n",
       "  <thead>\n",
       "    <tr style=\"text-align: right;\">\n",
       "      <th></th>\n",
       "      <th>Name</th>\n",
       "      <th>Trips Completed</th>\n",
       "      <th>Accept Rate</th>\n",
       "      <th>Supply Hours</th>\n",
       "      <th>Rating</th>\n",
       "      <th>_merge</th>\n",
       "    </tr>\n",
       "  </thead>\n",
       "  <tbody>\n",
       "    <tr>\n",
       "      <th>0</th>\n",
       "      <td>Byron</td>\n",
       "      <td>15</td>\n",
       "      <td>100.0</td>\n",
       "      <td>10</td>\n",
       "      <td>4.9</td>\n",
       "      <td>both</td>\n",
       "    </tr>\n",
       "    <tr>\n",
       "      <th>1</th>\n",
       "      <td>Carlota</td>\n",
       "      <td>14</td>\n",
       "      <td>100.0</td>\n",
       "      <td>8</td>\n",
       "      <td>5.0</td>\n",
       "      <td>both</td>\n",
       "    </tr>\n",
       "    <tr>\n",
       "      <th>2</th>\n",
       "      <td>Dannette</td>\n",
       "      <td>14</td>\n",
       "      <td>100.0</td>\n",
       "      <td>9</td>\n",
       "      <td>4.9</td>\n",
       "      <td>both</td>\n",
       "    </tr>\n",
       "    <tr>\n",
       "      <th>3</th>\n",
       "      <td>Demetrius</td>\n",
       "      <td>14</td>\n",
       "      <td>100.0</td>\n",
       "      <td>9</td>\n",
       "      <td>5.0</td>\n",
       "      <td>both</td>\n",
       "    </tr>\n",
       "    <tr>\n",
       "      <th>4</th>\n",
       "      <td>Dimple</td>\n",
       "      <td>15</td>\n",
       "      <td>100.0</td>\n",
       "      <td>10</td>\n",
       "      <td>4.9</td>\n",
       "      <td>both</td>\n",
       "    </tr>\n",
       "    <tr>\n",
       "      <th>5</th>\n",
       "      <td>Emil</td>\n",
       "      <td>12</td>\n",
       "      <td>100.0</td>\n",
       "      <td>9</td>\n",
       "      <td>5.0</td>\n",
       "      <td>both</td>\n",
       "    </tr>\n",
       "    <tr>\n",
       "      <th>6</th>\n",
       "      <td>Garth</td>\n",
       "      <td>15</td>\n",
       "      <td>100.0</td>\n",
       "      <td>10</td>\n",
       "      <td>5.0</td>\n",
       "      <td>both</td>\n",
       "    </tr>\n",
       "    <tr>\n",
       "      <th>7</th>\n",
       "      <td>Hanh</td>\n",
       "      <td>14</td>\n",
       "      <td>94.0</td>\n",
       "      <td>9</td>\n",
       "      <td>4.9</td>\n",
       "      <td>both</td>\n",
       "    </tr>\n",
       "    <tr>\n",
       "      <th>8</th>\n",
       "      <td>Keshia</td>\n",
       "      <td>20</td>\n",
       "      <td>100.0</td>\n",
       "      <td>11</td>\n",
       "      <td>4.8</td>\n",
       "      <td>both</td>\n",
       "    </tr>\n",
       "    <tr>\n",
       "      <th>9</th>\n",
       "      <td>Latonia</td>\n",
       "      <td>13</td>\n",
       "      <td>100.0</td>\n",
       "      <td>9</td>\n",
       "      <td>5.0</td>\n",
       "      <td>both</td>\n",
       "    </tr>\n",
       "    <tr>\n",
       "      <th>10</th>\n",
       "      <td>Luanne</td>\n",
       "      <td>12</td>\n",
       "      <td>96.0</td>\n",
       "      <td>11</td>\n",
       "      <td>4.9</td>\n",
       "      <td>both</td>\n",
       "    </tr>\n",
       "    <tr>\n",
       "      <th>11</th>\n",
       "      <td>Lyndsey</td>\n",
       "      <td>13</td>\n",
       "      <td>94.0</td>\n",
       "      <td>11</td>\n",
       "      <td>4.9</td>\n",
       "      <td>both</td>\n",
       "    </tr>\n",
       "    <tr>\n",
       "      <th>12</th>\n",
       "      <td>Lynwood</td>\n",
       "      <td>21</td>\n",
       "      <td>95.0</td>\n",
       "      <td>10</td>\n",
       "      <td>5.0</td>\n",
       "      <td>both</td>\n",
       "    </tr>\n",
       "    <tr>\n",
       "      <th>13</th>\n",
       "      <td>Man</td>\n",
       "      <td>23</td>\n",
       "      <td>100.0</td>\n",
       "      <td>10</td>\n",
       "      <td>5.0</td>\n",
       "      <td>both</td>\n",
       "    </tr>\n",
       "    <tr>\n",
       "      <th>14</th>\n",
       "      <td>Marica</td>\n",
       "      <td>16</td>\n",
       "      <td>90.0</td>\n",
       "      <td>10</td>\n",
       "      <td>5.0</td>\n",
       "      <td>both</td>\n",
       "    </tr>\n",
       "    <tr>\n",
       "      <th>15</th>\n",
       "      <td>Natalie</td>\n",
       "      <td>16</td>\n",
       "      <td>94.0</td>\n",
       "      <td>8</td>\n",
       "      <td>4.9</td>\n",
       "      <td>both</td>\n",
       "    </tr>\n",
       "    <tr>\n",
       "      <th>16</th>\n",
       "      <td>Oren</td>\n",
       "      <td>11</td>\n",
       "      <td>91.0</td>\n",
       "      <td>9</td>\n",
       "      <td>4.8</td>\n",
       "      <td>left_only</td>\n",
       "    </tr>\n",
       "    <tr>\n",
       "      <th>17</th>\n",
       "      <td>Phyllis</td>\n",
       "      <td>10</td>\n",
       "      <td>90.0</td>\n",
       "      <td>8</td>\n",
       "      <td>4.8</td>\n",
       "      <td>left_only</td>\n",
       "    </tr>\n",
       "    <tr>\n",
       "      <th>18</th>\n",
       "      <td>Salvador</td>\n",
       "      <td>15</td>\n",
       "      <td>100.0</td>\n",
       "      <td>11</td>\n",
       "      <td>4.8</td>\n",
       "      <td>both</td>\n",
       "    </tr>\n",
       "    <tr>\n",
       "      <th>19</th>\n",
       "      <td>Shandra</td>\n",
       "      <td>14</td>\n",
       "      <td>100.0</td>\n",
       "      <td>8</td>\n",
       "      <td>4.9</td>\n",
       "      <td>both</td>\n",
       "    </tr>\n",
       "    <tr>\n",
       "      <th>20</th>\n",
       "      <td>Vashti</td>\n",
       "      <td>12</td>\n",
       "      <td>92.0</td>\n",
       "      <td>11</td>\n",
       "      <td>4.9</td>\n",
       "      <td>both</td>\n",
       "    </tr>\n",
       "  </tbody>\n",
       "</table>\n",
       "</div>"
      ],
      "text/plain": [
       "         Name  Trips Completed  Accept Rate  Supply Hours  Rating     _merge\n",
       "0       Byron               15        100.0            10     4.9       both\n",
       "1     Carlota               14        100.0             8     5.0       both\n",
       "2    Dannette               14        100.0             9     4.9       both\n",
       "3   Demetrius               14        100.0             9     5.0       both\n",
       "4      Dimple               15        100.0            10     4.9       both\n",
       "5        Emil               12        100.0             9     5.0       both\n",
       "6       Garth               15        100.0            10     5.0       both\n",
       "7        Hanh               14         94.0             9     4.9       both\n",
       "8      Keshia               20        100.0            11     4.8       both\n",
       "9     Latonia               13        100.0             9     5.0       both\n",
       "10     Luanne               12         96.0            11     4.9       both\n",
       "11    Lyndsey               13         94.0            11     4.9       both\n",
       "12    Lynwood               21         95.0            10     5.0       both\n",
       "13        Man               23        100.0            10     5.0       both\n",
       "14     Marica               16         90.0            10     5.0       both\n",
       "15    Natalie               16         94.0             8     4.9       both\n",
       "16       Oren               11         91.0             9     4.8  left_only\n",
       "17    Phyllis               10         90.0             8     4.8  left_only\n",
       "18   Salvador               15        100.0            11     4.8       both\n",
       "19    Shandra               14        100.0             8     4.9       both\n",
       "20     Vashti               12         92.0            11     4.9       both"
      ]
     },
     "execution_count": 14,
     "metadata": {},
     "output_type": "execute_result"
    }
   ],
   "source": [
    "# merge all and see if both dataset includes the driver from _merge column\n",
    "df_all = first_option_df.merge(second_option_df, on=first_option_df.columns.to_list(), \n",
    "                   how='left', indicator=True)\n",
    "df_all"
   ]
  },
  {
   "cell_type": "code",
   "execution_count": 15,
   "id": "483b240b",
   "metadata": {},
   "outputs": [
    {
     "data": {
      "text/html": [
       "<div>\n",
       "<style scoped>\n",
       "    .dataframe tbody tr th:only-of-type {\n",
       "        vertical-align: middle;\n",
       "    }\n",
       "\n",
       "    .dataframe tbody tr th {\n",
       "        vertical-align: top;\n",
       "    }\n",
       "\n",
       "    .dataframe thead th {\n",
       "        text-align: right;\n",
       "    }\n",
       "</style>\n",
       "<table border=\"1\" class=\"dataframe\">\n",
       "  <thead>\n",
       "    <tr style=\"text-align: right;\">\n",
       "      <th></th>\n",
       "      <th>Name</th>\n",
       "      <th>Trips Completed</th>\n",
       "      <th>Accept Rate</th>\n",
       "      <th>Supply Hours</th>\n",
       "      <th>Rating</th>\n",
       "      <th>_merge</th>\n",
       "    </tr>\n",
       "  </thead>\n",
       "  <tbody>\n",
       "    <tr>\n",
       "      <th>16</th>\n",
       "      <td>Oren</td>\n",
       "      <td>11</td>\n",
       "      <td>91.0</td>\n",
       "      <td>9</td>\n",
       "      <td>4.8</td>\n",
       "      <td>left_only</td>\n",
       "    </tr>\n",
       "    <tr>\n",
       "      <th>17</th>\n",
       "      <td>Phyllis</td>\n",
       "      <td>10</td>\n",
       "      <td>90.0</td>\n",
       "      <td>8</td>\n",
       "      <td>4.8</td>\n",
       "      <td>left_only</td>\n",
       "    </tr>\n",
       "  </tbody>\n",
       "</table>\n",
       "</div>"
      ],
      "text/plain": [
       "       Name  Trips Completed  Accept Rate  Supply Hours  Rating     _merge\n",
       "16     Oren               11         91.0             9     4.8  left_only\n",
       "17  Phyllis               10         90.0             8     4.8  left_only"
      ]
     },
     "execution_count": 15,
     "metadata": {},
     "output_type": "execute_result"
    }
   ],
   "source": [
    "# included by only option 1\n",
    "df_all[df_all[\"_merge\"] == 'left_only']"
   ]
  },
  {
   "cell_type": "markdown",
   "id": "497080b4",
   "metadata": {},
   "source": [
    "## QUESTION 28"
   ]
  },
  {
   "cell_type": "markdown",
   "id": "57c1c177",
   "metadata": {},
   "source": [
    "What percentages of drivers online completed less than 10 trips, had an acceptance rate of less than 90%, and had a rating of 4.7 or higher?"
   ]
  },
  {
   "cell_type": "markdown",
   "id": "9787d645",
   "metadata": {},
   "source": [
    "## SOLUTION 28"
   ]
  },
  {
   "cell_type": "markdown",
   "id": "6fdb32e8",
   "metadata": {},
   "source": [
    "First we find the driver count who follows the conditions that are given in the question statement by using filtering."
   ]
  },
  {
   "cell_type": "code",
   "execution_count": 16,
   "id": "981e85be",
   "metadata": {},
   "outputs": [
    {
     "data": {
      "text/html": [
       "<div>\n",
       "<style scoped>\n",
       "    .dataframe tbody tr th:only-of-type {\n",
       "        vertical-align: middle;\n",
       "    }\n",
       "\n",
       "    .dataframe tbody tr th {\n",
       "        vertical-align: top;\n",
       "    }\n",
       "\n",
       "    .dataframe thead th {\n",
       "        text-align: right;\n",
       "    }\n",
       "</style>\n",
       "<table border=\"1\" class=\"dataframe\">\n",
       "  <thead>\n",
       "    <tr style=\"text-align: right;\">\n",
       "      <th></th>\n",
       "      <th>Name</th>\n",
       "      <th>Trips Completed</th>\n",
       "      <th>Accept Rate</th>\n",
       "      <th>Supply Hours</th>\n",
       "      <th>Rating</th>\n",
       "    </tr>\n",
       "  </thead>\n",
       "  <tbody>\n",
       "    <tr>\n",
       "      <th>17</th>\n",
       "      <td>Cris</td>\n",
       "      <td>7</td>\n",
       "      <td>71.0</td>\n",
       "      <td>5</td>\n",
       "      <td>5.0</td>\n",
       "    </tr>\n",
       "    <tr>\n",
       "      <th>18</th>\n",
       "      <td>Dalila</td>\n",
       "      <td>7</td>\n",
       "      <td>57.0</td>\n",
       "      <td>2</td>\n",
       "      <td>4.8</td>\n",
       "    </tr>\n",
       "    <tr>\n",
       "      <th>20</th>\n",
       "      <td>Dannielle</td>\n",
       "      <td>3</td>\n",
       "      <td>67.0</td>\n",
       "      <td>5</td>\n",
       "      <td>5.0</td>\n",
       "    </tr>\n",
       "    <tr>\n",
       "      <th>22</th>\n",
       "      <td>Delfina</td>\n",
       "      <td>4</td>\n",
       "      <td>50.0</td>\n",
       "      <td>3</td>\n",
       "      <td>4.7</td>\n",
       "    </tr>\n",
       "    <tr>\n",
       "      <th>27</th>\n",
       "      <td>Domenica</td>\n",
       "      <td>9</td>\n",
       "      <td>89.0</td>\n",
       "      <td>5</td>\n",
       "      <td>4.9</td>\n",
       "    </tr>\n",
       "    <tr>\n",
       "      <th>36</th>\n",
       "      <td>Floyd</td>\n",
       "      <td>3</td>\n",
       "      <td>67.0</td>\n",
       "      <td>1</td>\n",
       "      <td>4.8</td>\n",
       "    </tr>\n",
       "    <tr>\n",
       "      <th>41</th>\n",
       "      <td>Hee</td>\n",
       "      <td>9</td>\n",
       "      <td>89.0</td>\n",
       "      <td>7</td>\n",
       "      <td>4.7</td>\n",
       "    </tr>\n",
       "    <tr>\n",
       "      <th>45</th>\n",
       "      <td>Ingrid</td>\n",
       "      <td>7</td>\n",
       "      <td>43.0</td>\n",
       "      <td>4</td>\n",
       "      <td>4.8</td>\n",
       "    </tr>\n",
       "    <tr>\n",
       "      <th>66</th>\n",
       "      <td>Lilla</td>\n",
       "      <td>9</td>\n",
       "      <td>89.0</td>\n",
       "      <td>8</td>\n",
       "      <td>4.7</td>\n",
       "    </tr>\n",
       "    <tr>\n",
       "      <th>67</th>\n",
       "      <td>Loree</td>\n",
       "      <td>9</td>\n",
       "      <td>89.0</td>\n",
       "      <td>8</td>\n",
       "      <td>4.7</td>\n",
       "    </tr>\n",
       "    <tr>\n",
       "      <th>97</th>\n",
       "      <td>Sanda</td>\n",
       "      <td>8</td>\n",
       "      <td>88.0</td>\n",
       "      <td>8</td>\n",
       "      <td>4.7</td>\n",
       "    </tr>\n",
       "    <tr>\n",
       "      <th>107</th>\n",
       "      <td>Tenisha</td>\n",
       "      <td>8</td>\n",
       "      <td>88.0</td>\n",
       "      <td>6</td>\n",
       "      <td>5.0</td>\n",
       "    </tr>\n",
       "    <tr>\n",
       "      <th>116</th>\n",
       "      <td>Yessenia</td>\n",
       "      <td>8</td>\n",
       "      <td>88.0</td>\n",
       "      <td>5</td>\n",
       "      <td>5.0</td>\n",
       "    </tr>\n",
       "  </tbody>\n",
       "</table>\n",
       "</div>"
      ],
      "text/plain": [
       "          Name  Trips Completed  Accept Rate  Supply Hours  Rating\n",
       "17        Cris                7         71.0             5     5.0\n",
       "18      Dalila                7         57.0             2     4.8\n",
       "20   Dannielle                3         67.0             5     5.0\n",
       "22     Delfina                4         50.0             3     4.7\n",
       "27    Domenica                9         89.0             5     4.9\n",
       "36       Floyd                3         67.0             1     4.8\n",
       "41         Hee                9         89.0             7     4.7\n",
       "45      Ingrid                7         43.0             4     4.8\n",
       "66       Lilla                9         89.0             8     4.7\n",
       "67       Loree                9         89.0             8     4.7\n",
       "97       Sanda                8         88.0             8     4.7\n",
       "107    Tenisha                8         88.0             6     5.0\n",
       "116   Yessenia                8         88.0             5     5.0"
      ]
     },
     "execution_count": 16,
     "metadata": {},
     "output_type": "execute_result"
    }
   ],
   "source": [
    "# filter with given condition\n",
    "less_trips_df = df[(df['Trips Completed'] < 10) & (df['Accept Rate'] < 90) & (df['Rating'] >= 4.7)]\n",
    "less_trips_df"
   ]
  },
  {
   "cell_type": "markdown",
   "id": "20658a00",
   "metadata": {},
   "source": [
    "Then, we will calculate the percentage by its ratio to all drivers count in whole dataframe."
   ]
  },
  {
   "cell_type": "code",
   "execution_count": 17,
   "id": "d68659a0",
   "metadata": {},
   "outputs": [
    {
     "name": "stdout",
     "output_type": "stream",
     "text": [
      "10.92436974789916%\n"
     ]
    }
   ],
   "source": [
    "print(str(len(less_trips_df) / len(df) * 100)+\"%\")"
   ]
  },
  {
   "cell_type": "markdown",
   "id": "60b0145e",
   "metadata": {},
   "source": [
    "## QUESTION 13"
   ]
  },
  {
   "cell_type": "markdown",
   "id": "fce082d2",
   "metadata": {},
   "source": [
    "**Partner Business Modelling**\n",
    "\n",
    "_This question worths is double points_\n",
    "\n",
    "Please use the information below and the one that follows:\n",
    "\n",
    "A taxi driver currently generates $200 per day in fares (before expenses), works six days a week, takes three weeks off and has the following expenses:\n",
    "\n",
    "- Gas 200 USD per week\n",
    "- Insurance 400 USD per month\n",
    "- Vehicle rent (by the week) 500 USD\n",
    "\n",
    "The driver doesn't pay gas and rent expenses on off weeks. \n",
    "\n",
    "**How much money (after expenses) does the driver make per year?**"
   ]
  },
  {
   "cell_type": "markdown",
   "id": "149d23c5",
   "metadata": {},
   "source": [
    "## SOLUTION 13"
   ]
  },
  {
   "cell_type": "markdown",
   "id": "12e81b79",
   "metadata": {},
   "source": [
    "Let's put all variables into math. There are 52 weeks per year and each year driver takes 3 weeks off. We will multiply weekly expenses by 49 months then. There is a montly expense that we need to multiply with total months per year, which is 12. This will form the expenses part. "
   ]
  },
  {
   "cell_type": "code",
   "execution_count": 18,
   "id": "b5f3dc62",
   "metadata": {},
   "outputs": [],
   "source": [
    "total_weeks_per_year = 52\n",
    "weeks_off = 3\n",
    "fare_per_day = 200 \n",
    "workday_per_week = 6\n",
    "total_months_per_year = 12\n",
    "# expenses\n",
    "gas_per_week = 200\n",
    "insurance_per_month = 400\n",
    "vehicle_rent_by_week = 500"
   ]
  },
  {
   "cell_type": "code",
   "execution_count": 19,
   "id": "c557c220",
   "metadata": {},
   "outputs": [
    {
     "name": "stdout",
     "output_type": "stream",
     "text": [
      "$39100\n"
     ]
    }
   ],
   "source": [
    "total_expenses = (gas_per_week + vehicle_rent_by_week) * (total_weeks_per_year - weeks_off) + insurance_per_month * total_months_per_year\n",
    "print(\"$\"+str(total_expenses))"
   ]
  },
  {
   "cell_type": "markdown",
   "id": "5f23bdc2",
   "metadata": {},
   "source": [
    "For revenues part, there are 6 workdays in a week. So, we will multiply fare per day with 6 and then 49 weeks for all year.  "
   ]
  },
  {
   "cell_type": "code",
   "execution_count": 20,
   "id": "2b2926f5",
   "metadata": {},
   "outputs": [
    {
     "name": "stdout",
     "output_type": "stream",
     "text": [
      "$58800\n"
     ]
    }
   ],
   "source": [
    "total_revenue = (total_weeks_per_year - weeks_off) * workday_per_week * fare_per_day\n",
    "print(\"$\"+str(total_revenue))"
   ]
  },
  {
   "cell_type": "markdown",
   "id": "e8db32a4",
   "metadata": {},
   "source": [
    "Finally, deduct all expenses from total revenue to calculate how much money does the driver make per year."
   ]
  },
  {
   "cell_type": "code",
   "execution_count": 21,
   "id": "f49a073d",
   "metadata": {},
   "outputs": [
    {
     "name": "stdout",
     "output_type": "stream",
     "text": [
      "$19700\n"
     ]
    }
   ],
   "source": [
    "print(\"$\"+str(total_revenue - total_expenses))"
   ]
  },
  {
   "cell_type": "markdown",
   "id": "2ba435f1",
   "metadata": {},
   "source": [
    "## QUESTION 14"
   ]
  },
  {
   "cell_type": "markdown",
   "id": "328e6c1a",
   "metadata": {},
   "source": [
    "**Partner Business Modelling**\n",
    "\n",
    "_This question worths is double points_\n",
    "\n",
    "You are convincing the same driver above to buy a Town Car and partner with Uber.\n",
    "\n",
    "If he does, his gas expenses would go up by 5%, his insurance expense would decrease by 20%, and he would no longer be renting a vehicle.\n",
    "\n",
    "However, he would need to buy a car. Assuming the new car is 40000 USD, how much would the driver's gross fares need to increase per week to fully pay the car in year 1?"
   ]
  },
  {
   "cell_type": "markdown",
   "id": "cdb489c5",
   "metadata": {},
   "source": [
    "## SOLUTION 14"
   ]
  },
  {
   "cell_type": "markdown",
   "id": "2ffe1ba8",
   "metadata": {},
   "source": [
    "To find the increase that needs to be applied on fares, we need to calculate the total difference caused by given reasons. Let's start with calculating the difference caused by new insurance, gas , and car price. The taxi driver won't pay vehicle rent per week anymore. After finding the taxi driver's total expense increase we will divide it to total working days and find the needed fare increase."
   ]
  },
  {
   "cell_type": "code",
   "execution_count": 22,
   "id": "8e788808",
   "metadata": {},
   "outputs": [
    {
     "name": "stdout",
     "output_type": "stream",
     "text": [
      "$51.12244897959184\n"
     ]
    }
   ],
   "source": [
    "# calculate the difference caused by new insurance, gas , and car price\n",
    "gas_per_week = gas_per_week * 0.05\n",
    "insurance_per_month = insurance_per_month * -0.2\n",
    "new_car = 40000\n",
    "\n",
    "new_total_expenses = new_car + (gas_per_week - vehicle_rent_by_week) * (total_weeks_per_year - weeks_off) + insurance_per_month * total_months_per_year\n",
    "fare_increase = new_total_expenses / ((total_weeks_per_year - weeks_off) * workday_per_week)\n",
    "print(\"$\"+str(fare_increase))"
   ]
  },
  {
   "cell_type": "code",
   "execution_count": null,
   "id": "3712f3d6",
   "metadata": {},
   "outputs": [],
   "source": []
  }
 ],
 "metadata": {
  "kernelspec": {
   "display_name": "Python 3",
   "language": "python",
   "name": "python3"
  },
  "language_info": {
   "codemirror_mode": {
    "name": "ipython",
    "version": 3
   },
   "file_extension": ".py",
   "mimetype": "text/x-python",
   "name": "python",
   "nbconvert_exporter": "python",
   "pygments_lexer": "ipython3",
   "version": "3.8.8"
  }
 },
 "nbformat": 4,
 "nbformat_minor": 5
}
