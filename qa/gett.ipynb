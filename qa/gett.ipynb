{
 "cells": [
  {
   "cell_type": "markdown",
   "metadata": {
    "pycharm": {
     "name": "#%% md\n"
    }
   },
   "source": [
    "# Gett Product Analytics"
   ]
  },
  {
   "cell_type": "markdown",
   "metadata": {
    "pycharm": {
     "name": "#%% md\n"
    }
   },
   "source": [
    "## Description\n",
    "\n",
    "[Gett](https://gett.com/intl/), previously known as GetTaxi, is an Israeli developed technology platform solely focused on corporate Ground Transportation Management (GTM). They have an application where clients can order taxis, and drivers can accept their rides (offers). At the moment, when the client clicks the _Order_ button in the application, the matching system searches for the most relevant drivers and offers them the order. In this task we would like to investigate some matching metrics for orders that did not complete successfully, i.e., the customer didn't end up getting a car.\n",
    "\n",
    "## Data\n",
    "\n",
    "We have two data sets: `order` and `offers`. The `orders` data set contains the following columns:\n",
    "\n",
    "- `order_datetime` - time of the order\n",
    "- `order_longitude` - longitude of the order\n",
    "- `order_latitude` - latitude of the order\n",
    "- `m_order_eta` - time before order arrival\n",
    "- `order_gk` - order number\n",
    "- `order_status_key` - status, an enumeration consisting of the following mapping: `4` - cancelled by client, `9` - cancelled by system, i.e., a reject\n",
    "- `is_driver_assigned_key` - whether a driver has been assigned\n",
    "- `cancellation_time_in_seconds` - how many seconds passed before cancellation\n",
    "\n",
    "## Task\n",
    "\n",
    "Please complete the following tasks.\n",
    "\n",
    "1. Build up a distribution of orders according to reasons for failure: cancellations before and after driver assignment, and reasons for order rejection. Analyse the resulting plot. Which category has the highest number of orders?\n",
    "2. Plot the distribution of failed orders by hours. Is there a trend that certain hours have an abnormally high proportion of one category or another? What hours are the biggest fails? How can this be explained?\n",
    "3. Plot the average time to cancellation with and without driver, by hour. If there are any outliers in the data, it would be better to remove them. Can we draw any conclusions from this plot?\n",
    "4. Plot the distribution of average ETA by hours. How can this plot be explained?\n",
    "5. **BONUS** Hexagons. Using the [h3](https://github.com/uber/h3-py) and [folium](https://python-visualization.github.io/folium/#:~:text=folium%20makes%20it%20easy%20to,as%20markers%20on%20the%20map.) packages, calculate how many size [8 hexes](https://h3geo.org/#/documentation/core-library/resolution-table) contain 80% of all orders from the original data sets and visualise the hexes, colouring them by the number of fails on the map."
   ]
  },
  {
   "cell_type": "markdown",
   "metadata": {
    "pycharm": {
     "name": "#%% md\n"
    }
   },
   "source": [
    "## Read and explore the data sets"
   ]
  },
  {
   "cell_type": "markdown",
   "metadata": {
    "pycharm": {
     "name": "#%% md\n"
    }
   },
   "source": [
    "Before embarking on the quest to answer the presented questions, we will explore and pre-process the provided data sets in a bit of detail, so that we get more familiar with the type of data that we have and we set it in a format that would enable us to answer the questions more easily and more clearly.\n",
    "\n",
    "We will use the Pandas library to load the CSVs into a dataframe structure. Over the years, Pandas has become the Python standard for manipulation and analysis of small to medium data sets. It has methods for reading and transforming data from many formats: HTML, JSON, Parquet, CSV, Excel, etc. At least a basic knowledge of Pandas is very often required for a data science position in any level, so investing some time to learn the library is worthwhile.\n"
   ]
  },
  {
   "cell_type": "code",
   "execution_count": 1,
   "metadata": {
    "pycharm": {
     "name": "#%%\n"
    }
   },
   "outputs": [],
   "source": [
    "import pandas as pd"
   ]
  },
  {
   "cell_type": "markdown",
   "metadata": {
    "pycharm": {
     "name": "#%% md\n"
    }
   },
   "source": [
    "We use the `read_csv()` method to read the CSV with the orders (the notebook assumes that these are in the same directory). The `orders` variable is of type `pd.DataFrame` (you can verify that by running `type(orders)`) - an internal data structure managed by Pandas. It has the attribute `shape` which prints a tuple with the number of rows and columns. Below, we call the `sample()` method to print a sample of `n=10` rows."
   ]
  },
  {
   "cell_type": "code",
   "execution_count": 2,
   "metadata": {
    "pycharm": {
     "name": "#%%\n"
    }
   },
   "outputs": [],
   "source": [
    "orders = pd.read_csv(filepath_or_buffer=\"data_orders.csv\")"
   ]
  },
  {
   "cell_type": "code",
   "execution_count": 3,
   "metadata": {
    "pycharm": {
     "name": "#%%\n"
    }
   },
   "outputs": [
    {
     "data": {
      "text/plain": [
       "(10716, 8)"
      ]
     },
     "execution_count": 3,
     "metadata": {},
     "output_type": "execute_result"
    }
   ],
   "source": [
    "orders.shape"
   ]
  },
  {
   "cell_type": "code",
   "execution_count": 4,
   "metadata": {
    "pycharm": {
     "name": "#%%\n"
    }
   },
   "outputs": [
    {
     "data": {
      "text/html": [
       "<div>\n",
       "<style scoped>\n",
       "    .dataframe tbody tr th:only-of-type {\n",
       "        vertical-align: middle;\n",
       "    }\n",
       "\n",
       "    .dataframe tbody tr th {\n",
       "        vertical-align: top;\n",
       "    }\n",
       "\n",
       "    .dataframe thead th {\n",
       "        text-align: right;\n",
       "    }\n",
       "</style>\n",
       "<table border=\"1\" class=\"dataframe\">\n",
       "  <thead>\n",
       "    <tr style=\"text-align: right;\">\n",
       "      <th></th>\n",
       "      <th>order_datetime</th>\n",
       "      <th>origin_longitude</th>\n",
       "      <th>origin_latitude</th>\n",
       "      <th>m_order_eta</th>\n",
       "      <th>order_gk</th>\n",
       "      <th>order_status_key</th>\n",
       "      <th>is_driver_assigned_key</th>\n",
       "      <th>cancellations_time_in_seconds</th>\n",
       "    </tr>\n",
       "  </thead>\n",
       "  <tbody>\n",
       "    <tr>\n",
       "      <th>10309</th>\n",
       "      <td>00:29:14</td>\n",
       "      <td>-0.966062</td>\n",
       "      <td>51.454821</td>\n",
       "      <td>NaN</td>\n",
       "      <td>3000555146103</td>\n",
       "      <td>4</td>\n",
       "      <td>0</td>\n",
       "      <td>44.0</td>\n",
       "    </tr>\n",
       "    <tr>\n",
       "      <th>6705</th>\n",
       "      <td>01:28:45</td>\n",
       "      <td>-0.970472</td>\n",
       "      <td>51.456725</td>\n",
       "      <td>NaN</td>\n",
       "      <td>3000595870644</td>\n",
       "      <td>4</td>\n",
       "      <td>0</td>\n",
       "      <td>121.0</td>\n",
       "    </tr>\n",
       "    <tr>\n",
       "      <th>304</th>\n",
       "      <td>08:22:36</td>\n",
       "      <td>-0.916708</td>\n",
       "      <td>51.439852</td>\n",
       "      <td>NaN</td>\n",
       "      <td>3000627783633</td>\n",
       "      <td>9</td>\n",
       "      <td>0</td>\n",
       "      <td>NaN</td>\n",
       "    </tr>\n",
       "    <tr>\n",
       "      <th>9143</th>\n",
       "      <td>07:32:27</td>\n",
       "      <td>-0.955580</td>\n",
       "      <td>51.453493</td>\n",
       "      <td>1078.0</td>\n",
       "      <td>3000622140805</td>\n",
       "      <td>4</td>\n",
       "      <td>1</td>\n",
       "      <td>1017.0</td>\n",
       "    </tr>\n",
       "    <tr>\n",
       "      <th>10593</th>\n",
       "      <td>04:39:55</td>\n",
       "      <td>-0.946358</td>\n",
       "      <td>51.439779</td>\n",
       "      <td>NaN</td>\n",
       "      <td>3000554645524</td>\n",
       "      <td>4</td>\n",
       "      <td>0</td>\n",
       "      <td>121.0</td>\n",
       "    </tr>\n",
       "    <tr>\n",
       "      <th>8654</th>\n",
       "      <td>08:05:02</td>\n",
       "      <td>-0.967327</td>\n",
       "      <td>51.449395</td>\n",
       "      <td>598.0</td>\n",
       "      <td>3000592772077</td>\n",
       "      <td>4</td>\n",
       "      <td>1</td>\n",
       "      <td>48.0</td>\n",
       "    </tr>\n",
       "    <tr>\n",
       "      <th>3919</th>\n",
       "      <td>00:21:47</td>\n",
       "      <td>-0.971597</td>\n",
       "      <td>51.457574</td>\n",
       "      <td>NaN</td>\n",
       "      <td>3000624492441</td>\n",
       "      <td>4</td>\n",
       "      <td>0</td>\n",
       "      <td>180.0</td>\n",
       "    </tr>\n",
       "    <tr>\n",
       "      <th>4337</th>\n",
       "      <td>20:26:40</td>\n",
       "      <td>-0.971296</td>\n",
       "      <td>51.458115</td>\n",
       "      <td>NaN</td>\n",
       "      <td>3000628755869</td>\n",
       "      <td>4</td>\n",
       "      <td>0</td>\n",
       "      <td>104.0</td>\n",
       "    </tr>\n",
       "    <tr>\n",
       "      <th>6931</th>\n",
       "      <td>07:25:39</td>\n",
       "      <td>-0.942301</td>\n",
       "      <td>51.474812</td>\n",
       "      <td>NaN</td>\n",
       "      <td>3000628430595</td>\n",
       "      <td>4</td>\n",
       "      <td>0</td>\n",
       "      <td>44.0</td>\n",
       "    </tr>\n",
       "    <tr>\n",
       "      <th>967</th>\n",
       "      <td>13:41:31</td>\n",
       "      <td>-0.952194</td>\n",
       "      <td>51.444067</td>\n",
       "      <td>NaN</td>\n",
       "      <td>3000623591189</td>\n",
       "      <td>9</td>\n",
       "      <td>0</td>\n",
       "      <td>NaN</td>\n",
       "    </tr>\n",
       "  </tbody>\n",
       "</table>\n",
       "</div>"
      ],
      "text/plain": [
       "      order_datetime  origin_longitude  origin_latitude  m_order_eta  \\\n",
       "10309       00:29:14         -0.966062        51.454821          NaN   \n",
       "6705        01:28:45         -0.970472        51.456725          NaN   \n",
       "304         08:22:36         -0.916708        51.439852          NaN   \n",
       "9143        07:32:27         -0.955580        51.453493       1078.0   \n",
       "10593       04:39:55         -0.946358        51.439779          NaN   \n",
       "8654        08:05:02         -0.967327        51.449395        598.0   \n",
       "3919        00:21:47         -0.971597        51.457574          NaN   \n",
       "4337        20:26:40         -0.971296        51.458115          NaN   \n",
       "6931        07:25:39         -0.942301        51.474812          NaN   \n",
       "967         13:41:31         -0.952194        51.444067          NaN   \n",
       "\n",
       "            order_gk  order_status_key  is_driver_assigned_key  \\\n",
       "10309  3000555146103                 4                       0   \n",
       "6705   3000595870644                 4                       0   \n",
       "304    3000627783633                 9                       0   \n",
       "9143   3000622140805                 4                       1   \n",
       "10593  3000554645524                 4                       0   \n",
       "8654   3000592772077                 4                       1   \n",
       "3919   3000624492441                 4                       0   \n",
       "4337   3000628755869                 4                       0   \n",
       "6931   3000628430595                 4                       0   \n",
       "967    3000623591189                 9                       0   \n",
       "\n",
       "       cancellations_time_in_seconds  \n",
       "10309                           44.0  \n",
       "6705                           121.0  \n",
       "304                              NaN  \n",
       "9143                          1017.0  \n",
       "10593                          121.0  \n",
       "8654                            48.0  \n",
       "3919                           180.0  \n",
       "4337                           104.0  \n",
       "6931                            44.0  \n",
       "967                              NaN  "
      ]
     },
     "execution_count": 4,
     "metadata": {},
     "output_type": "execute_result"
    }
   ],
   "source": [
    "# the random_state argument ensures that we get the same sample\n",
    "# each time we call the method with the same arguments\n",
    "orders.sample(n=10, random_state=42)"
   ]
  },
  {
   "cell_type": "markdown",
   "metadata": {
    "pycharm": {
     "name": "#%% md\n"
    }
   },
   "source": [
    "We repeat the same procedure for the `offers` CSV."
   ]
  },
  {
   "cell_type": "code",
   "execution_count": 5,
   "metadata": {
    "pycharm": {
     "name": "#%%\n"
    }
   },
   "outputs": [],
   "source": [
    "offers = pd.read_csv(filepath_or_buffer=\"data_offers.csv\")"
   ]
  },
  {
   "cell_type": "code",
   "execution_count": 6,
   "metadata": {
    "pycharm": {
     "name": "#%%\n"
    }
   },
   "outputs": [
    {
     "data": {
      "text/plain": [
       "(334363, 2)"
      ]
     },
     "execution_count": 6,
     "metadata": {},
     "output_type": "execute_result"
    }
   ],
   "source": [
    "offers.shape"
   ]
  },
  {
   "cell_type": "code",
   "execution_count": 7,
   "metadata": {
    "pycharm": {
     "name": "#%%\n"
    }
   },
   "outputs": [
    {
     "data": {
      "text/html": [
       "<div>\n",
       "<style scoped>\n",
       "    .dataframe tbody tr th:only-of-type {\n",
       "        vertical-align: middle;\n",
       "    }\n",
       "\n",
       "    .dataframe tbody tr th {\n",
       "        vertical-align: top;\n",
       "    }\n",
       "\n",
       "    .dataframe thead th {\n",
       "        text-align: right;\n",
       "    }\n",
       "</style>\n",
       "<table border=\"1\" class=\"dataframe\">\n",
       "  <thead>\n",
       "    <tr style=\"text-align: right;\">\n",
       "      <th></th>\n",
       "      <th>order_gk</th>\n",
       "      <th>offer_id</th>\n",
       "    </tr>\n",
       "  </thead>\n",
       "  <tbody>\n",
       "    <tr>\n",
       "      <th>244971</th>\n",
       "      <td>3000627481054</td>\n",
       "      <td>300052086404</td>\n",
       "    </tr>\n",
       "    <tr>\n",
       "      <th>236783</th>\n",
       "      <td>3000631282042</td>\n",
       "      <td>300052342376</td>\n",
       "    </tr>\n",
       "    <tr>\n",
       "      <th>22714</th>\n",
       "      <td>3000624367715</td>\n",
       "      <td>300051909011</td>\n",
       "    </tr>\n",
       "    <tr>\n",
       "      <th>306983</th>\n",
       "      <td>3000557436646</td>\n",
       "      <td>300050769980</td>\n",
       "    </tr>\n",
       "    <tr>\n",
       "      <th>170256</th>\n",
       "      <td>3000588131807</td>\n",
       "      <td>300051201442</td>\n",
       "    </tr>\n",
       "    <tr>\n",
       "      <th>316173</th>\n",
       "      <td>3000629756224</td>\n",
       "      <td>300052250019</td>\n",
       "    </tr>\n",
       "    <tr>\n",
       "      <th>234398</th>\n",
       "      <td>3000625018320</td>\n",
       "      <td>300051967737</td>\n",
       "    </tr>\n",
       "    <tr>\n",
       "      <th>122107</th>\n",
       "      <td>3000629082264</td>\n",
       "      <td>300052196687</td>\n",
       "    </tr>\n",
       "    <tr>\n",
       "      <th>60909</th>\n",
       "      <td>3000588606991</td>\n",
       "      <td>300051225443</td>\n",
       "    </tr>\n",
       "    <tr>\n",
       "      <th>52998</th>\n",
       "      <td>3000629981908</td>\n",
       "      <td>300052274857</td>\n",
       "    </tr>\n",
       "  </tbody>\n",
       "</table>\n",
       "</div>"
      ],
      "text/plain": [
       "             order_gk      offer_id\n",
       "244971  3000627481054  300052086404\n",
       "236783  3000631282042  300052342376\n",
       "22714   3000624367715  300051909011\n",
       "306983  3000557436646  300050769980\n",
       "170256  3000588131807  300051201442\n",
       "316173  3000629756224  300052250019\n",
       "234398  3000625018320  300051967737\n",
       "122107  3000629082264  300052196687\n",
       "60909   3000588606991  300051225443\n",
       "52998   3000629981908  300052274857"
      ]
     },
     "execution_count": 7,
     "metadata": {},
     "output_type": "execute_result"
    }
   ],
   "source": [
    "offers.sample(n=10, random_state=42)"
   ]
  },
  {
   "cell_type": "markdown",
   "metadata": {
    "pycharm": {
     "name": "#%% md\n"
    }
   },
   "source": [
    "Next we would like to merge the two dataframes into one, for easier manipulation. Pandas has the `merge()` method for doing exactly that. It is similar to joining tables in SQL. We specify how we want the merge to be carried out (`inner`) and on which column should it occur (`order_gk`). Then, we print a sample of the merged dataframe."
   ]
  },
  {
   "cell_type": "code",
   "execution_count": 8,
   "metadata": {
    "pycharm": {
     "name": "#%%\n"
    }
   },
   "outputs": [],
   "source": [
    "df = orders.merge(right=offers, how=\"inner\", on=\"order_gk\")"
   ]
  },
  {
   "cell_type": "code",
   "execution_count": 9,
   "metadata": {
    "pycharm": {
     "name": "#%%\n"
    }
   },
   "outputs": [
    {
     "data": {
      "text/html": [
       "<div>\n",
       "<style scoped>\n",
       "    .dataframe tbody tr th:only-of-type {\n",
       "        vertical-align: middle;\n",
       "    }\n",
       "\n",
       "    .dataframe tbody tr th {\n",
       "        vertical-align: top;\n",
       "    }\n",
       "\n",
       "    .dataframe thead th {\n",
       "        text-align: right;\n",
       "    }\n",
       "</style>\n",
       "<table border=\"1\" class=\"dataframe\">\n",
       "  <thead>\n",
       "    <tr style=\"text-align: right;\">\n",
       "      <th></th>\n",
       "      <th>order_datetime</th>\n",
       "      <th>origin_longitude</th>\n",
       "      <th>origin_latitude</th>\n",
       "      <th>m_order_eta</th>\n",
       "      <th>order_gk</th>\n",
       "      <th>order_status_key</th>\n",
       "      <th>is_driver_assigned_key</th>\n",
       "      <th>cancellations_time_in_seconds</th>\n",
       "      <th>offer_id</th>\n",
       "    </tr>\n",
       "  </thead>\n",
       "  <tbody>\n",
       "    <tr>\n",
       "      <th>30194</th>\n",
       "      <td>21:15:35</td>\n",
       "      <td>-0.969588</td>\n",
       "      <td>51.455780</td>\n",
       "      <td>299.0</td>\n",
       "      <td>3000555697076</td>\n",
       "      <td>4</td>\n",
       "      <td>1</td>\n",
       "      <td>223.0</td>\n",
       "      <td>300050725946</td>\n",
       "    </tr>\n",
       "    <tr>\n",
       "      <th>14748</th>\n",
       "      <td>10:13:35</td>\n",
       "      <td>-0.955958</td>\n",
       "      <td>51.430362</td>\n",
       "      <td>NaN</td>\n",
       "      <td>3000626091676</td>\n",
       "      <td>4</td>\n",
       "      <td>0</td>\n",
       "      <td>91.0</td>\n",
       "      <td>300052014519</td>\n",
       "    </tr>\n",
       "    <tr>\n",
       "      <th>29083</th>\n",
       "      <td>09:16:38</td>\n",
       "      <td>-1.033560</td>\n",
       "      <td>51.441967</td>\n",
       "      <td>NaN</td>\n",
       "      <td>3000594099225</td>\n",
       "      <td>4</td>\n",
       "      <td>0</td>\n",
       "      <td>68.0</td>\n",
       "      <td>300051458740</td>\n",
       "    </tr>\n",
       "    <tr>\n",
       "      <th>16926</th>\n",
       "      <td>02:08:09</td>\n",
       "      <td>-0.967676</td>\n",
       "      <td>51.444489</td>\n",
       "      <td>NaN</td>\n",
       "      <td>3000626980467</td>\n",
       "      <td>4</td>\n",
       "      <td>0</td>\n",
       "      <td>125.0</td>\n",
       "      <td>300052031394</td>\n",
       "    </tr>\n",
       "    <tr>\n",
       "      <th>21530</th>\n",
       "      <td>21:44:21</td>\n",
       "      <td>-0.972683</td>\n",
       "      <td>51.456762</td>\n",
       "      <td>NaN</td>\n",
       "      <td>3000554421440</td>\n",
       "      <td>4</td>\n",
       "      <td>0</td>\n",
       "      <td>11.0</td>\n",
       "      <td>300050671163</td>\n",
       "    </tr>\n",
       "    <tr>\n",
       "      <th>13008</th>\n",
       "      <td>03:03:45</td>\n",
       "      <td>-0.966745</td>\n",
       "      <td>51.453236</td>\n",
       "      <td>NaN</td>\n",
       "      <td>3000593295623</td>\n",
       "      <td>9</td>\n",
       "      <td>0</td>\n",
       "      <td>NaN</td>\n",
       "      <td>300051413313</td>\n",
       "    </tr>\n",
       "    <tr>\n",
       "      <th>2034</th>\n",
       "      <td>14:41:22</td>\n",
       "      <td>-0.948642</td>\n",
       "      <td>51.449587</td>\n",
       "      <td>NaN</td>\n",
       "      <td>3000584916226</td>\n",
       "      <td>4</td>\n",
       "      <td>0</td>\n",
       "      <td>6.0</td>\n",
       "      <td>300051090742</td>\n",
       "    </tr>\n",
       "    <tr>\n",
       "      <th>2229</th>\n",
       "      <td>20:54:03</td>\n",
       "      <td>-0.991382</td>\n",
       "      <td>51.476339</td>\n",
       "      <td>NaN</td>\n",
       "      <td>3000585716553</td>\n",
       "      <td>9</td>\n",
       "      <td>0</td>\n",
       "      <td>NaN</td>\n",
       "      <td>300051125957</td>\n",
       "    </tr>\n",
       "    <tr>\n",
       "      <th>16632</th>\n",
       "      <td>18:06:17</td>\n",
       "      <td>-0.948907</td>\n",
       "      <td>51.444643</td>\n",
       "      <td>NaN</td>\n",
       "      <td>3000627382471</td>\n",
       "      <td>4</td>\n",
       "      <td>0</td>\n",
       "      <td>113.0</td>\n",
       "      <td>300052078801</td>\n",
       "    </tr>\n",
       "    <tr>\n",
       "      <th>18189</th>\n",
       "      <td>07:52:29</td>\n",
       "      <td>-0.973793</td>\n",
       "      <td>51.458665</td>\n",
       "      <td>479.0</td>\n",
       "      <td>3000587781360</td>\n",
       "      <td>4</td>\n",
       "      <td>1</td>\n",
       "      <td>47.0</td>\n",
       "      <td>300051178628</td>\n",
       "    </tr>\n",
       "  </tbody>\n",
       "</table>\n",
       "</div>"
      ],
      "text/plain": [
       "      order_datetime  origin_longitude  origin_latitude  m_order_eta  \\\n",
       "30194       21:15:35         -0.969588        51.455780        299.0   \n",
       "14748       10:13:35         -0.955958        51.430362          NaN   \n",
       "29083       09:16:38         -1.033560        51.441967          NaN   \n",
       "16926       02:08:09         -0.967676        51.444489          NaN   \n",
       "21530       21:44:21         -0.972683        51.456762          NaN   \n",
       "13008       03:03:45         -0.966745        51.453236          NaN   \n",
       "2034        14:41:22         -0.948642        51.449587          NaN   \n",
       "2229        20:54:03         -0.991382        51.476339          NaN   \n",
       "16632       18:06:17         -0.948907        51.444643          NaN   \n",
       "18189       07:52:29         -0.973793        51.458665        479.0   \n",
       "\n",
       "            order_gk  order_status_key  is_driver_assigned_key  \\\n",
       "30194  3000555697076                 4                       1   \n",
       "14748  3000626091676                 4                       0   \n",
       "29083  3000594099225                 4                       0   \n",
       "16926  3000626980467                 4                       0   \n",
       "21530  3000554421440                 4                       0   \n",
       "13008  3000593295623                 9                       0   \n",
       "2034   3000584916226                 4                       0   \n",
       "2229   3000585716553                 9                       0   \n",
       "16632  3000627382471                 4                       0   \n",
       "18189  3000587781360                 4                       1   \n",
       "\n",
       "       cancellations_time_in_seconds      offer_id  \n",
       "30194                          223.0  300050725946  \n",
       "14748                           91.0  300052014519  \n",
       "29083                           68.0  300051458740  \n",
       "16926                          125.0  300052031394  \n",
       "21530                           11.0  300050671163  \n",
       "13008                            NaN  300051413313  \n",
       "2034                             6.0  300051090742  \n",
       "2229                             NaN  300051125957  \n",
       "16632                          113.0  300052078801  \n",
       "18189                           47.0  300051178628  "
      ]
     },
     "execution_count": 9,
     "metadata": {},
     "output_type": "execute_result"
    }
   ],
   "source": [
    "df.sample(n=10, random_state=42)"
   ]
  },
  {
   "cell_type": "markdown",
   "metadata": {
    "pycharm": {
     "name": "#%% md\n"
    }
   },
   "source": [
    "We may be able to do something to improve the data quality a bit. For example, the values in `order_status_key` and `is_driver_assigned_key` are not informative of the contents, but are rather just keys that point to some internal description. We could replace their values with more informative information, like replacing the `1`s in `is_driver_assigned_key` with the string `Yes` and the `0`s with the string `No`. Same can be done for the `order_status_key` column. Moreover, the names of the columns sound a bit technical, but we can modify them.\n",
    "\n",
    "Remember, data science is very closely related to the business, so we need to make our presentations as friendly for non-technical folks as possible.\n",
    "\n",
    "To achieve what we have just described we will use the [where](https://numpy.org/doc/stable/reference/generated/numpy.where.html) method in the Numpy library. While Numpy is more known for linear algebra operations, its usage will come in handy in this use case as well. The `where()` method is applied to a column in the Pandas dataframe, and takes three input arguments: a `condition` that can be evaluated, and two options `x` and `y` which are returned depending on the outcome of the condition.\n",
    "\n",
    "In the process of applying the _where_ method, we will create two new columns with better names. Later, we will drop the old columns."
   ]
  },
  {
   "cell_type": "code",
   "execution_count": 10,
   "metadata": {
    "pycharm": {
     "name": "#%%\n"
    }
   },
   "outputs": [],
   "source": [
    "import numpy as np\n",
    "\n",
    "df[\"is_driver_assigned\"] = np.where(df[\"is_driver_assigned_key\"] == 1, \"Yes\", \"No\")\n",
    "df[\"order_status\"] = np.where(df[\"order_status_key\"] == 4, \"Client Cancelled\", \"System Reject\")\n",
    "\n",
    "# the inplace argument tells Pandas to modify the calling dataframe object,\n",
    "# instead of returning a new object as a result\n",
    "df.drop(columns=[\"is_driver_assigned_key\", \"order_status_key\"], inplace=True)"
   ]
  },
  {
   "cell_type": "markdown",
   "metadata": {
    "pycharm": {
     "name": "#%% md\n"
    }
   },
   "source": [
    "Lastly, the column name `order_datetime` is misleading, as it doesn't contain the date & time of the order, it shows only the time (we don't know the date range of the data). We can rename it to `order_time` to reflect that fact."
   ]
  },
  {
   "cell_type": "code",
   "execution_count": 11,
   "metadata": {
    "pycharm": {
     "name": "#%%\n"
    }
   },
   "outputs": [],
   "source": [
    "# we pass in a dict of old column names as keys and new column names as values\n",
    "df = df.rename(columns={\n",
    "    \"order_datetime\": \"order_time\"\n",
    "})"
   ]
  },
  {
   "cell_type": "code",
   "execution_count": 12,
   "metadata": {
    "pycharm": {
     "name": "#%%\n"
    }
   },
   "outputs": [
    {
     "data": {
      "text/html": [
       "<div>\n",
       "<style scoped>\n",
       "    .dataframe tbody tr th:only-of-type {\n",
       "        vertical-align: middle;\n",
       "    }\n",
       "\n",
       "    .dataframe tbody tr th {\n",
       "        vertical-align: top;\n",
       "    }\n",
       "\n",
       "    .dataframe thead th {\n",
       "        text-align: right;\n",
       "    }\n",
       "</style>\n",
       "<table border=\"1\" class=\"dataframe\">\n",
       "  <thead>\n",
       "    <tr style=\"text-align: right;\">\n",
       "      <th></th>\n",
       "      <th>order_time</th>\n",
       "      <th>origin_longitude</th>\n",
       "      <th>origin_latitude</th>\n",
       "      <th>m_order_eta</th>\n",
       "      <th>order_gk</th>\n",
       "      <th>cancellations_time_in_seconds</th>\n",
       "      <th>offer_id</th>\n",
       "      <th>is_driver_assigned</th>\n",
       "      <th>order_status</th>\n",
       "    </tr>\n",
       "  </thead>\n",
       "  <tbody>\n",
       "    <tr>\n",
       "      <th>30194</th>\n",
       "      <td>21:15:35</td>\n",
       "      <td>-0.969588</td>\n",
       "      <td>51.455780</td>\n",
       "      <td>299.0</td>\n",
       "      <td>3000555697076</td>\n",
       "      <td>223.0</td>\n",
       "      <td>300050725946</td>\n",
       "      <td>Yes</td>\n",
       "      <td>Client Cancelled</td>\n",
       "    </tr>\n",
       "    <tr>\n",
       "      <th>14748</th>\n",
       "      <td>10:13:35</td>\n",
       "      <td>-0.955958</td>\n",
       "      <td>51.430362</td>\n",
       "      <td>NaN</td>\n",
       "      <td>3000626091676</td>\n",
       "      <td>91.0</td>\n",
       "      <td>300052014519</td>\n",
       "      <td>No</td>\n",
       "      <td>Client Cancelled</td>\n",
       "    </tr>\n",
       "    <tr>\n",
       "      <th>29083</th>\n",
       "      <td>09:16:38</td>\n",
       "      <td>-1.033560</td>\n",
       "      <td>51.441967</td>\n",
       "      <td>NaN</td>\n",
       "      <td>3000594099225</td>\n",
       "      <td>68.0</td>\n",
       "      <td>300051458740</td>\n",
       "      <td>No</td>\n",
       "      <td>Client Cancelled</td>\n",
       "    </tr>\n",
       "    <tr>\n",
       "      <th>16926</th>\n",
       "      <td>02:08:09</td>\n",
       "      <td>-0.967676</td>\n",
       "      <td>51.444489</td>\n",
       "      <td>NaN</td>\n",
       "      <td>3000626980467</td>\n",
       "      <td>125.0</td>\n",
       "      <td>300052031394</td>\n",
       "      <td>No</td>\n",
       "      <td>Client Cancelled</td>\n",
       "    </tr>\n",
       "    <tr>\n",
       "      <th>21530</th>\n",
       "      <td>21:44:21</td>\n",
       "      <td>-0.972683</td>\n",
       "      <td>51.456762</td>\n",
       "      <td>NaN</td>\n",
       "      <td>3000554421440</td>\n",
       "      <td>11.0</td>\n",
       "      <td>300050671163</td>\n",
       "      <td>No</td>\n",
       "      <td>Client Cancelled</td>\n",
       "    </tr>\n",
       "    <tr>\n",
       "      <th>13008</th>\n",
       "      <td>03:03:45</td>\n",
       "      <td>-0.966745</td>\n",
       "      <td>51.453236</td>\n",
       "      <td>NaN</td>\n",
       "      <td>3000593295623</td>\n",
       "      <td>NaN</td>\n",
       "      <td>300051413313</td>\n",
       "      <td>No</td>\n",
       "      <td>System Reject</td>\n",
       "    </tr>\n",
       "    <tr>\n",
       "      <th>2034</th>\n",
       "      <td>14:41:22</td>\n",
       "      <td>-0.948642</td>\n",
       "      <td>51.449587</td>\n",
       "      <td>NaN</td>\n",
       "      <td>3000584916226</td>\n",
       "      <td>6.0</td>\n",
       "      <td>300051090742</td>\n",
       "      <td>No</td>\n",
       "      <td>Client Cancelled</td>\n",
       "    </tr>\n",
       "    <tr>\n",
       "      <th>2229</th>\n",
       "      <td>20:54:03</td>\n",
       "      <td>-0.991382</td>\n",
       "      <td>51.476339</td>\n",
       "      <td>NaN</td>\n",
       "      <td>3000585716553</td>\n",
       "      <td>NaN</td>\n",
       "      <td>300051125957</td>\n",
       "      <td>No</td>\n",
       "      <td>System Reject</td>\n",
       "    </tr>\n",
       "    <tr>\n",
       "      <th>16632</th>\n",
       "      <td>18:06:17</td>\n",
       "      <td>-0.948907</td>\n",
       "      <td>51.444643</td>\n",
       "      <td>NaN</td>\n",
       "      <td>3000627382471</td>\n",
       "      <td>113.0</td>\n",
       "      <td>300052078801</td>\n",
       "      <td>No</td>\n",
       "      <td>Client Cancelled</td>\n",
       "    </tr>\n",
       "    <tr>\n",
       "      <th>18189</th>\n",
       "      <td>07:52:29</td>\n",
       "      <td>-0.973793</td>\n",
       "      <td>51.458665</td>\n",
       "      <td>479.0</td>\n",
       "      <td>3000587781360</td>\n",
       "      <td>47.0</td>\n",
       "      <td>300051178628</td>\n",
       "      <td>Yes</td>\n",
       "      <td>Client Cancelled</td>\n",
       "    </tr>\n",
       "  </tbody>\n",
       "</table>\n",
       "</div>"
      ],
      "text/plain": [
       "      order_time  origin_longitude  origin_latitude  m_order_eta  \\\n",
       "30194   21:15:35         -0.969588        51.455780        299.0   \n",
       "14748   10:13:35         -0.955958        51.430362          NaN   \n",
       "29083   09:16:38         -1.033560        51.441967          NaN   \n",
       "16926   02:08:09         -0.967676        51.444489          NaN   \n",
       "21530   21:44:21         -0.972683        51.456762          NaN   \n",
       "13008   03:03:45         -0.966745        51.453236          NaN   \n",
       "2034    14:41:22         -0.948642        51.449587          NaN   \n",
       "2229    20:54:03         -0.991382        51.476339          NaN   \n",
       "16632   18:06:17         -0.948907        51.444643          NaN   \n",
       "18189   07:52:29         -0.973793        51.458665        479.0   \n",
       "\n",
       "            order_gk  cancellations_time_in_seconds      offer_id  \\\n",
       "30194  3000555697076                          223.0  300050725946   \n",
       "14748  3000626091676                           91.0  300052014519   \n",
       "29083  3000594099225                           68.0  300051458740   \n",
       "16926  3000626980467                          125.0  300052031394   \n",
       "21530  3000554421440                           11.0  300050671163   \n",
       "13008  3000593295623                            NaN  300051413313   \n",
       "2034   3000584916226                            6.0  300051090742   \n",
       "2229   3000585716553                            NaN  300051125957   \n",
       "16632  3000627382471                          113.0  300052078801   \n",
       "18189  3000587781360                           47.0  300051178628   \n",
       "\n",
       "      is_driver_assigned      order_status  \n",
       "30194                Yes  Client Cancelled  \n",
       "14748                 No  Client Cancelled  \n",
       "29083                 No  Client Cancelled  \n",
       "16926                 No  Client Cancelled  \n",
       "21530                 No  Client Cancelled  \n",
       "13008                 No     System Reject  \n",
       "2034                  No  Client Cancelled  \n",
       "2229                  No     System Reject  \n",
       "16632                 No  Client Cancelled  \n",
       "18189                Yes  Client Cancelled  "
      ]
     },
     "execution_count": 12,
     "metadata": {},
     "output_type": "execute_result"
    }
   ],
   "source": [
    "df.sample(n=10, random_state=42)"
   ]
  },
  {
   "cell_type": "markdown",
   "metadata": {
    "pycharm": {
     "name": "#%% md\n"
    }
   },
   "source": [
    "At this point we are ready to start answering the questions, so let's go!"
   ]
  },
  {
   "cell_type": "markdown",
   "metadata": {
    "pycharm": {
     "name": "#%% md\n"
    }
   },
   "source": [
    "## Question 1\n",
    "**Build up a distribution of orders according to reasons for failure: cancellations before and after driver assignment, and reasons for order rejection. Analyse the resulting plot. Which category has the highest number of orders?**"
   ]
  },
  {
   "cell_type": "markdown",
   "metadata": {
    "pycharm": {
     "name": "#%% md\n"
    }
   },
   "source": [
    "One, very straightforward and easy solution to solve this question is to use the [groupby](https://pandas.pydata.org/docs/reference/api/pandas.DataFrame.groupby.html) method to group the dataframe by the `is_driver_assigned` and `order_status` columns, and then count the rows in each group, i.e., each combination of values for the grouping columns.\n",
    "\n",
    "Since both are binary variables (have only two possible values), there are four possible combinations. The cell below prints the output of the proposed approach.\n",
    "\n",
    "We observe high number of orders cancelled before a driver is assigned, implying that maybe customers have waited too long and have decided on an alternative for their transportation needs. We have `13435` orders cancelled by the client, and `9469` rejected by the system. There are `8360` client cancellations after a driver has been assigned, and only **four** which were rejected by the system, for some reason."
   ]
  },
  {
   "cell_type": "code",
   "execution_count": 13,
   "metadata": {
    "pycharm": {
     "name": "#%%\n"
    }
   },
   "outputs": [
    {
     "data": {
      "text/plain": [
       "is_driver_assigned  order_status    \n",
       "No                  Client Cancelled    13435\n",
       "                    System Reject        9469\n",
       "Yes                 Client Cancelled     8360\n",
       "                    System Reject           4\n",
       "Name: order_gk, dtype: int64"
      ]
     },
     "execution_count": 13,
     "metadata": {},
     "output_type": "execute_result"
    }
   ],
   "source": [
    "df.groupby(by=[\"is_driver_assigned\", \"order_status\"])[\"order_gk\"].count()"
   ]
  },
  {
   "cell_type": "markdown",
   "metadata": {
    "pycharm": {
     "name": "#%% md\n"
    }
   },
   "source": [
    "Another interesting approach to this question is to use pivot tables (for more information, see the Pandas [method](https://pandas.pydata.org/docs/reference/api/pandas.pivot_table.html) and this Wikipedia [article](https://en.wikipedia.org/wiki/Pivot_table)).\n",
    "\n",
    "With this approach, we are essentially doing the same thing as the group-by operation, but in a different way. We specify columns that need to be pivoted, what column values should we present, and how to aggregate them.\n",
    "\n",
    "Once the pivot table is created (variable `df_q1`) we call the `plot(...)` method on it to generate a bar plot, with legend, for better, visual overview."
   ]
  },
  {
   "cell_type": "code",
   "execution_count": 14,
   "metadata": {
    "pycharm": {
     "name": "#%%\n"
    }
   },
   "outputs": [
    {
     "data": {
      "image/png": "[encoded data removed]",
      "text/plain": [
       "<Figure size 504x504 with 1 Axes>"
      ]
     },
     "metadata": {
      "needs_background": "light"
     },
     "output_type": "display_data"
    }
   ],
   "source": [
    "df_q1 = df.pivot_table(columns=[\"is_driver_assigned\", \"order_status\"], values=\"order_gk\", aggfunc=\"count\")\n",
    "_ = df_q1.plot(kind=\"bar\", subplots=False, figsize=(7, 7), legend=True, rot=0)"
   ]
  },
  {
   "cell_type": "code",
   "execution_count": 15,
   "metadata": {
    "pycharm": {
     "name": "#%%\n"
    }
   },
   "outputs": [
    {
     "data": {
      "text/html": [
       "<div>\n",
       "<style scoped>\n",
       "    .dataframe tbody tr th:only-of-type {\n",
       "        vertical-align: middle;\n",
       "    }\n",
       "\n",
       "    .dataframe tbody tr th {\n",
       "        vertical-align: top;\n",
       "    }\n",
       "\n",
       "    .dataframe thead tr th {\n",
       "        text-align: left;\n",
       "    }\n",
       "</style>\n",
       "<table border=\"1\" class=\"dataframe\">\n",
       "  <thead>\n",
       "    <tr>\n",
       "      <th>is_driver_assigned</th>\n",
       "      <th colspan=\"2\" halign=\"left\">No</th>\n",
       "      <th colspan=\"2\" halign=\"left\">Yes</th>\n",
       "    </tr>\n",
       "    <tr>\n",
       "      <th>order_status</th>\n",
       "      <th>Client Cancelled</th>\n",
       "      <th>System Reject</th>\n",
       "      <th>Client Cancelled</th>\n",
       "      <th>System Reject</th>\n",
       "    </tr>\n",
       "  </thead>\n",
       "  <tbody>\n",
       "    <tr>\n",
       "      <th>order_gk</th>\n",
       "      <td>13435</td>\n",
       "      <td>9469</td>\n",
       "      <td>8360</td>\n",
       "      <td>4</td>\n",
       "    </tr>\n",
       "  </tbody>\n",
       "</table>\n",
       "</div>"
      ],
      "text/plain": [
       "is_driver_assigned               No                            Yes  \\\n",
       "order_status       Client Cancelled System Reject Client Cancelled   \n",
       "order_gk                      13435          9469             8360   \n",
       "\n",
       "is_driver_assigned                \n",
       "order_status       System Reject  \n",
       "order_gk                       4  "
      ]
     },
     "execution_count": 15,
     "metadata": {},
     "output_type": "execute_result"
    }
   ],
   "source": [
    "# the structure of the pivot table is very similar to the group-by dataframe\n",
    "df_q1"
   ]
  },
  {
   "cell_type": "markdown",
   "metadata": {
    "pycharm": {
     "name": "#%% md\n"
    }
   },
   "source": [
    "Both approaches solve the question, and give same results. Deciding on an approach is a matter of taste.\n",
    "\n",
    "Pivot tables are a **must** for a data oriented position, as they are heavily used in Excel. If you ever encounter Excel in your job (and as a data scientist, chances are that you certainly will), knowledge of working with pivot tables will make your job much easier.\n",
    "\n",
    "The group-by approach is more concise and clear, and comes more natural to a person who works with SQL and relational databases."
   ]
  },
  {
   "cell_type": "markdown",
   "metadata": {
    "pycharm": {
     "name": "#%% md\n"
    }
   },
   "source": [
    "## Question 2\n",
    "**Plot the distribution of failed orders by hours. Is there a trend that certain hours have an abnormally high proportion of one category or another? What hours are the biggest fails? How can this be explained?**"
   ]
  },
  {
   "cell_type": "markdown",
   "metadata": {
    "pycharm": {
     "name": "#%% md\n"
    }
   },
   "source": [
    "This question builds up upon the previous one by delving deeper into the analysis of failed orders. Rather than just plotting the distribution of fails by category (reason for cancellation, and the driver assignment), we want to know when these fails occur, and if there is some specific time period in the day when one category prevails over others.\n",
    "\n",
    "The first step towards solving the question would be to extract the hour from the `order_time` column for easier manipulation. The way we do that is the following. The format of the `order_time` is `hh:mm:ss`. We turn that into a string by calling the `.str` on the `order_time` column, splitting it with  `:` as a delimiter and then apply a lambda function to return the first token of the split, i.e., the hour. We store this information into a new column, called `order_hour`."
   ]
  },
  {
   "cell_type": "code",
   "execution_count": 16,
   "metadata": {
    "pycharm": {
     "name": "#%%\n"
    }
   },
   "outputs": [],
   "source": [
    "df[\"order_hour\"] = df[\"order_time\"].str.split(\":\").apply(lambda split: split[0])"
   ]
  },
  {
   "cell_type": "code",
   "execution_count": 17,
   "metadata": {
    "pycharm": {
     "name": "#%%\n"
    }
   },
   "outputs": [
    {
     "data": {
      "text/html": [
       "<div>\n",
       "<style scoped>\n",
       "    .dataframe tbody tr th:only-of-type {\n",
       "        vertical-align: middle;\n",
       "    }\n",
       "\n",
       "    .dataframe tbody tr th {\n",
       "        vertical-align: top;\n",
       "    }\n",
       "\n",
       "    .dataframe thead th {\n",
       "        text-align: right;\n",
       "    }\n",
       "</style>\n",
       "<table border=\"1\" class=\"dataframe\">\n",
       "  <thead>\n",
       "    <tr style=\"text-align: right;\">\n",
       "      <th></th>\n",
       "      <th>order_time</th>\n",
       "      <th>origin_longitude</th>\n",
       "      <th>origin_latitude</th>\n",
       "      <th>m_order_eta</th>\n",
       "      <th>order_gk</th>\n",
       "      <th>cancellations_time_in_seconds</th>\n",
       "      <th>offer_id</th>\n",
       "      <th>is_driver_assigned</th>\n",
       "      <th>order_status</th>\n",
       "      <th>order_hour</th>\n",
       "    </tr>\n",
       "  </thead>\n",
       "  <tbody>\n",
       "    <tr>\n",
       "      <th>30194</th>\n",
       "      <td>21:15:35</td>\n",
       "      <td>-0.969588</td>\n",
       "      <td>51.455780</td>\n",
       "      <td>299.0</td>\n",
       "      <td>3000555697076</td>\n",
       "      <td>223.0</td>\n",
       "      <td>300050725946</td>\n",
       "      <td>Yes</td>\n",
       "      <td>Client Cancelled</td>\n",
       "      <td>21</td>\n",
       "    </tr>\n",
       "    <tr>\n",
       "      <th>14748</th>\n",
       "      <td>10:13:35</td>\n",
       "      <td>-0.955958</td>\n",
       "      <td>51.430362</td>\n",
       "      <td>NaN</td>\n",
       "      <td>3000626091676</td>\n",
       "      <td>91.0</td>\n",
       "      <td>300052014519</td>\n",
       "      <td>No</td>\n",
       "      <td>Client Cancelled</td>\n",
       "      <td>10</td>\n",
       "    </tr>\n",
       "    <tr>\n",
       "      <th>29083</th>\n",
       "      <td>09:16:38</td>\n",
       "      <td>-1.033560</td>\n",
       "      <td>51.441967</td>\n",
       "      <td>NaN</td>\n",
       "      <td>3000594099225</td>\n",
       "      <td>68.0</td>\n",
       "      <td>300051458740</td>\n",
       "      <td>No</td>\n",
       "      <td>Client Cancelled</td>\n",
       "      <td>09</td>\n",
       "    </tr>\n",
       "    <tr>\n",
       "      <th>16926</th>\n",
       "      <td>02:08:09</td>\n",
       "      <td>-0.967676</td>\n",
       "      <td>51.444489</td>\n",
       "      <td>NaN</td>\n",
       "      <td>3000626980467</td>\n",
       "      <td>125.0</td>\n",
       "      <td>300052031394</td>\n",
       "      <td>No</td>\n",
       "      <td>Client Cancelled</td>\n",
       "      <td>02</td>\n",
       "    </tr>\n",
       "    <tr>\n",
       "      <th>21530</th>\n",
       "      <td>21:44:21</td>\n",
       "      <td>-0.972683</td>\n",
       "      <td>51.456762</td>\n",
       "      <td>NaN</td>\n",
       "      <td>3000554421440</td>\n",
       "      <td>11.0</td>\n",
       "      <td>300050671163</td>\n",
       "      <td>No</td>\n",
       "      <td>Client Cancelled</td>\n",
       "      <td>21</td>\n",
       "    </tr>\n",
       "  </tbody>\n",
       "</table>\n",
       "</div>"
      ],
      "text/plain": [
       "      order_time  origin_longitude  origin_latitude  m_order_eta  \\\n",
       "30194   21:15:35         -0.969588        51.455780        299.0   \n",
       "14748   10:13:35         -0.955958        51.430362          NaN   \n",
       "29083   09:16:38         -1.033560        51.441967          NaN   \n",
       "16926   02:08:09         -0.967676        51.444489          NaN   \n",
       "21530   21:44:21         -0.972683        51.456762          NaN   \n",
       "\n",
       "            order_gk  cancellations_time_in_seconds      offer_id  \\\n",
       "30194  3000555697076                          223.0  300050725946   \n",
       "14748  3000626091676                           91.0  300052014519   \n",
       "29083  3000594099225                           68.0  300051458740   \n",
       "16926  3000626980467                          125.0  300052031394   \n",
       "21530  3000554421440                           11.0  300050671163   \n",
       "\n",
       "      is_driver_assigned      order_status order_hour  \n",
       "30194                Yes  Client Cancelled         21  \n",
       "14748                 No  Client Cancelled         10  \n",
       "29083                 No  Client Cancelled         09  \n",
       "16926                 No  Client Cancelled         02  \n",
       "21530                 No  Client Cancelled         21  "
      ]
     },
     "execution_count": 17,
     "metadata": {},
     "output_type": "execute_result"
    }
   ],
   "source": [
    "# print a small sample to make sure that the transformation is correct\n",
    "df.sample(n=5, random_state=42)"
   ]
  },
  {
   "cell_type": "markdown",
   "metadata": {
    "pycharm": {
     "name": "#%% md\n"
    }
   },
   "source": [
    "Next, we can plot the total number of failed orders per hour. We use a simple group-by operation on the order hour, and then count the `order_gk`. A very high number of failed orders is observed in the morning around 7-8 o'clock. This might point to the fact that the working day starts in those hours, so people are in higher need of transportation. The exact reason for such high number of failures can't be inferred from this plot, so let's continue to plot the same chart, but drilled further into the cause for the cancellation."
   ]
  },
  {
   "cell_type": "code",
   "execution_count": 18,
   "metadata": {
    "pycharm": {
     "name": "#%%\n"
    }
   },
   "outputs": [
    {
     "data": {
      "image/png": "[encoded data removed]",
      "text/plain": [
       "<Figure size 720x504 with 1 Axes>"
      ]
     },
     "metadata": {
      "needs_background": "light"
     },
     "output_type": "display_data"
    }
   ],
   "source": [
    "_ = df.groupby(by=\"order_hour\")[\"order_gk\"].count().plot(figsize=(10, 7),\n",
    "                                                         legend=True,\n",
    "                                                         xticks=range(0, 24),\n",
    "                                                         title=\"Count of Failed Orders by Hour of Day\")"
   ]
  },
  {
   "cell_type": "markdown",
   "metadata": {
    "pycharm": {
     "name": "#%% md\n"
    }
   },
   "source": [
    "As a first step towards a dataframe that contains such aggregated information we group-by by the order hour, the driver-assigned flag, and the order status, and then count the number of `order_gk`."
   ]
  },
  {
   "cell_type": "code",
   "execution_count": 19,
   "metadata": {
    "pycharm": {
     "name": "#%%\n"
    }
   },
   "outputs": [
    {
     "data": {
      "text/plain": [
       "order_hour  is_driver_assigned  order_status    \n",
       "00          No                  Client Cancelled     957\n",
       "                                System Reject        706\n",
       "            Yes                 Client Cancelled     326\n",
       "                                System Reject          4\n",
       "01          No                  Client Cancelled     633\n",
       "                                                    ... \n",
       "22          No                  System Reject        660\n",
       "            Yes                 Client Cancelled     415\n",
       "23          No                  Client Cancelled    1144\n",
       "                                System Reject        883\n",
       "            Yes                 Client Cancelled     444\n",
       "Name: order_gk, Length: 73, dtype: int64"
      ]
     },
     "execution_count": 19,
     "metadata": {},
     "output_type": "execute_result"
    }
   ],
   "source": [
    "grouped_q2 = df.groupby(by=[\"order_hour\", \"is_driver_assigned\", \"order_status\"])[\"order_gk\"].count()\n",
    "grouped_q2"
   ]
  },
  {
   "cell_type": "markdown",
   "metadata": {
    "pycharm": {
     "name": "#%% md\n"
    }
   },
   "source": [
    "The group-by operation results in the correct information. However, Pandas puts the group-by columns as indices in the resulting dataframe. To manipulate it easier, we can call the [reset_index](https://pandas.pydata.org/docs/reference/api/pandas.DataFrame.reset_index.html) to have the index columns as regular, data columns, and create a new, incrementing integer as an index.\n",
    "\n",
    "We will create a multi-line plot, with the order hour on the horizontal axis, and multiple lines that count the number of orders per hour and per fail category. Then, we pivot the table around the order hour column, so that it can be plotted on the x-axis. We specify the driver-assigned flag and the order status as `columns` attributes, so that there is one line per combination of values, and then present the `order_gk` column as the `values` argument.\n",
    "\n",
    "Moreover, we decorate the plot with a custom figure size, a title, and a `xticks` parameter.\n",
    "\n",
    "Note that here we call the [pivot](https://pandas.pydata.org/docs/reference/api/pandas.DataFrame.pivot.html) method and not [pivot_table](https://pandas.pydata.org/docs/reference/api/pandas.DataFrame.pivot_table.html) as in the previous question."
   ]
  },
  {
   "cell_type": "code",
   "execution_count": 20,
   "metadata": {
    "pycharm": {
     "name": "#%%\n"
    }
   },
   "outputs": [
    {
     "data": {
      "image/png": "[encoded data removed]",
      "text/plain": [
       "<Figure size 936x504 with 1 Axes>"
      ]
     },
     "metadata": {
      "needs_background": "light"
     },
     "output_type": "display_data"
    }
   ],
   "source": [
    "_ = grouped_q2.reset_index().pivot(index=\"order_hour\",\n",
    "                                   columns=[\"is_driver_assigned\", \"order_status\"],\n",
    "                                   values=\"order_gk\").plot(xticks=range(0, 24),\n",
    "                                                           figsize=(13, 7),\n",
    "                                                           title=\"Count of Failed Orders Per Hour and Category\")"
   ]
  },
  {
   "cell_type": "markdown",
   "metadata": {
    "pycharm": {
     "name": "#%% md\n"
    }
   },
   "source": [
    "The four system rejects with assigned driver occurred around midnight (see the output of the grouped dataframe). The rest of the categories follow similar distribution, with the client cancellations with assigned driver having substantially lower count in the night hours."
   ]
  },
  {
   "cell_type": "markdown",
   "metadata": {
    "pycharm": {
     "name": "#%% md\n"
    }
   },
   "source": [
    "## Question 3\n",
    "\n",
    "**Plot the average time to cancellation with and without driver, by hour. Can we draw any conclusions from this plot?**"
   ]
  },
  {
   "cell_type": "markdown",
   "metadata": {
    "pycharm": {
     "name": "#%% md\n"
    }
   },
   "source": [
    "To solve this question we are going to take the same approach from the previous question.\n",
    "\n",
    "First, we will group by the dataframe by the order hour and the driver-assignment flag. Then, we will aggregate the `cancellations_time_in_seconds` column with the function [mean](https://pandas.pydata.org/docs/reference/api/pandas.DataFrame.mean.html). This will give us the required, aggregated information."
   ]
  },
  {
   "cell_type": "code",
   "execution_count": 21,
   "metadata": {
    "pycharm": {
     "name": "#%%\n"
    }
   },
   "outputs": [
    {
     "data": {
      "text/plain": [
       "order_hour  is_driver_assigned\n",
       "00          No                    115.126437\n",
       "            Yes                   276.082822\n",
       "01          No                    100.593997\n",
       "            Yes                   296.312081\n",
       "02          No                    121.305461\n",
       "            Yes                   301.466667\n",
       "03          No                    129.182301\n",
       "            Yes                   368.682051\n",
       "04          No                    100.733333\n",
       "            Yes                   245.250000\n",
       "05          No                    102.838710\n",
       "            Yes                   156.617021\n",
       "06          No                    202.952663\n",
       "            Yes                   225.508772\n",
       "07          No                    141.177820\n",
       "            Yes                   177.640232\n",
       "08          No                    132.625432\n",
       "            Yes                   172.896296\n",
       "09          No                    138.014894\n",
       "            Yes                   230.821862\n",
       "10          No                     93.795082\n",
       "            Yes                   206.447368\n",
       "11          No                     93.090323\n",
       "            Yes                   276.793103\n",
       "12          No                    128.224299\n",
       "            Yes                   243.000000\n",
       "13          No                    103.577982\n",
       "            Yes                   248.301170\n",
       "14          No                    112.752412\n",
       "            Yes                   241.367003\n",
       "15          No                    140.970492\n",
       "            Yes                   188.380762\n",
       "16          No                    123.181102\n",
       "            Yes                   217.126844\n",
       "17          No                    106.842593\n",
       "            Yes                   280.782796\n",
       "18          No                     85.845638\n",
       "            Yes                   270.277333\n",
       "19          No                    103.231405\n",
       "            Yes                   151.039088\n",
       "20          No                    117.518072\n",
       "            Yes                   214.517341\n",
       "21          No                    130.828290\n",
       "            Yes                   224.443077\n",
       "22          No                    103.662474\n",
       "            Yes                   230.720482\n",
       "23          No                    117.294580\n",
       "            Yes                   320.189189\n",
       "Name: cancellations_time_in_seconds, dtype: float64"
      ]
     },
     "execution_count": 21,
     "metadata": {},
     "output_type": "execute_result"
    }
   ],
   "source": [
    "grouped_q3 = df.groupby(by=[\"order_hour\", \"is_driver_assigned\"])[\"cancellations_time_in_seconds\"].mean()\n",
    "grouped_q3"
   ]
  },
  {
   "cell_type": "markdown",
   "metadata": {
    "pycharm": {
     "name": "#%% md\n"
    }
   },
   "source": [
    "Next, we call the `reset_index()` method to transform the grouping columns from indices into regular, data columns. We continue to chain the method calling on the resulting dataframe with the `pivot()` method, where we again specify grouping columns and the aggregated values. Lastly, we plot the pivoted dataframe, and add custom title, x-ticks, and a figure size for better visual presentation."
   ]
  },
  {
   "cell_type": "code",
   "execution_count": 22,
   "metadata": {
    "pycharm": {
     "name": "#%%\n"
    }
   },
   "outputs": [
    {
     "data": {
      "image/png": "[encoded data removed]",
      "text/plain": [
       "<Figure size 936x504 with 1 Axes>"
      ]
     },
     "metadata": {
      "needs_background": "light"
     },
     "output_type": "display_data"
    }
   ],
   "source": [
    "_ = grouped_q3.reset_index().pivot(index=\"order_hour\",\n",
    "                                   columns=\"is_driver_assigned\",\n",
    "                                   values=\"cancellations_time_in_seconds\").plot(xticks=range(0, 24),\n",
    "                                                                                figsize=(13, 7),\n",
    "                                                                                title=\"Average Time to Cancellation Per Hour and Driver Assignment\")"
   ]
  },
  {
   "cell_type": "markdown",
   "metadata": {
    "pycharm": {
     "name": "#%% md\n"
    }
   },
   "source": [
    "The average time to cancellation is higher on orders with an assigned driver, than without, for each hour without exception. The peak occurs at 3 A.M. At this time there are a lot of client cancellations, so a logical explanation would be that clients have waited too long for the driver."
   ]
  },
  {
   "cell_type": "markdown",
   "metadata": {
    "pycharm": {
     "name": "#%% md\n"
    }
   },
   "source": [
    "## Question 4\n",
    "**Plot the distribution of average ETA by hours. How can this plot be explained?**"
   ]
  },
  {
   "cell_type": "markdown",
   "metadata": {
    "pycharm": {
     "name": "#%% md\n"
    }
   },
   "source": [
    "The solution to this question is quite straightforward. We simply group-by the dataframe on the order hour, and aggregate the `m_order_eta` column with a mean function. Then, we plot the resulting dataframe. The result is in the cell immediately below. The line very closely matches the count of failed orders per hour, indicating that **the number of failed orders increases as the average waiting time of the client increases**."
   ]
  },
  {
   "cell_type": "code",
   "execution_count": 23,
   "metadata": {
    "pycharm": {
     "name": "#%%\n"
    }
   },
   "outputs": [
    {
     "data": {
      "image/png": "[encoded data removed]",
      "text/plain": [
       "<Figure size 1008x504 with 1 Axes>"
      ]
     },
     "metadata": {
      "needs_background": "light"
     },
     "output_type": "display_data"
    }
   ],
   "source": [
    "_ = df.groupby(by=\"order_hour\")[\"m_order_eta\"].mean().plot(figsize=(14, 7),\n",
    "                                                           xticks=range(0, 24),\n",
    "                                                           title=\"Average ETA per hour\")"
   ]
  },
  {
   "cell_type": "markdown",
   "metadata": {
    "pycharm": {
     "name": "#%% md\n"
    }
   },
   "source": [
    "## BONUS: Question 5\n",
    "\n",
    "**Using the [h3](https://github.com/uber/h3-py) and [folium](https://python-visualization.github.io/folium/#:~:text=folium%20makes%20it%20easy%20to,as%20markers%20on%20the%20map.) packages, calculate how many size [8 hexes](https://h3geo.org/#/documentation/core-library/resolution-table) contain 80% of all orders from the original data sets and visualise the hexes, colouring them by the number of fails on the map.**"
   ]
  },
  {
   "cell_type": "markdown",
   "metadata": {
    "pycharm": {
     "name": "#%% md\n"
    }
   },
   "source": [
    "`h3` is an open-source framework developed by Uber. At its core, it is a geospatial analysis tool that provides a hexagonal, hierarchical, spatial index to gain insights from large geospatial databases. `h3` covers the entire world with hexagons of different sizes. We can map the latitude and longitude attributes that we have in our data to a hexagon ID, an internal `h3` ID that points to a specific hexagon of a specific _resolution_ (8, as required in the question).\n",
    "\n",
    "That will result in each order having a new column, that we'll call `hex_id`.\n",
    "Next, what we want to do is to group by the data by the `hex_id`, and count the number of failed orders in it."
   ]
  },
  {
   "cell_type": "code",
   "execution_count": 24,
   "metadata": {
    "pycharm": {
     "name": "#%%\n"
    }
   },
   "outputs": [],
   "source": [
    "import h3\n",
    "import folium"
   ]
  },
  {
   "cell_type": "code",
   "execution_count": 25,
   "metadata": {
    "pycharm": {
     "name": "#%%\n"
    }
   },
   "outputs": [],
   "source": [
    "df[\"hex_id\"] = df.apply(\n",
    "    func=lambda row: h3.geo_to_h3(lat=row[\"origin_latitude\"], lng=row[\"origin_longitude\"], resolution=8), axis=1)"
   ]
  },
  {
   "cell_type": "code",
   "execution_count": 26,
   "metadata": {
    "pycharm": {
     "name": "#%%\n"
    }
   },
   "outputs": [
    {
     "data": {
      "text/plain": [
       "(139,)"
      ]
     },
     "execution_count": 26,
     "metadata": {},
     "output_type": "execute_result"
    }
   ],
   "source": [
    "grouped_q5 = df.groupby(by=\"hex_id\")[\"order_gk\"].count()\n",
    "grouped_q5.shape"
   ]
  },
  {
   "cell_type": "code",
   "execution_count": 27,
   "metadata": {
    "pycharm": {
     "name": "#%%\n"
    }
   },
   "outputs": [
    {
     "data": {
      "text/html": [
       "<div>\n",
       "<style scoped>\n",
       "    .dataframe tbody tr th:only-of-type {\n",
       "        vertical-align: middle;\n",
       "    }\n",
       "\n",
       "    .dataframe tbody tr th {\n",
       "        vertical-align: top;\n",
       "    }\n",
       "\n",
       "    .dataframe thead th {\n",
       "        text-align: right;\n",
       "    }\n",
       "</style>\n",
       "<table border=\"1\" class=\"dataframe\">\n",
       "  <thead>\n",
       "    <tr style=\"text-align: right;\">\n",
       "      <th></th>\n",
       "      <th>hex_id</th>\n",
       "      <th>order_gk</th>\n",
       "    </tr>\n",
       "  </thead>\n",
       "  <tbody>\n",
       "    <tr>\n",
       "      <th>135</th>\n",
       "      <td>88195d74d1fffff</td>\n",
       "      <td>1</td>\n",
       "    </tr>\n",
       "    <tr>\n",
       "      <th>66</th>\n",
       "      <td>88195d2a33fffff</td>\n",
       "      <td>12</td>\n",
       "    </tr>\n",
       "    <tr>\n",
       "      <th>31</th>\n",
       "      <td>88195d2941fffff</td>\n",
       "      <td>52</td>\n",
       "    </tr>\n",
       "    <tr>\n",
       "      <th>118</th>\n",
       "      <td>88195d2b5dfffff</td>\n",
       "      <td>31</td>\n",
       "    </tr>\n",
       "    <tr>\n",
       "      <th>42</th>\n",
       "      <td>88195d2961fffff</td>\n",
       "      <td>5</td>\n",
       "    </tr>\n",
       "  </tbody>\n",
       "</table>\n",
       "</div>"
      ],
      "text/plain": [
       "              hex_id  order_gk\n",
       "135  88195d74d1fffff         1\n",
       "66   88195d2a33fffff        12\n",
       "31   88195d2941fffff        52\n",
       "118  88195d2b5dfffff        31\n",
       "42   88195d2961fffff         5"
      ]
     },
     "execution_count": 27,
     "metadata": {},
     "output_type": "execute_result"
    }
   ],
   "source": [
    "grouped_q5 = grouped_q5.reset_index()\n",
    "grouped_q5.sample(n=5, random_state=42)"
   ]
  },
  {
   "cell_type": "markdown",
   "metadata": {
    "pycharm": {
     "name": "#%% md\n"
    }
   },
   "source": [
    "To find the number of hexes that contain 80% of the orders, we will apply a cumulative percentage operation over the `order_gk` count column in the `grouped_q5` dataframe. This consists of the following steps:\n",
    "\n",
    "1. Sort the dataframe by the count.\n",
    "2. Find the total number (sum) of failed orders.\n",
    "3. Apply the method [cumsum](https://pandas.pydata.org/docs/reference/api/pandas.DataFrame.cumsum.html) to find the cumulative sum of the order-count column.\n",
    "4. Divide by the total sum to generate percentages.\n",
    "5. Filter to find the row that is closest to 80%."
   ]
  },
  {
   "cell_type": "code",
   "execution_count": 28,
   "metadata": {
    "pycharm": {
     "name": "#%%\n"
    }
   },
   "outputs": [
    {
     "data": {
      "text/html": [
       "<div>\n",
       "<style scoped>\n",
       "    .dataframe tbody tr th:only-of-type {\n",
       "        vertical-align: middle;\n",
       "    }\n",
       "\n",
       "    .dataframe tbody tr th {\n",
       "        vertical-align: top;\n",
       "    }\n",
       "\n",
       "    .dataframe thead th {\n",
       "        text-align: right;\n",
       "    }\n",
       "</style>\n",
       "<table border=\"1\" class=\"dataframe\">\n",
       "  <thead>\n",
       "    <tr style=\"text-align: right;\">\n",
       "      <th></th>\n",
       "      <th>hex_id</th>\n",
       "      <th>order_gk</th>\n",
       "      <th>cum_sum</th>\n",
       "      <th>cum_perc</th>\n",
       "    </tr>\n",
       "  </thead>\n",
       "  <tbody>\n",
       "    <tr>\n",
       "      <th>137</th>\n",
       "      <td>88195d74d5fffff</td>\n",
       "      <td>1</td>\n",
       "      <td>1</td>\n",
       "      <td>0.003198</td>\n",
       "    </tr>\n",
       "    <tr>\n",
       "      <th>135</th>\n",
       "      <td>88195d74d1fffff</td>\n",
       "      <td>1</td>\n",
       "      <td>2</td>\n",
       "      <td>0.006396</td>\n",
       "    </tr>\n",
       "    <tr>\n",
       "      <th>79</th>\n",
       "      <td>88195d2aebfffff</td>\n",
       "      <td>1</td>\n",
       "      <td>3</td>\n",
       "      <td>0.009594</td>\n",
       "    </tr>\n",
       "    <tr>\n",
       "      <th>11</th>\n",
       "      <td>88195d282bfffff</td>\n",
       "      <td>1</td>\n",
       "      <td>4</td>\n",
       "      <td>0.012793</td>\n",
       "    </tr>\n",
       "    <tr>\n",
       "      <th>122</th>\n",
       "      <td>88195d3993fffff</td>\n",
       "      <td>1</td>\n",
       "      <td>5</td>\n",
       "      <td>0.015991</td>\n",
       "    </tr>\n",
       "    <tr>\n",
       "      <th>...</th>\n",
       "      <td>...</td>\n",
       "      <td>...</td>\n",
       "      <td>...</td>\n",
       "      <td>...</td>\n",
       "    </tr>\n",
       "    <tr>\n",
       "      <th>61</th>\n",
       "      <td>88195d2a27fffff</td>\n",
       "      <td>1295</td>\n",
       "      <td>15628</td>\n",
       "      <td>49.980811</td>\n",
       "    </tr>\n",
       "    <tr>\n",
       "      <th>20</th>\n",
       "      <td>88195d284dfffff</td>\n",
       "      <td>1937</td>\n",
       "      <td>17565</td>\n",
       "      <td>56.175643</td>\n",
       "    </tr>\n",
       "    <tr>\n",
       "      <th>91</th>\n",
       "      <td>88195d2b19fffff</td>\n",
       "      <td>1960</td>\n",
       "      <td>19525</td>\n",
       "      <td>62.444032</td>\n",
       "    </tr>\n",
       "    <tr>\n",
       "      <th>87</th>\n",
       "      <td>88195d2b11fffff</td>\n",
       "      <td>2191</td>\n",
       "      <td>21716</td>\n",
       "      <td>69.451196</td>\n",
       "    </tr>\n",
       "    <tr>\n",
       "      <th>89</th>\n",
       "      <td>88195d2b15fffff</td>\n",
       "      <td>2461</td>\n",
       "      <td>24177</td>\n",
       "      <td>77.321863</td>\n",
       "    </tr>\n",
       "  </tbody>\n",
       "</table>\n",
       "<p>137 rows × 4 columns</p>\n",
       "</div>"
      ],
      "text/plain": [
       "              hex_id  order_gk  cum_sum   cum_perc\n",
       "137  88195d74d5fffff         1        1   0.003198\n",
       "135  88195d74d1fffff         1        2   0.006396\n",
       "79   88195d2aebfffff         1        3   0.009594\n",
       "11   88195d282bfffff         1        4   0.012793\n",
       "122  88195d3993fffff         1        5   0.015991\n",
       "..               ...       ...      ...        ...\n",
       "61   88195d2a27fffff      1295    15628  49.980811\n",
       "20   88195d284dfffff      1937    17565  56.175643\n",
       "91   88195d2b19fffff      1960    19525  62.444032\n",
       "87   88195d2b11fffff      2191    21716  69.451196\n",
       "89   88195d2b15fffff      2461    24177  77.321863\n",
       "\n",
       "[137 rows x 4 columns]"
      ]
     },
     "execution_count": 28,
     "metadata": {},
     "output_type": "execute_result"
    }
   ],
   "source": [
    "grouped_q5 = grouped_q5.sort_values(by=\"order_gk\")  # 1\n",
    "total_orders = grouped_q5[\"order_gk\"].sum()  # 2\n",
    "grouped_q5[\"cum_sum\"] = grouped_q5[\"order_gk\"].cumsum()  # 3\n",
    "grouped_q5[\"cum_perc\"] = 100 * grouped_q5[\"cum_sum\"] / total_orders  # 4\n",
    "grouped_q5[grouped_q5[\"cum_perc\"] <= 80]  # 5"
   ]
  },
  {
   "cell_type": "markdown",
   "metadata": {
    "pycharm": {
     "name": "#%% md\n"
    }
   },
   "source": [
    "There are 137 rows in the final output, and 139 rows in the original grouped dataframe, meaning that 137 hexagons contain around 80% of data, and only 2 hexagons contain the rest 20%!\n",
    "\n",
    "Thus far we have solved the first part of the question, so we can move on to the second part, and plot the hexagons on a map.\n",
    "\n",
    "As requested, we will use `folium` for drawing the map."
   ]
  },
  {
   "cell_type": "code",
   "execution_count": 29,
   "metadata": {
    "pycharm": {
     "name": "#%%\n"
    }
   },
   "outputs": [],
   "source": [
    "map = folium.Map(location=[df[\"origin_latitude\"].mean(), df[\"origin_longitude\"].mean()],\n",
    "                 zoom_start=8.5,  # after a bit of experimentation, we thought this present the map best\n",
    "                 tiles=\"cartodbpositron\")"
   ]
  },
  {
   "cell_type": "markdown",
   "metadata": {
    "pycharm": {
     "name": "#%% md\n"
    }
   },
   "source": [
    "To be able to draw the hexagons, we need to transform them in a format that is readable by `folium`, and one solution for that is the `geojson` package, which contains methods for manipulation of formats (JSONs) that represent geographic objects. It is a bit specialized than JSON, in that it contains some complex objects, such as points, polygons, geometry collections, etc."
   ]
  },
  {
   "cell_type": "markdown",
   "metadata": {
    "pycharm": {
     "name": "#%% md\n"
    }
   },
   "source": [
    "In the cell below we apply a custom `to_geojson` function that transforms the `hex_id` we have for each hexagon into a proper `geojson` object that can be read into `folium`. For each row (each order) we create a `geojson.Feature` object that stores transformed geometric boundaries for each hexagon. We collect all such objects into a `FeatureCollection` and dump it into a JSON-formatted string."
   ]
  },
  {
   "cell_type": "code",
   "execution_count": 30,
   "metadata": {
    "pycharm": {
     "name": "#%%\n"
    }
   },
   "outputs": [],
   "source": [
    "import json\n",
    "import geojson\n",
    "\n",
    "\n",
    "def to_geojson(row):\n",
    "    geometry = {\n",
    "        \"type\": \"Polygon\",\n",
    "        \"coordinates\": [h3.h3_to_geo_boundary(h=row[\"hex_id\"], geo_json=True)]\n",
    "    }\n",
    "    return geojson.Feature(id=row[\"hex_id\"], geometry=geometry, properties={\"order_gk\": row[\"order_gk\"]})\n",
    "\n",
    "\n",
    "geojsons = grouped_q5.apply(func=to_geojson, axis=1).values.tolist()\n",
    "geojson_str: str = json.dumps(geojson.FeatureCollection(geojsons))"
   ]
  },
  {
   "cell_type": "markdown",
   "metadata": {
    "pycharm": {
     "name": "#%% md\n"
    }
   },
   "source": [
    "To better visualise the hexagons, we are creating a colour map from `matplotlib`, and taking note of the minimum and maximum number of orders. Make sure to work here with the grouped dataframe, and not the original data set."
   ]
  },
  {
   "cell_type": "code",
   "execution_count": 31,
   "metadata": {
    "pycharm": {
     "name": "#%%\n"
    }
   },
   "outputs": [],
   "source": [
    "import matplotlib\n",
    "\n",
    "colormap = matplotlib.cm.get_cmap(name=\"plasma\")\n",
    "max_order_gk = grouped_q5[\"order_gk\"].max()\n",
    "min_order_gk = grouped_q5[\"order_gk\"].min()"
   ]
  },
  {
   "cell_type": "markdown",
   "metadata": {
    "pycharm": {
     "name": "#%% md\n"
    }
   },
   "source": [
    "Finally, we pass in the GeoJSON string and a lambda style function for it as input arguments into the `folium.GeoJson` constructor that creates a proper object that than gets added to the map. Lastly, we plot the map.\n",
    "\n",
    "We suggest that you take some time and explore this question in depth, as there are a lot of moving parts and a lot of tiny details. Feel free to experiment with some of the parameters and see what kind of map you can produce!"
   ]
  },
  {
   "cell_type": "code",
   "execution_count": 32,
   "metadata": {
    "pycharm": {
     "name": "#%%\n"
    }
   },
   "outputs": [],
   "source": [
    "_ = folium.GeoJson(data=geojson_str, style_function=lambda f: {\n",
    "    \"fillColor\": matplotlib.colors.to_hex(\n",
    "        colormap((f[\"properties\"][\"order_gk\"] - min_order_gk) / (max_order_gk - min_order_gk))),\n",
    "    \"color\": \"black\",\n",
    "    \"weight\": 1,\n",
    "    \"fillOpacity\": 0.7\n",
    "}).add_to(map)"
   ]
  },
  {
   "cell_type": "code",
   "execution_count": 33,
   "metadata": {
    "pycharm": {
     "name": "#%%\n"
    }
   },
   "outputs": [
    {
     "data": {
      "text/html": [
       "<div style=\"width:100%;\"><div style=\"position:relative;width:100%;height:0;padding-bottom:60%;\"><span style=\"color:#565656\">Make this Notebook Trusted to load map: File -> Trust Notebook</span><iframe srcdoc=\"&lt;!DOCTYPE html&gt;\n",
       "&lt;head&gt;    \n",
       "    &lt;meta http-equiv=&quot;content-type&quot; content=&quot;text/html; charset=UTF-8&quot; /&gt;\n",
       "    \n",
       "        &lt;script&gt;\n",
       "            L_NO_TOUCH = false;\n",
       "            L_DISABLE_3D = false;\n",
       "        &lt;/script&gt;\n",
       "    \n",
       "    &lt;style&gt;html, body {width: 100%;height: 100%;margin: 0;padding: 0;}&lt;/style&gt;\n",
       "    &lt;style&gt;#map {position:absolute;top:0;bottom:0;right:0;left:0;}&lt;/style&gt;\n",
       "    &lt;script src=&quot;https://cdn.jsdelivr.net/npm/leaflet@1.6.0/dist/leaflet.js&quot;&gt;&lt;/script&gt;\n",
       "    &lt;script src=&quot;https://code.jquery.com/jquery-1.12.4.min.js&quot;&gt;&lt;/script&gt;\n",
       "    &lt;script src=&quot;https://maxcdn.bootstrapcdn.com/bootstrap/3.2.0/js/bootstrap.min.js&quot;&gt;&lt;/script&gt;\n",
       "    &lt;script src=&quot;https://cdnjs.cloudflare.com/ajax/libs/Leaflet.awesome-markers/2.0.2/leaflet.awesome-markers.js&quot;&gt;&lt;/script&gt;\n",
       "    &lt;link rel=&quot;stylesheet&quot; href=&quot;https://cdn.jsdelivr.net/npm/leaflet@1.6.0/dist/leaflet.css&quot;/&gt;\n",
       "    &lt;link rel=&quot;stylesheet&quot; href=&quot;https://maxcdn.bootstrapcdn.com/bootstrap/3.2.0/css/bootstrap.min.css&quot;/&gt;\n",
       "    &lt;link rel=&quot;stylesheet&quot; href=&quot;https://maxcdn.bootstrapcdn.com/bootstrap/3.2.0/css/bootstrap-theme.min.css&quot;/&gt;\n",
       "    &lt;link rel=&quot;stylesheet&quot; href=&quot;https://maxcdn.bootstrapcdn.com/font-awesome/4.6.3/css/font-awesome.min.css&quot;/&gt;\n",
       "    &lt;link rel=&quot;stylesheet&quot; href=&quot;https://cdnjs.cloudflare.com/ajax/libs/Leaflet.awesome-markers/2.0.2/leaflet.awesome-markers.css&quot;/&gt;\n",
       "    &lt;link rel=&quot;stylesheet&quot; href=&quot;https://cdn.jsdelivr.net/gh/python-visualization/folium/folium/templates/leaflet.awesome.rotate.min.css&quot;/&gt;\n",
       "    \n",
       "            &lt;meta name=&quot;viewport&quot; content=&quot;width=device-width,\n",
       "                initial-scale=1.0, maximum-scale=1.0, user-scalable=no&quot; /&gt;\n",
       "            &lt;style&gt;\n",
       "                #map_ab200ea94fe0c269afbb633274eae941 {\n",
       "                    position: relative;\n",
       "                    width: 100.0%;\n",
       "                    height: 100.0%;\n",
       "                    left: 0.0%;\n",
       "                    top: 0.0%;\n",
       "                }\n",
       "            &lt;/style&gt;\n",
       "        \n",
       "&lt;/head&gt;\n",
       "&lt;body&gt;    \n",
       "    \n",
       "            &lt;div class=&quot;folium-map&quot; id=&quot;map_ab200ea94fe0c269afbb633274eae941&quot; &gt;&lt;/div&gt;\n",
       "        \n",
       "&lt;/body&gt;\n",
       "&lt;script&gt;    \n",
       "    \n",
       "            var map_ab200ea94fe0c269afbb633274eae941 = L.map(\n",
       "                &quot;map_ab200ea94fe0c269afbb633274eae941&quot;,\n",
       "                {\n",
       "                    center: [51.450593785595494, -0.9641223669886145],\n",
       "                    crs: L.CRS.EPSG3857,\n",
       "                    zoom: 8.5,\n",
       "                    zoomControl: true,\n",
       "                    preferCanvas: false,\n",
       "                }\n",
       "            );\n",
       "\n",
       "            \n",
       "\n",
       "        \n",
       "    \n",
       "            var tile_layer_1efced27599eb3a5d2fff77b06919085 = L.tileLayer(\n",
       "                &quot;https://cartodb-basemaps-{s}.global.ssl.fastly.net/light_all/{z}/{x}/{y}.png&quot;,\n",
       "                {&quot;attribution&quot;: &quot;\\u0026copy; \\u003ca href=\\&quot;http://www.openstreetmap.org/copyright\\&quot;\\u003eOpenStreetMap\\u003c/a\\u003e contributors \\u0026copy; \\u003ca href=\\&quot;http://cartodb.com/attributions\\&quot;\\u003eCartoDB\\u003c/a\\u003e, CartoDB \\u003ca href =\\&quot;http://cartodb.com/attributions\\&quot;\\u003eattributions\\u003c/a\\u003e&quot;, &quot;detectRetina&quot;: false, &quot;maxNativeZoom&quot;: 18, &quot;maxZoom&quot;: 18, &quot;minZoom&quot;: 0, &quot;noWrap&quot;: false, &quot;opacity&quot;: 1, &quot;subdomains&quot;: &quot;abc&quot;, &quot;tms&quot;: false}\n",
       "            ).addTo(map_ab200ea94fe0c269afbb633274eae941);\n",
       "        \n",
       "    \n",
       "        function geo_json_e3c1e09bea71b604b2ae7b8e6df6e1d0_styler(feature) {\n",
       "            switch(feature.id) {\n",
       "                case &quot;88195d2a29fffff&quot;: case &quot;88195d2a03fffff&quot;: case &quot;88195d2b6bfffff&quot;: case &quot;88195d2a07fffff&quot;: case &quot;88195d284bfffff&quot;: case &quot;88195d2a67fffff&quot;: case &quot;88195d2b5dfffff&quot;: case &quot;88195d2a15fffff&quot;: case &quot;88195d283dfffff&quot;: case &quot;88195d2b59fffff&quot;: \n",
       "                    return {&quot;color&quot;: &quot;black&quot;, &quot;fillColor&quot;: &quot;#100788&quot;, &quot;fillOpacity&quot;: 0.7, &quot;weight&quot;: 1};\n",
       "                case &quot;88195d2947fffff&quot;: case &quot;88195d2a39fffff&quot;: case &quot;88195d7493fffff&quot;: case &quot;88195d2b21fffff&quot;: case &quot;88195d294dfffff&quot;: case &quot;88195d2b29fffff&quot;: case &quot;88195d2a17fffff&quot;: case &quot;88195d2809fffff&quot;: case &quot;88195d2b2bfffff&quot;: case &quot;88195d2b4bfffff&quot;: case &quot;88195d2a69fffff&quot;: case &quot;88195d39b7fffff&quot;: case &quot;88195d286dfffff&quot;: case &quot;88195d2941fffff&quot;: case &quot;88195d295bfffff&quot;: \n",
       "                    return {&quot;color&quot;: &quot;black&quot;, &quot;fillColor&quot;: &quot;#130789&quot;, &quot;fillOpacity&quot;: 0.7, &quot;weight&quot;: 1};\n",
       "                case &quot;88195d2a37fffff&quot;: case &quot;88195d296bfffff&quot;: case &quot;88195d2943fffff&quot;: case &quot;88195d2949fffff&quot;: case &quot;88195d2801fffff&quot;: \n",
       "                    return {&quot;color&quot;: &quot;black&quot;, &quot;fillColor&quot;: &quot;#16078a&quot;, &quot;fillOpacity&quot;: 0.7, &quot;weight&quot;: 1};\n",
       "                case &quot;88195d2b43fffff&quot;: case &quot;88195d2a3dfffff&quot;: case &quot;88195d2b33fffff&quot;: \n",
       "                    return {&quot;color&quot;: &quot;black&quot;, &quot;fillColor&quot;: &quot;#19068c&quot;, &quot;fillOpacity&quot;: 0.7, &quot;weight&quot;: 1};\n",
       "                case &quot;88195d2a2dfffff&quot;: case &quot;88195d2b35fffff&quot;: case &quot;88195d294bfffff&quot;: case &quot;88195d2b37fffff&quot;: case &quot;88195d2829fffff&quot;: \n",
       "                    return {&quot;color&quot;: &quot;black&quot;, &quot;fillColor&quot;: &quot;#1b068d&quot;, &quot;fillOpacity&quot;: 0.7, &quot;weight&quot;: 1};\n",
       "                case &quot;88195d2b47fffff&quot;: case &quot;88195d2a2bfffff&quot;: case &quot;88195d285dfffff&quot;: case &quot;88195d280dfffff&quot;: case &quot;88195d286bfffff&quot;: case &quot;88195d2b01fffff&quot;: \n",
       "                    return {&quot;color&quot;: &quot;black&quot;, &quot;fillColor&quot;: &quot;#1d068e&quot;, &quot;fillOpacity&quot;: 0.7, &quot;weight&quot;: 1};\n",
       "                case &quot;88195d2849fffff&quot;: case &quot;88195d2b23fffff&quot;: \n",
       "                    return {&quot;color&quot;: &quot;black&quot;, &quot;fillColor&quot;: &quot;#20068f&quot;, &quot;fillOpacity&quot;: 0.7, &quot;weight&quot;: 1};\n",
       "                case &quot;88195d2867fffff&quot;: case &quot;88195d282dfffff&quot;: \n",
       "                    return {&quot;color&quot;: &quot;black&quot;, &quot;fillColor&quot;: &quot;#220690&quot;, &quot;fillOpacity&quot;: 0.7, &quot;weight&quot;: 1};\n",
       "                case &quot;88195d2863fffff&quot;: \n",
       "                    return {&quot;color&quot;: &quot;black&quot;, &quot;fillColor&quot;: &quot;#240691&quot;, &quot;fillOpacity&quot;: 0.7, &quot;weight&quot;: 1};\n",
       "                case &quot;88195d2b07fffff&quot;: \n",
       "                    return {&quot;color&quot;: &quot;black&quot;, &quot;fillColor&quot;: &quot;#260591&quot;, &quot;fillOpacity&quot;: 0.7, &quot;weight&quot;: 1};\n",
       "                case &quot;88195d2843fffff&quot;: case &quot;88195d2a35fffff&quot;: case &quot;88195d2a23fffff&quot;: \n",
       "                    return {&quot;color&quot;: &quot;black&quot;, &quot;fillColor&quot;: &quot;#280592&quot;, &quot;fillOpacity&quot;: 0.7, &quot;weight&quot;: 1};\n",
       "                case &quot;88195d2841fffff&quot;: case &quot;88195d2b55fffff&quot;: case &quot;88195d2847fffff&quot;: case &quot;88195d2b0dfffff&quot;: \n",
       "                    return {&quot;color&quot;: &quot;black&quot;, &quot;fillColor&quot;: &quot;#2a0593&quot;, &quot;fillOpacity&quot;: 0.7, &quot;weight&quot;: 1};\n",
       "                case &quot;88195d2b09fffff&quot;: case &quot;88195d2845fffff&quot;: \n",
       "                    return {&quot;color&quot;: &quot;black&quot;, &quot;fillColor&quot;: &quot;#2f0596&quot;, &quot;fillOpacity&quot;: 0.7, &quot;weight&quot;: 1};\n",
       "                case &quot;88195d2b51fffff&quot;: \n",
       "                    return {&quot;color&quot;: &quot;black&quot;, &quot;fillColor&quot;: &quot;#310597&quot;, &quot;fillOpacity&quot;: 0.7, &quot;weight&quot;: 1};\n",
       "                case &quot;88195d2b57fffff&quot;: \n",
       "                    return {&quot;color&quot;: &quot;black&quot;, &quot;fillColor&quot;: &quot;#330597&quot;, &quot;fillOpacity&quot;: 0.7, &quot;weight&quot;: 1};\n",
       "                case &quot;88195d2b3bfffff&quot;: \n",
       "                    return {&quot;color&quot;: &quot;black&quot;, &quot;fillColor&quot;: &quot;#3a049a&quot;, &quot;fillOpacity&quot;: 0.7, &quot;weight&quot;: 1};\n",
       "                case &quot;88195d2869fffff&quot;: \n",
       "                    return {&quot;color&quot;: &quot;black&quot;, &quot;fillColor&quot;: &quot;#3c049b&quot;, &quot;fillOpacity&quot;: 0.7, &quot;weight&quot;: 1};\n",
       "                case &quot;88195d2b3dfffff&quot;: \n",
       "                    return {&quot;color&quot;: &quot;black&quot;, &quot;fillColor&quot;: &quot;#3f049c&quot;, &quot;fillOpacity&quot;: 0.7, &quot;weight&quot;: 1};\n",
       "                case &quot;88195d2a21fffff&quot;: \n",
       "                    return {&quot;color&quot;: &quot;black&quot;, &quot;fillColor&quot;: &quot;#41049d&quot;, &quot;fillOpacity&quot;: 0.7, &quot;weight&quot;: 1};\n",
       "                case &quot;88195d2b31fffff&quot;: \n",
       "                    return {&quot;color&quot;: &quot;black&quot;, &quot;fillColor&quot;: &quot;#46039f&quot;, &quot;fillOpacity&quot;: 0.7, &quot;weight&quot;: 1};\n",
       "                case &quot;88195d2861fffff&quot;: \n",
       "                    return {&quot;color&quot;: &quot;black&quot;, &quot;fillColor&quot;: &quot;#48039f&quot;, &quot;fillOpacity&quot;: 0.7, &quot;weight&quot;: 1};\n",
       "                case &quot;88195d2b39fffff&quot;: \n",
       "                    return {&quot;color&quot;: &quot;black&quot;, &quot;fillColor&quot;: &quot;#4b03a1&quot;, &quot;fillOpacity&quot;: 0.7, &quot;weight&quot;: 1};\n",
       "                case &quot;88195d2b17fffff&quot;: \n",
       "                    return {&quot;color&quot;: &quot;black&quot;, &quot;fillColor&quot;: &quot;#4e02a2&quot;, &quot;fillOpacity&quot;: 0.7, &quot;weight&quot;: 1};\n",
       "                case &quot;88195d2b03fffff&quot;: \n",
       "                    return {&quot;color&quot;: &quot;black&quot;, &quot;fillColor&quot;: &quot;#5c01a6&quot;, &quot;fillOpacity&quot;: 0.7, &quot;weight&quot;: 1};\n",
       "                case &quot;88195d2b13fffff&quot;: \n",
       "                    return {&quot;color&quot;: &quot;black&quot;, &quot;fillColor&quot;: &quot;#7100a8&quot;, &quot;fillOpacity&quot;: 0.7, &quot;weight&quot;: 1};\n",
       "                case &quot;88195d2a25fffff&quot;: \n",
       "                    return {&quot;color&quot;: &quot;black&quot;, &quot;fillColor&quot;: &quot;#7a02a8&quot;, &quot;fillOpacity&quot;: 0.7, &quot;weight&quot;: 1};\n",
       "                case &quot;88195d2b0bfffff&quot;: \n",
       "                    return {&quot;color&quot;: &quot;black&quot;, &quot;fillColor&quot;: &quot;#7b02a8&quot;, &quot;fillOpacity&quot;: 0.7, &quot;weight&quot;: 1};\n",
       "                case &quot;88195d2a27fffff&quot;: \n",
       "                    return {&quot;color&quot;: &quot;black&quot;, &quot;fillColor&quot;: &quot;#8b0aa5&quot;, &quot;fillOpacity&quot;: 0.7, &quot;weight&quot;: 1};\n",
       "                case &quot;88195d284dfffff&quot;: \n",
       "                    return {&quot;color&quot;: &quot;black&quot;, &quot;fillColor&quot;: &quot;#ba3388&quot;, &quot;fillOpacity&quot;: 0.7, &quot;weight&quot;: 1};\n",
       "                case &quot;88195d2b19fffff&quot;: \n",
       "                    return {&quot;color&quot;: &quot;black&quot;, &quot;fillColor&quot;: &quot;#bb3488&quot;, &quot;fillOpacity&quot;: 0.7, &quot;weight&quot;: 1};\n",
       "                case &quot;88195d2b11fffff&quot;: \n",
       "                    return {&quot;color&quot;: &quot;black&quot;, &quot;fillColor&quot;: &quot;#c8437b&quot;, &quot;fillOpacity&quot;: 0.7, &quot;weight&quot;: 1};\n",
       "                case &quot;88195d2b15fffff&quot;: \n",
       "                    return {&quot;color&quot;: &quot;black&quot;, &quot;fillColor&quot;: &quot;#d6556d&quot;, &quot;fillOpacity&quot;: 0.7, &quot;weight&quot;: 1};\n",
       "                case &quot;88195d2b1bfffff&quot;: \n",
       "                    return {&quot;color&quot;: &quot;black&quot;, &quot;fillColor&quot;: &quot;#dd5e66&quot;, &quot;fillOpacity&quot;: 0.7, &quot;weight&quot;: 1};\n",
       "                case &quot;88195d2b1dfffff&quot;: \n",
       "                    return {&quot;color&quot;: &quot;black&quot;, &quot;fillColor&quot;: &quot;#f0f921&quot;, &quot;fillOpacity&quot;: 0.7, &quot;weight&quot;: 1};\n",
       "                default:\n",
       "                    return {&quot;color&quot;: &quot;black&quot;, &quot;fillColor&quot;: &quot;#0d0887&quot;, &quot;fillOpacity&quot;: 0.7, &quot;weight&quot;: 1};\n",
       "            }\n",
       "        }\n",
       "\n",
       "        function geo_json_e3c1e09bea71b604b2ae7b8e6df6e1d0_onEachFeature(feature, layer) {\n",
       "            layer.on({\n",
       "            });\n",
       "        };\n",
       "        var geo_json_e3c1e09bea71b604b2ae7b8e6df6e1d0 = L.geoJson(null, {\n",
       "                onEachFeature: geo_json_e3c1e09bea71b604b2ae7b8e6df6e1d0_onEachFeature,\n",
       "            \n",
       "                style: geo_json_e3c1e09bea71b604b2ae7b8e6df6e1d0_styler,\n",
       "        });\n",
       "\n",
       "        function geo_json_e3c1e09bea71b604b2ae7b8e6df6e1d0_add (data) {\n",
       "            geo_json_e3c1e09bea71b604b2ae7b8e6df6e1d0\n",
       "                .addData(data)\n",
       "                .addTo(map_ab200ea94fe0c269afbb633274eae941);\n",
       "        }\n",
       "            geo_json_e3c1e09bea71b604b2ae7b8e6df6e1d0_add({&quot;features&quot;: [{&quot;geometry&quot;: {&quot;coordinates&quot;: [[[-1.050087, 51.489851], [-1.056825, 51.488599], [-1.057985, 51.484096], [-1.052408, 51.480846], [-1.04567, 51.482099], [-1.044509, 51.486601], [-1.050087, 51.489851]]], &quot;type&quot;: &quot;Polygon&quot;}, &quot;id&quot;: &quot;88195d74d5fffff&quot;, &quot;properties&quot;: {&quot;order_gk&quot;: 1}, &quot;type&quot;: &quot;Feature&quot;}, {&quot;geometry&quot;: {&quot;coordinates&quot;: [[[-1.037771, 51.487852], [-1.044509, 51.486601], [-1.04567, 51.482099], [-1.040093, 51.478848], [-1.033357, 51.4801], [-1.032195, 51.484602], [-1.037771, 51.487852]]], &quot;type&quot;: &quot;Polygon&quot;}, &quot;id&quot;: &quot;88195d74d1fffff&quot;, &quot;properties&quot;: {&quot;order_gk&quot;: 1}, &quot;type&quot;: &quot;Feature&quot;}, {&quot;geometry&quot;: {&quot;coordinates&quot;: [[[-0.876122, 51.419258], [-0.882846, 51.418014], [-0.884017, 51.413514], [-0.878463, 51.410257], [-0.87174, 51.411501], [-0.870569, 51.416002], [-0.876122, 51.419258]]], &quot;type&quot;: &quot;Polygon&quot;}, &quot;id&quot;: &quot;88195d2aebfffff&quot;, &quot;properties&quot;: {&quot;order_gk&quot;: 1}, &quot;type&quot;: &quot;Feature&quot;}, {&quot;geometry&quot;: {&quot;coordinates&quot;: [[[-0.973505, 51.414059], [-0.980233, 51.412808], [-0.981396, 51.408305], [-0.975834, 51.405052], [-0.969108, 51.406302], [-0.967943, 51.410806], [-0.973505, 51.414059]]], &quot;type&quot;: &quot;Polygon&quot;}, &quot;id&quot;: &quot;88195d282bfffff&quot;, &quot;properties&quot;: {&quot;order_gk&quot;: 1}, &quot;type&quot;: &quot;Feature&quot;}, {&quot;geometry&quot;: {&quot;coordinates&quot;: [[[-0.903318, 51.487042], [-0.910052, 51.485798], [-0.911222, 51.4813], [-0.905659, 51.478045], [-0.898927, 51.479288], [-0.897756, 51.483786], [-0.903318, 51.487042]]], &quot;type&quot;: &quot;Polygon&quot;}, &quot;id&quot;: &quot;88195d3993fffff&quot;, &quot;properties&quot;: {&quot;order_gk&quot;: 1}, &quot;type&quot;: &quot;Feature&quot;}, {&quot;geometry&quot;: {&quot;coordinates&quot;: [[[-1.002493, 51.425819], [-1.009223, 51.424567], [-1.010385, 51.420063], [-1.004818, 51.416811], [-0.99809, 51.418063], [-0.996927, 51.422567], [-1.002493, 51.425819]]], &quot;type&quot;: &quot;Polygon&quot;}, &quot;id&quot;: &quot;88195d2953fffff&quot;, &quot;properties&quot;: {&quot;order_gk&quot;: 1}, &quot;type&quot;: &quot;Feature&quot;}, {&quot;geometry&quot;: {&quot;coordinates&quot;: [[[-1.039392, 51.431816], [-1.046124, 51.430562], [-1.047283, 51.426057], [-1.041712, 51.422806], [-1.034982, 51.42406], [-1.033821, 51.428565], [-1.039392, 51.431816]]], &quot;type&quot;: &quot;Polygon&quot;}, &quot;id&quot;: &quot;88195d2901fffff&quot;, &quot;properties&quot;: {&quot;order_gk&quot;: 2}, &quot;type&quot;: &quot;Feature&quot;}, {&quot;geometry&quot;: {&quot;coordinates&quot;: [[[-0.927914, 51.491064], [-0.934649, 51.489819], [-0.935818, 51.48532], [-0.930252, 51.482066], [-0.923519, 51.483311], [-0.922349, 51.487809], [-0.927914, 51.491064]]], &quot;type&quot;: &quot;Polygon&quot;}, &quot;id&quot;: &quot;88195d39bbfffff&quot;, &quot;properties&quot;: {&quot;order_gk&quot;: 2}, &quot;type&quot;: &quot;Feature&quot;}, {&quot;geometry&quot;: {&quot;coordinates&quot;: [[[-1.053568, 51.476344], [-1.060305, 51.475091], [-1.061464, 51.470587], [-1.055888, 51.467337], [-1.049151, 51.46859], [-1.047991, 51.473093], [-1.053568, 51.476344]]], &quot;type&quot;: &quot;Polygon&quot;}, &quot;id&quot;: &quot;88195d749dfffff&quot;, &quot;properties&quot;: {&quot;order_gk&quot;: 2}, &quot;type&quot;: &quot;Feature&quot;}, {&quot;geometry&quot;: {&quot;coordinates&quot;: [[[-0.932312, 51.498817], [-0.939047, 51.497572], [-0.940216, 51.493073], [-0.934649, 51.489819], [-0.927914, 51.491064], [-0.926745, 51.495562], [-0.932312, 51.498817]]], &quot;type&quot;: &quot;Polygon&quot;}, &quot;id&quot;: &quot;88195d39b9fffff&quot;, &quot;properties&quot;: {&quot;order_gk&quot;: 3}, &quot;type&quot;: &quot;Feature&quot;}, {&quot;geometry&quot;: {&quot;coordinates&quot;: [[[-0.961216, 51.412055], [-0.967943, 51.410806], [-0.969108, 51.406302], [-0.963546, 51.403049], [-0.956821, 51.404298], [-0.955656, 51.408801], [-0.961216, 51.412055]]], &quot;type&quot;: &quot;Polygon&quot;}, &quot;id&quot;: &quot;88195d2807fffff&quot;, &quot;properties&quot;: {&quot;order_gk&quot;: 3}, &quot;type&quot;: &quot;Feature&quot;}, {&quot;geometry&quot;: {&quot;coordinates&quot;: [[[-0.8884, 51.421271], [-0.895125, 51.420026], [-0.896295, 51.415525], [-0.890741, 51.412269], [-0.884017, 51.413514], [-0.882846, 51.418014], [-0.8884, 51.421271]]], &quot;type&quot;: &quot;Polygon&quot;}, &quot;id&quot;: &quot;88195d2ae1fffff&quot;, &quot;properties&quot;: {&quot;order_gk&quot;: 3}, &quot;type&quot;: &quot;Feature&quot;}, {&quot;geometry&quot;: {&quot;coordinates&quot;: [[[-0.985796, 51.416061], [-0.992524, 51.41481], [-0.993687, 51.410306], [-0.988123, 51.407054], [-0.981396, 51.408305], [-0.980233, 51.412808], [-0.985796, 51.416061]]], &quot;type&quot;: &quot;Polygon&quot;}, &quot;id&quot;: &quot;88195d2821fffff&quot;, &quot;properties&quot;: {&quot;order_gk&quot;: 3}, &quot;type&quot;: &quot;Feature&quot;}, {&quot;geometry&quot;: {&quot;coordinates&quot;: [[[-1.057985, 51.484096], [-1.064724, 51.482844], [-1.065883, 51.478341], [-1.060305, 51.475091], [-1.053568, 51.476344], [-1.052408, 51.480846], [-1.057985, 51.484096]]], &quot;type&quot;: &quot;Polygon&quot;}, &quot;id&quot;: &quot;88195d748bfffff&quot;, &quot;properties&quot;: {&quot;order_gk&quot;: 3}, &quot;type&quot;: &quot;Feature&quot;}, {&quot;geometry&quot;: {&quot;coordinates&quot;: [[[-0.977132, 51.499095], [-0.98387, 51.497848], [-0.985035, 51.493348], [-0.979464, 51.490095], [-0.972727, 51.491342], [-0.971561, 51.495842], [-0.977132, 51.499095]]], &quot;type&quot;: &quot;Polygon&quot;}, &quot;id&quot;: &quot;88195d2b4dfffff&quot;, &quot;properties&quot;: {&quot;order_gk&quot;: 4}, &quot;type&quot;: &quot;Feature&quot;}, {&quot;geometry&quot;: {&quot;coordinates&quot;: [[[-1.049151, 51.46859], [-1.055888, 51.467337], [-1.057047, 51.462834], [-1.051472, 51.459584], [-1.044737, 51.460837], [-1.043576, 51.46534], [-1.049151, 51.46859]]], &quot;type&quot;: &quot;Polygon&quot;}, &quot;id&quot;: &quot;88195d7491fffff&quot;, &quot;properties&quot;: {&quot;order_gk&quot;: 4}, &quot;type&quot;: &quot;Feature&quot;}, {&quot;geometry&quot;: {&quot;coordinates&quot;: [[[-0.997344, 51.495352], [-1.004082, 51.494103], [-1.005246, 51.489602], [-0.999673, 51.48635], [-0.992936, 51.487599], [-0.991772, 51.4921], [-0.997344, 51.495352]]], &quot;type&quot;: &quot;Polygon&quot;}, &quot;id&quot;: &quot;88195d2b69fffff&quot;, &quot;properties&quot;: {&quot;order_gk&quot;: 4}, &quot;type&quot;: &quot;Feature&quot;}, {&quot;geometry&quot;: {&quot;coordinates&quot;: [[[-0.876991, 51.440514], [-0.883718, 51.439271], [-0.884888, 51.434771], [-0.879333, 51.431515], [-0.872607, 51.432759], [-0.871436, 51.437258], [-0.876991, 51.440514]]], &quot;type&quot;: &quot;Polygon&quot;}, &quot;id&quot;: &quot;88195d2a11fffff&quot;, &quot;properties&quot;: {&quot;order_gk&quot;: 4}, &quot;type&quot;: &quot;Feature&quot;}, {&quot;geometry&quot;: {&quot;coordinates&quot;: [[[-1.033357, 51.4801], [-1.040093, 51.478848], [-1.041255, 51.474346], [-1.035679, 51.471095], [-1.028943, 51.472347], [-1.027782, 51.476849], [-1.033357, 51.4801]]], &quot;type&quot;: &quot;Polygon&quot;}, &quot;id&quot;: &quot;88195d74d3fffff&quot;, &quot;properties&quot;: {&quot;order_gk&quot;: 4}, &quot;type&quot;: &quot;Feature&quot;}, {&quot;geometry&quot;: {&quot;coordinates&quot;: [[[-0.906829, 51.473546], [-0.913561, 51.472302], [-0.914731, 51.467803], [-0.909169, 51.464548], [-0.902439, 51.465792], [-0.901268, 51.470291], [-0.906829, 51.473546]]], &quot;type&quot;: &quot;Polygon&quot;}, &quot;id&quot;: &quot;88195d2a6bfffff&quot;, &quot;properties&quot;: {&quot;order_gk&quot;: 4}, &quot;type&quot;: &quot;Feature&quot;}, {&quot;geometry&quot;: {&quot;coordinates&quot;: [[[-0.87786, 51.461767], [-0.88459, 51.460524], [-0.885761, 51.456025], [-0.880204, 51.452769], [-0.873475, 51.454012], [-0.872303, 51.45851], [-0.87786, 51.461767]]], &quot;type&quot;: &quot;Polygon&quot;}, &quot;id&quot;: &quot;88195d2a55fffff&quot;, &quot;properties&quot;: {&quot;order_gk&quot;: 4}, &quot;type&quot;: &quot;Feature&quot;}, {&quot;geometry&quot;: {&quot;coordinates&quot;: [[[-1.060525, 51.449322], [-1.06726, 51.448068], [-1.068418, 51.443563], [-1.062843, 51.440313], [-1.05611, 51.441568], [-1.054951, 51.446072], [-1.060525, 51.449322]]], &quot;type&quot;: &quot;Polygon&quot;}, &quot;id&quot;: &quot;88195d2961fffff&quot;, &quot;properties&quot;: {&quot;order_gk&quot;: 5}, &quot;type&quot;: &quot;Feature&quot;}, {&quot;geometry&quot;: {&quot;coordinates&quot;: [[[-0.898927, 51.479288], [-0.905659, 51.478045], [-0.906829, 51.473546], [-0.901268, 51.470291], [-0.894537, 51.471534], [-0.893366, 51.476033], [-0.898927, 51.479288]]], &quot;type&quot;: &quot;Polygon&quot;}, &quot;id&quot;: &quot;88195d2a45fffff&quot;, &quot;properties&quot;: {&quot;order_gk&quot;: 5}, &quot;type&quot;: &quot;Feature&quot;}, {&quot;geometry&quot;: {&quot;coordinates&quot;: [[[-1.000837, 51.481849], [-1.007573, 51.4806], [-1.008736, 51.476098], [-1.003164, 51.472847], [-0.996429, 51.474096], [-0.995265, 51.478597], [-1.000837, 51.481849]]], &quot;type&quot;: &quot;Polygon&quot;}, &quot;id&quot;: &quot;88195d2b63fffff&quot;, &quot;properties&quot;: {&quot;order_gk&quot;: 5}, &quot;type&quot;: &quot;Feature&quot;}, {&quot;geometry&quot;: {&quot;coordinates&quot;: [[[-1.024532, 51.464593], [-1.031267, 51.463341], [-1.032428, 51.458838], [-1.026855, 51.455587], [-1.020121, 51.456839], [-1.018959, 51.461342], [-1.024532, 51.464593]]], &quot;type&quot;: &quot;Polygon&quot;}, &quot;id&quot;: &quot;88195d2b27fffff&quot;, &quot;properties&quot;: {&quot;order_gk&quot;: 5}, &quot;type&quot;: &quot;Feature&quot;}, {&quot;geometry&quot;: {&quot;coordinates&quot;: [[[-0.890148, 51.46378], [-0.896878, 51.462537], [-0.898049, 51.458038], [-0.89249, 51.454782], [-0.885761, 51.456025], [-0.88459, 51.460524], [-0.890148, 51.46378]]], &quot;type&quot;: &quot;Polygon&quot;}, &quot;id&quot;: &quot;88195d2a09fffff&quot;, &quot;properties&quot;: {&quot;order_gk&quot;: 5}, &quot;type&quot;: &quot;Feature&quot;}, {&quot;geometry&quot;: {&quot;coordinates&quot;: [[[-1.04567, 51.482099], [-1.052408, 51.480846], [-1.053568, 51.476344], [-1.047991, 51.473093], [-1.041255, 51.474346], [-1.040093, 51.478848], [-1.04567, 51.482099]]], &quot;type&quot;: &quot;Polygon&quot;}, &quot;id&quot;: &quot;88195d74d7fffff&quot;, &quot;properties&quot;: {&quot;order_gk&quot;: 5}, &quot;type&quot;: &quot;Feature&quot;}, {&quot;geometry&quot;: {&quot;coordinates&quot;: [[[-1.019198, 51.435575], [-1.025929, 51.434322], [-1.02709, 51.429818], [-1.021521, 51.426567], [-1.014791, 51.427819], [-1.013629, 51.432323], [-1.019198, 51.435575]]], &quot;type&quot;: &quot;Polygon&quot;}, &quot;id&quot;: &quot;88195d2955fffff&quot;, &quot;properties&quot;: {&quot;order_gk&quot;: 7}, &quot;type&quot;: &quot;Feature&quot;}, {&quot;geometry&quot;: {&quot;coordinates&quot;: [[[-0.940216, 51.493073], [-0.946951, 51.491828], [-0.948119, 51.487329], [-0.942552, 51.484075], [-0.935818, 51.48532], [-0.934649, 51.489819], [-0.940216, 51.493073]]], &quot;type&quot;: &quot;Polygon&quot;}, &quot;id&quot;: &quot;88195d39b1fffff&quot;, &quot;properties&quot;: {&quot;order_gk&quot;: 7}, &quot;type&quot;: &quot;Feature&quot;}, {&quot;geometry&quot;: {&quot;coordinates&quot;: [[[-0.902439, 51.465792], [-0.909169, 51.464548], [-0.910339, 51.460049], [-0.904779, 51.456794], [-0.898049, 51.458038], [-0.896878, 51.462537], [-0.902439, 51.465792]]], &quot;type&quot;: &quot;Polygon&quot;}, &quot;id&quot;: &quot;88195d2a0dfffff&quot;, &quot;properties&quot;: {&quot;order_gk&quot;: 7}, &quot;type&quot;: &quot;Feature&quot;}, {&quot;geometry&quot;: {&quot;coordinates&quot;: [[[-0.885761, 51.456025], [-0.89249, 51.454782], [-0.893661, 51.450283], [-0.888103, 51.447027], [-0.881375, 51.44827], [-0.880204, 51.452769], [-0.885761, 51.456025]]], &quot;type&quot;: &quot;Polygon&quot;}, &quot;id&quot;: &quot;88195d2a0bfffff&quot;, &quot;properties&quot;: {&quot;order_gk&quot;: 7}, &quot;type&quot;: &quot;Feature&quot;}, {&quot;geometry&quot;: {&quot;coordinates&quot;: [[[-0.936645, 51.408045], [-0.94337, 51.406796], [-0.944536, 51.402293], [-0.938978, 51.399039], [-0.932254, 51.400287], [-0.931087, 51.40479], [-0.936645, 51.408045]]], &quot;type&quot;: &quot;Polygon&quot;}, &quot;id&quot;: &quot;88195d281dfffff&quot;, &quot;properties&quot;: {&quot;order_gk&quot;: 7}, &quot;type&quot;: &quot;Feature&quot;}, {&quot;geometry&quot;: {&quot;coordinates&quot;: [[[-0.912964, 51.425291], [-0.919691, 51.424045], [-0.920859, 51.419544], [-0.915301, 51.416289], [-0.908576, 51.417535], [-0.907407, 51.422036], [-0.912964, 51.425291]]], &quot;type&quot;: &quot;Polygon&quot;}, &quot;id&quot;: &quot;88195d2859fffff&quot;, &quot;properties&quot;: {&quot;order_gk&quot;: 8}, &quot;type&quot;: &quot;Feature&quot;}, {&quot;geometry&quot;: {&quot;coordinates&quot;: [[[-0.972727, 51.491342], [-0.979464, 51.490095], [-0.980629, 51.485595], [-0.975059, 51.482342], [-0.968324, 51.48359], [-0.967158, 51.48809], [-0.972727, 51.491342]]], &quot;type&quot;: &quot;Polygon&quot;}, &quot;id&quot;: &quot;88195d2b41fffff&quot;, &quot;properties&quot;: {&quot;order_gk&quot;: 8}, &quot;type&quot;: &quot;Feature&quot;}, {&quot;geometry&quot;: {&quot;coordinates&quot;: [[[-1.068418, 51.443563], [-1.075152, 51.442308], [-1.07631, 51.437803], [-1.070735, 51.434553], [-1.064002, 51.435808], [-1.062843, 51.440313], [-1.068418, 51.443563]]], &quot;type&quot;: &quot;Polygon&quot;}, &quot;id&quot;: &quot;88195d2967fffff&quot;, &quot;properties&quot;: {&quot;order_gk&quot;: 8}, &quot;type&quot;: &quot;Feature&quot;}, {&quot;geometry&quot;: {&quot;coordinates&quot;: [[[-0.935818, 51.48532], [-0.942552, 51.484075], [-0.94372, 51.479576], [-0.938154, 51.476322], [-0.931421, 51.477567], [-0.930252, 51.482066], [-0.935818, 51.48532]]], &quot;type&quot;: &quot;Polygon&quot;}, &quot;id&quot;: &quot;88195d39b3fffff&quot;, &quot;properties&quot;: {&quot;order_gk&quot;: 9}, &quot;type&quot;: &quot;Feature&quot;}, {&quot;geometry&quot;: {&quot;coordinates&quot;: [[[-0.909457, 51.438794], [-0.916185, 51.437548], [-0.917354, 51.433047], [-0.911795, 51.429792], [-0.905069, 51.431038], [-0.903899, 51.435538], [-0.909457, 51.438794]]], &quot;type&quot;: &quot;Polygon&quot;}, &quot;id&quot;: &quot;88195d2a31fffff&quot;, &quot;properties&quot;: {&quot;order_gk&quot;: 9}, &quot;type&quot;: &quot;Feature&quot;}, {&quot;geometry&quot;: {&quot;coordinates&quot;: [[[-1.052631, 51.45508], [-1.059366, 51.453826], [-1.060525, 51.449322], [-1.054951, 51.446072], [-1.048217, 51.447326], [-1.047057, 51.45183], [-1.052631, 51.45508]]], &quot;type&quot;: &quot;Polygon&quot;}, &quot;id&quot;: &quot;88195d2969fffff&quot;, &quot;properties&quot;: {&quot;order_gk&quot;: 9}, &quot;type&quot;: &quot;Feature&quot;}, {&quot;geometry&quot;: {&quot;coordinates&quot;: [[[-0.914731, 51.467803], [-0.921462, 51.466559], [-0.922631, 51.462059], [-0.91707, 51.458804], [-0.910339, 51.460049], [-0.909169, 51.464548], [-0.914731, 51.467803]]], &quot;type&quot;: &quot;Polygon&quot;}, &quot;id&quot;: &quot;88195d2a63fffff&quot;, &quot;properties&quot;: {&quot;order_gk&quot;: 10}, &quot;type&quot;: &quot;Feature&quot;}, {&quot;geometry&quot;: {&quot;coordinates&quot;: [[[-0.892785, 51.429027], [-0.899512, 51.427782], [-0.900681, 51.423281], [-0.895125, 51.420026], [-0.8884, 51.421271], [-0.88723, 51.425771], [-0.892785, 51.429027]]], &quot;type&quot;: &quot;Polygon&quot;}, &quot;id&quot;: &quot;88195d2aedfffff&quot;, &quot;properties&quot;: {&quot;order_gk&quot;: 10}, &quot;type&quot;: &quot;Feature&quot;}, {&quot;geometry&quot;: {&quot;coordinates&quot;: [[[-0.965613, 51.419812], [-0.972341, 51.418562], [-0.973505, 51.414059], [-0.967943, 51.410806], [-0.961216, 51.412055], [-0.960051, 51.416558], [-0.965613, 51.419812]]], &quot;type&quot;: &quot;Polygon&quot;}, &quot;id&quot;: &quot;88195d2805fffff&quot;, &quot;properties&quot;: {&quot;order_gk&quot;: 10}, &quot;type&quot;: &quot;Feature&quot;}, {&quot;geometry&quot;: {&quot;coordinates&quot;: [[[-0.919124, 51.475557], [-0.925857, 51.474313], [-0.927025, 51.469813], [-0.921462, 51.466559], [-0.914731, 51.467803], [-0.913561, 51.472302], [-0.919124, 51.475557]]], &quot;type&quot;: &quot;Polygon&quot;}, &quot;id&quot;: &quot;88195d2a61fffff&quot;, &quot;properties&quot;: {&quot;order_gk&quot;: 10}, &quot;type&quot;: &quot;Feature&quot;}, {&quot;geometry&quot;: {&quot;coordinates&quot;: [[[-0.981396, 51.408305], [-0.988123, 51.407054], [-0.989286, 51.402549], [-0.983723, 51.399296], [-0.976998, 51.400548], [-0.975834, 51.405052], [-0.981396, 51.408305]]], &quot;type&quot;: &quot;Polygon&quot;}, &quot;id&quot;: &quot;88195d2823fffff&quot;, &quot;properties&quot;: {&quot;order_gk&quot;: 11}, &quot;type&quot;: &quot;Feature&quot;}, {&quot;geometry&quot;: {&quot;coordinates&quot;: [[[-1.03684, 51.466592], [-1.043576, 51.46534], [-1.044737, 51.460837], [-1.039162, 51.457586], [-1.032428, 51.458838], [-1.031267, 51.463341], [-1.03684, 51.466592]]], &quot;type&quot;: &quot;Polygon&quot;}, &quot;id&quot;: &quot;88195d749bfffff&quot;, &quot;properties&quot;: {&quot;order_gk&quot;: 11}, &quot;type&quot;: &quot;Feature&quot;}, {&quot;geometry&quot;: {&quot;coordinates&quot;: [[[-1.057047, 51.462834], [-1.063783, 51.46158], [-1.064942, 51.457076], [-1.059366, 51.453826], [-1.052631, 51.45508], [-1.051472, 51.459584], [-1.057047, 51.462834]]], &quot;type&quot;: &quot;Polygon&quot;}, &quot;id&quot;: &quot;88195d7497fffff&quot;, &quot;properties&quot;: {&quot;order_gk&quot;: 11}, &quot;type&quot;: &quot;Feature&quot;}, {&quot;geometry&quot;: {&quot;coordinates&quot;: [[[-0.964825, 51.497089], [-0.971561, 51.495842], [-0.972727, 51.491342], [-0.967158, 51.48809], [-0.960422, 51.489336], [-0.959255, 51.493836], [-0.964825, 51.497089]]], &quot;type&quot;: &quot;Polygon&quot;}, &quot;id&quot;: &quot;88195d2b49fffff&quot;, &quot;properties&quot;: {&quot;order_gk&quot;: 11}, &quot;type&quot;: &quot;Feature&quot;}, {&quot;geometry&quot;: {&quot;coordinates&quot;: [[[-1.040323, 51.453083], [-1.047057, 51.45183], [-1.048217, 51.447326], [-1.042644, 51.444075], [-1.035911, 51.445328], [-1.03475, 51.449832], [-1.040323, 51.453083]]], &quot;type&quot;: &quot;Polygon&quot;}, &quot;id&quot;: &quot;88195d2945fffff&quot;, &quot;properties&quot;: {&quot;order_gk&quot;: 11}, &quot;type&quot;: &quot;Feature&quot;}, {&quot;geometry&quot;: {&quot;coordinates&quot;: [[[-0.898049, 51.458038], [-0.904779, 51.456794], [-0.905949, 51.452294], [-0.90039, 51.449039], [-0.893661, 51.450283], [-0.89249, 51.454782], [-0.898049, 51.458038]]], &quot;type&quot;: &quot;Polygon&quot;}, &quot;id&quot;: &quot;88195d2a01fffff&quot;, &quot;properties&quot;: {&quot;order_gk&quot;: 12}, &quot;type&quot;: &quot;Feature&quot;}, {&quot;geometry&quot;: {&quot;coordinates&quot;: [[[-0.905069, 51.431038], [-0.911795, 51.429792], [-0.912964, 51.425291], [-0.907407, 51.422036], [-0.900681, 51.423281], [-0.899512, 51.427782], [-0.905069, 51.431038]]], &quot;type&quot;: &quot;Polygon&quot;}, &quot;id&quot;: &quot;88195d2a33fffff&quot;, &quot;properties&quot;: {&quot;order_gk&quot;: 12}, &quot;type&quot;: &quot;Feature&quot;}, {&quot;geometry&quot;: {&quot;coordinates&quot;: [[[-1.05611, 51.441568], [-1.062843, 51.440313], [-1.064002, 51.435808], [-1.058428, 51.432558], [-1.051696, 51.433813], [-1.050536, 51.438317], [-1.05611, 51.441568]]], &quot;type&quot;: &quot;Polygon&quot;}, &quot;id&quot;: &quot;88195d2963fffff&quot;, &quot;properties&quot;: {&quot;order_gk&quot;: 12}, &quot;type&quot;: &quot;Feature&quot;}, {&quot;geometry&quot;: {&quot;coordinates&quot;: [[[-0.94893, 51.41005], [-0.955656, 51.408801], [-0.956821, 51.404298], [-0.951261, 51.401044], [-0.944536, 51.402293], [-0.94337, 51.406796], [-0.94893, 51.41005]]], &quot;type&quot;: &quot;Polygon&quot;}, &quot;id&quot;: &quot;88195d2803fffff&quot;, &quot;properties&quot;: {&quot;order_gk&quot;: 14}, &quot;type&quot;: &quot;Feature&quot;}, {&quot;geometry&quot;: {&quot;coordinates&quot;: [[[-0.872607, 51.432759], [-0.879333, 51.431515], [-0.880504, 51.427015], [-0.87495, 51.423759], [-0.868225, 51.425002], [-0.867054, 51.429502], [-0.872607, 51.432759]]], &quot;type&quot;: &quot;Polygon&quot;}, &quot;id&quot;: &quot;88195d2a13fffff&quot;, &quot;properties&quot;: {&quot;order_gk&quot;: 14}, &quot;type&quot;: &quot;Feature&quot;}, {&quot;geometry&quot;: {&quot;coordinates&quot;: [[[-0.941037, 51.415802], [-0.947764, 51.414553], [-0.94893, 51.41005], [-0.94337, 51.406796], [-0.936645, 51.408045], [-0.935478, 51.412547], [-0.941037, 51.415802]]], &quot;type&quot;: &quot;Polygon&quot;}, &quot;id&quot;: &quot;88195d280bfffff&quot;, &quot;properties&quot;: {&quot;order_gk&quot;: 15}, &quot;type&quot;: &quot;Feature&quot;}, {&quot;geometry&quot;: {&quot;coordinates&quot;: [[[-0.910339, 51.460049], [-0.91707, 51.458804], [-0.918239, 51.454304], [-0.912678, 51.451049], [-0.905949, 51.452294], [-0.904779, 51.456794], [-0.910339, 51.460049]]], &quot;type&quot;: &quot;Polygon&quot;}, &quot;id&quot;: &quot;88195d2a05fffff&quot;, &quot;properties&quot;: {&quot;order_gk&quot;: 15}, &quot;type&quot;: &quot;Feature&quot;}, {&quot;geometry&quot;: {&quot;coordinates&quot;: [[[-1.011305, 51.44133], [-1.018036, 51.440078], [-1.019198, 51.435575], [-1.013629, 51.432323], [-1.006898, 51.433575], [-1.005736, 51.438078], [-1.011305, 51.44133]]], &quot;type&quot;: &quot;Polygon&quot;}, &quot;id&quot;: &quot;88195d295dfffff&quot;, &quot;properties&quot;: {&quot;order_gk&quot;: 15}, &quot;type&quot;: &quot;Feature&quot;}, {&quot;geometry&quot;: {&quot;coordinates&quot;: [[[-1.028943, 51.472347], [-1.035679, 51.471095], [-1.03684, 51.466592], [-1.031267, 51.463341], [-1.024532, 51.464593], [-1.02337, 51.469095], [-1.028943, 51.472347]]], &quot;type&quot;: &quot;Polygon&quot;}, &quot;id&quot;: &quot;88195d2b25fffff&quot;, &quot;properties&quot;: {&quot;order_gk&quot;: 16}, &quot;type&quot;: &quot;Feature&quot;}, {&quot;geometry&quot;: {&quot;coordinates&quot;: [[[-0.986707, 51.437327], [-0.993437, 51.436077], [-0.994601, 51.431573], [-0.989034, 51.428321], [-0.982305, 51.429571], [-0.981141, 51.434074], [-0.986707, 51.437327]]], &quot;type&quot;: &quot;Polygon&quot;}, &quot;id&quot;: &quot;88195d2865fffff&quot;, &quot;properties&quot;: {&quot;order_gk&quot;: 16}, &quot;type&quot;: &quot;Feature&quot;}, {&quot;geometry&quot;: {&quot;coordinates&quot;: [[[-1.041255, 51.474346], [-1.047991, 51.473093], [-1.049151, 51.46859], [-1.043576, 51.46534], [-1.03684, 51.466592], [-1.035679, 51.471095], [-1.041255, 51.474346]]], &quot;type&quot;: &quot;Polygon&quot;}, &quot;id&quot;: &quot;88195d7499fffff&quot;, &quot;properties&quot;: {&quot;order_gk&quot;: 17}, &quot;type&quot;: &quot;Feature&quot;}, {&quot;geometry&quot;: {&quot;coordinates&quot;: [[[-0.947222, 51.466076], [-0.953955, 51.464829], [-0.955121, 51.460328], [-0.949556, 51.457075], [-0.942825, 51.458321], [-0.941657, 51.462822], [-0.947222, 51.466076]]], &quot;type&quot;: &quot;Polygon&quot;}, &quot;id&quot;: &quot;88195d2b53fffff&quot;, &quot;properties&quot;: {&quot;order_gk&quot;: 18}, &quot;type&quot;: &quot;Feature&quot;}, {&quot;geometry&quot;: {&quot;coordinates&quot;: [[[-0.922631, 51.462059], [-0.929362, 51.460814], [-0.930531, 51.456313], [-0.924969, 51.453059], [-0.918239, 51.454304], [-0.91707, 51.458804], [-0.922631, 51.462059]]], &quot;type&quot;: &quot;Polygon&quot;}, &quot;id&quot;: &quot;88195d2a29fffff&quot;, &quot;properties&quot;: {&quot;order_gk&quot;: 20}, &quot;type&quot;: &quot;Feature&quot;}, {&quot;geometry&quot;: {&quot;coordinates&quot;: [[[-0.893661, 51.450283], [-0.90039, 51.449039], [-0.90156, 51.444539], [-0.896002, 51.441283], [-0.889274, 51.442527], [-0.888103, 51.447027], [-0.893661, 51.450283]]], &quot;type&quot;: &quot;Polygon&quot;}, &quot;id&quot;: &quot;88195d2a03fffff&quot;, &quot;properties&quot;: {&quot;order_gk&quot;: 20}, &quot;type&quot;: &quot;Feature&quot;}, {&quot;geometry&quot;: {&quot;coordinates&quot;: [[[-0.992936, 51.487599], [-0.999673, 51.48635], [-1.000837, 51.481849], [-0.995265, 51.478597], [-0.98853, 51.479846], [-0.987365, 51.484347], [-0.992936, 51.487599]]], &quot;type&quot;: &quot;Polygon&quot;}, &quot;id&quot;: &quot;88195d2b6bfffff&quot;, &quot;properties&quot;: {&quot;order_gk&quot;: 21}, &quot;type&quot;: &quot;Feature&quot;}, {&quot;geometry&quot;: {&quot;coordinates&quot;: [[[-0.905949, 51.452294], [-0.912678, 51.451049], [-0.913847, 51.446549], [-0.908288, 51.443294], [-0.90156, 51.444539], [-0.90039, 51.449039], [-0.905949, 51.452294]]], &quot;type&quot;: &quot;Polygon&quot;}, &quot;id&quot;: &quot;88195d2a07fffff&quot;, &quot;properties&quot;: {&quot;order_gk&quot;: 24}, &quot;type&quot;: &quot;Feature&quot;}, {&quot;geometry&quot;: {&quot;coordinates&quot;: [[[-0.929641, 51.435056], [-0.936369, 51.433809], [-0.937537, 51.429308], [-0.931976, 51.426053], [-0.925249, 51.4273], [-0.924081, 51.431801], [-0.929641, 51.435056]]], &quot;type&quot;: &quot;Polygon&quot;}, &quot;id&quot;: &quot;88195d284bfffff&quot;, &quot;properties&quot;: {&quot;order_gk&quot;: 24}, &quot;type&quot;: &quot;Feature&quot;}, {&quot;geometry&quot;: {&quot;coordinates&quot;: [[[-0.927025, 51.469813], [-0.933758, 51.468568], [-0.934926, 51.464068], [-0.929362, 51.460814], [-0.922631, 51.462059], [-0.921462, 51.466559], [-0.927025, 51.469813]]], &quot;type&quot;: &quot;Polygon&quot;}, &quot;id&quot;: &quot;88195d2a67fffff&quot;, &quot;properties&quot;: {&quot;order_gk&quot;: 29}, &quot;type&quot;: &quot;Feature&quot;}, {&quot;geometry&quot;: {&quot;coordinates&quot;: [[[-0.956021, 51.481583], [-0.962755, 51.480336], [-0.963922, 51.475836], [-0.958354, 51.472583], [-0.951621, 51.47383], [-0.950454, 51.47833], [-0.956021, 51.481583]]], &quot;type&quot;: &quot;Polygon&quot;}, &quot;id&quot;: &quot;88195d2b5dfffff&quot;, &quot;properties&quot;: {&quot;order_gk&quot;: 31}, &quot;type&quot;: &quot;Feature&quot;}, {&quot;geometry&quot;: {&quot;coordinates&quot;: [[[-0.889274, 51.442527], [-0.896002, 51.441283], [-0.897172, 51.436783], [-0.891615, 51.433527], [-0.884888, 51.434771], [-0.883718, 51.439271], [-0.889274, 51.442527]]], &quot;type&quot;: &quot;Polygon&quot;}, &quot;id&quot;: &quot;88195d2a15fffff&quot;, &quot;properties&quot;: {&quot;order_gk&quot;: 32}, &quot;type&quot;: &quot;Feature&quot;}, {&quot;geometry&quot;: {&quot;coordinates&quot;: [[[-0.969108, 51.406302], [-0.975834, 51.405052], [-0.976998, 51.400548], [-0.971436, 51.397294], [-0.964711, 51.398545], [-0.963546, 51.403049], [-0.969108, 51.406302]]], &quot;type&quot;: &quot;Polygon&quot;}, &quot;id&quot;: &quot;88195d283dfffff&quot;, &quot;properties&quot;: {&quot;order_gk&quot;: 35}, &quot;type&quot;: &quot;Feature&quot;}, {&quot;geometry&quot;: {&quot;coordinates&quot;: [[[-0.94372, 51.479576], [-0.950454, 51.47833], [-0.951621, 51.47383], [-0.946055, 51.470576], [-0.939322, 51.471822], [-0.938154, 51.476322], [-0.94372, 51.479576]]], &quot;type&quot;: &quot;Polygon&quot;}, &quot;id&quot;: &quot;88195d2b59fffff&quot;, &quot;properties&quot;: {&quot;order_gk&quot;: 36}, &quot;type&quot;: &quot;Feature&quot;}, {&quot;geometry&quot;: {&quot;coordinates&quot;: [[[-1.035911, 51.445328], [-1.042644, 51.444075], [-1.043804, 51.439571], [-1.038232, 51.43632], [-1.0315, 51.437573], [-1.030339, 51.442077], [-1.035911, 51.445328]]], &quot;type&quot;: &quot;Polygon&quot;}, &quot;id&quot;: &quot;88195d2947fffff&quot;, &quot;properties&quot;: {&quot;order_gk&quot;: 38}, &quot;type&quot;: &quot;Feature&quot;}, {&quot;geometry&quot;: {&quot;coordinates&quot;: [[[-0.90156, 51.444539], [-0.908288, 51.443294], [-0.909457, 51.438794], [-0.903899, 51.435538], [-0.897172, 51.436783], [-0.896002, 51.441283], [-0.90156, 51.444539]]], &quot;type&quot;: &quot;Polygon&quot;}, &quot;id&quot;: &quot;88195d2a39fffff&quot;, &quot;properties&quot;: {&quot;order_gk&quot;: 40}, &quot;type&quot;: &quot;Feature&quot;}, {&quot;geometry&quot;: {&quot;coordinates&quot;: [[[-1.044737, 51.460837], [-1.051472, 51.459584], [-1.052631, 51.45508], [-1.047057, 51.45183], [-1.040323, 51.453083], [-1.039162, 51.457586], [-1.044737, 51.460837]]], &quot;type&quot;: &quot;Polygon&quot;}, &quot;id&quot;: &quot;88195d7493fffff&quot;, &quot;properties&quot;: {&quot;order_gk&quot;: 41}, &quot;type&quot;: &quot;Feature&quot;}, {&quot;geometry&quot;: {&quot;coordinates&quot;: [[[-1.016634, 51.470346], [-1.02337, 51.469095], [-1.024532, 51.464593], [-1.018959, 51.461342], [-1.012225, 51.462593], [-1.011062, 51.467095], [-1.016634, 51.470346]]], &quot;type&quot;: &quot;Polygon&quot;}, &quot;id&quot;: &quot;88195d2b21fffff&quot;, &quot;properties&quot;: {&quot;order_gk&quot;: 42}, &quot;type&quot;: &quot;Feature&quot;}, {&quot;geometry&quot;: {&quot;coordinates&quot;: [[[-1.032428, 51.458838], [-1.039162, 51.457586], [-1.040323, 51.453083], [-1.03475, 51.449832], [-1.028017, 51.451084], [-1.026855, 51.455587], [-1.032428, 51.458838]]], &quot;type&quot;: &quot;Polygon&quot;}, &quot;id&quot;: &quot;88195d294dfffff&quot;, &quot;properties&quot;: {&quot;order_gk&quot;: 42}, &quot;type&quot;: &quot;Feature&quot;}, {&quot;geometry&quot;: {&quot;coordinates&quot;: [[[-1.008736, 51.476098], [-1.015472, 51.474848], [-1.016634, 51.470346], [-1.011062, 51.467095], [-1.004328, 51.468345], [-1.003164, 51.472847], [-1.008736, 51.476098]]], &quot;type&quot;: &quot;Polygon&quot;}, &quot;id&quot;: &quot;88195d2b29fffff&quot;, &quot;properties&quot;: {&quot;order_gk&quot;: 44}, &quot;type&quot;: &quot;Feature&quot;}, {&quot;geometry&quot;: {&quot;coordinates&quot;: [[[-0.884888, 51.434771], [-0.891615, 51.433527], [-0.892785, 51.429027], [-0.88723, 51.425771], [-0.880504, 51.427015], [-0.879333, 51.431515], [-0.884888, 51.434771]]], &quot;type&quot;: &quot;Polygon&quot;}, &quot;id&quot;: &quot;88195d2a17fffff&quot;, &quot;properties&quot;: {&quot;order_gk&quot;: 44}, &quot;type&quot;: &quot;Feature&quot;}, {&quot;geometry&quot;: {&quot;coordinates&quot;: [[[-0.945431, 51.423558], [-0.952158, 51.42231], [-0.953324, 51.417807], [-0.947764, 51.414553], [-0.941037, 51.415802], [-0.939871, 51.420304], [-0.945431, 51.423558]]], &quot;type&quot;: &quot;Polygon&quot;}, &quot;id&quot;: &quot;88195d2809fffff&quot;, &quot;properties&quot;: {&quot;order_gk&quot;: 46}, &quot;type&quot;: &quot;Feature&quot;}, {&quot;geometry&quot;: {&quot;coordinates&quot;: [[[-1.004328, 51.468345], [-1.011062, 51.467095], [-1.012225, 51.462593], [-1.006654, 51.459341], [-0.99992, 51.460591], [-0.998757, 51.465093], [-1.004328, 51.468345]]], &quot;type&quot;: &quot;Polygon&quot;}, &quot;id&quot;: &quot;88195d2b2bfffff&quot;, &quot;properties&quot;: {&quot;order_gk&quot;: 47}, &quot;type&quot;: &quot;Feature&quot;}, {&quot;geometry&quot;: {&quot;coordinates&quot;: [[[-0.960422, 51.489336], [-0.967158, 51.48809], [-0.968324, 51.48359], [-0.962755, 51.480336], [-0.956021, 51.481583], [-0.954854, 51.486083], [-0.960422, 51.489336]]], &quot;type&quot;: &quot;Polygon&quot;}, &quot;id&quot;: &quot;88195d2b4bfffff&quot;, &quot;properties&quot;: {&quot;order_gk&quot;: 48}, &quot;type&quot;: &quot;Feature&quot;}, {&quot;geometry&quot;: {&quot;coordinates&quot;: [[[-0.911222, 51.4813], [-0.917955, 51.480056], [-0.919124, 51.475557], [-0.913561, 51.472302], [-0.906829, 51.473546], [-0.905659, 51.478045], [-0.911222, 51.4813]]], &quot;type&quot;: &quot;Polygon&quot;}, &quot;id&quot;: &quot;88195d2a69fffff&quot;, &quot;properties&quot;: {&quot;order_gk&quot;: 49}, &quot;type&quot;: &quot;Feature&quot;}, {&quot;geometry&quot;: {&quot;coordinates&quot;: [[[-0.948119, 51.487329], [-0.954854, 51.486083], [-0.956021, 51.481583], [-0.950454, 51.47833], [-0.94372, 51.479576], [-0.942552, 51.484075], [-0.948119, 51.487329]]], &quot;type&quot;: &quot;Polygon&quot;}, &quot;id&quot;: &quot;88195d39b7fffff&quot;, &quot;properties&quot;: {&quot;order_gk&quot;: 50}, &quot;type&quot;: &quot;Feature&quot;}, {&quot;geometry&quot;: {&quot;coordinates&quot;: [[[-0.978812, 51.443079], [-0.985543, 51.441829], [-0.986707, 51.437327], [-0.981141, 51.434074], [-0.974411, 51.435324], [-0.973246, 51.439826], [-0.978812, 51.443079]]], &quot;type&quot;: &quot;Polygon&quot;}, &quot;id&quot;: &quot;88195d286dfffff&quot;, &quot;properties&quot;: {&quot;order_gk&quot;: 50}, &quot;type&quot;: &quot;Feature&quot;}, {&quot;geometry&quot;: {&quot;coordinates&quot;: [[[-1.028017, 51.451084], [-1.03475, 51.449832], [-1.035911, 51.445328], [-1.030339, 51.442077], [-1.023607, 51.44333], [-1.022445, 51.447833], [-1.028017, 51.451084]]], &quot;type&quot;: &quot;Polygon&quot;}, &quot;id&quot;: &quot;88195d2941fffff&quot;, &quot;properties&quot;: {&quot;order_gk&quot;: 52}, &quot;type&quot;: &quot;Feature&quot;}, {&quot;geometry&quot;: {&quot;coordinates&quot;: [[[-0.994601, 51.431573], [-1.00133, 51.430322], [-1.002493, 51.425819], [-0.996927, 51.422567], [-0.990198, 51.423818], [-0.989034, 51.428321], [-0.994601, 51.431573]]], &quot;type&quot;: &quot;Polygon&quot;}, &quot;id&quot;: &quot;88195d295bfffff&quot;, &quot;properties&quot;: {&quot;order_gk&quot;: 53}, &quot;type&quot;: &quot;Feature&quot;}, {&quot;geometry&quot;: {&quot;coordinates&quot;: [[[-0.917354, 51.433047], [-0.924081, 51.431801], [-0.925249, 51.4273], [-0.919691, 51.424045], [-0.912964, 51.425291], [-0.911795, 51.429792], [-0.917354, 51.433047]]], &quot;type&quot;: &quot;Polygon&quot;}, &quot;id&quot;: &quot;88195d2a37fffff&quot;, &quot;properties&quot;: {&quot;order_gk&quot;: 57}, &quot;type&quot;: &quot;Feature&quot;}, {&quot;geometry&quot;: {&quot;coordinates&quot;: [[[-1.048217, 51.447326], [-1.054951, 51.446072], [-1.05611, 51.441568], [-1.050536, 51.438317], [-1.043804, 51.439571], [-1.042644, 51.444075], [-1.048217, 51.447326]]], &quot;type&quot;: &quot;Polygon&quot;}, &quot;id&quot;: &quot;88195d296bfffff&quot;, &quot;properties&quot;: {&quot;order_gk&quot;: 58}, &quot;type&quot;: &quot;Feature&quot;}, {&quot;geometry&quot;: {&quot;coordinates&quot;: [[[-1.023607, 51.44333], [-1.030339, 51.442077], [-1.0315, 51.437573], [-1.025929, 51.434322], [-1.019198, 51.435575], [-1.018036, 51.440078], [-1.023607, 51.44333]]], &quot;type&quot;: &quot;Polygon&quot;}, &quot;id&quot;: &quot;88195d2943fffff&quot;, &quot;properties&quot;: {&quot;order_gk&quot;: 60}, &quot;type&quot;: &quot;Feature&quot;}, {&quot;geometry&quot;: {&quot;coordinates&quot;: [[[-1.020121, 51.456839], [-1.026855, 51.455587], [-1.028017, 51.451084], [-1.022445, 51.447833], [-1.015712, 51.449085], [-1.01455, 51.453588], [-1.020121, 51.456839]]], &quot;type&quot;: &quot;Polygon&quot;}, &quot;id&quot;: &quot;88195d2949fffff&quot;, &quot;properties&quot;: {&quot;order_gk&quot;: 61}, &quot;type&quot;: &quot;Feature&quot;}, {&quot;geometry&quot;: {&quot;coordinates&quot;: [[[-0.953324, 51.417807], [-0.960051, 51.416558], [-0.961216, 51.412055], [-0.955656, 51.408801], [-0.94893, 51.41005], [-0.947764, 51.414553], [-0.953324, 51.417807]]], &quot;type&quot;: &quot;Polygon&quot;}, &quot;id&quot;: &quot;88195d2801fffff&quot;, &quot;properties&quot;: {&quot;order_gk&quot;: 65}, &quot;type&quot;: &quot;Feature&quot;}, {&quot;geometry&quot;: {&quot;coordinates&quot;: [[[-0.968324, 51.48359], [-0.975059, 51.482342], [-0.976224, 51.477842], [-0.970656, 51.474589], [-0.963922, 51.475836], [-0.962755, 51.480336], [-0.968324, 51.48359]]], &quot;type&quot;: &quot;Polygon&quot;}, &quot;id&quot;: &quot;88195d2b43fffff&quot;, &quot;properties&quot;: {&quot;order_gk&quot;: 78}, &quot;type&quot;: &quot;Feature&quot;}, {&quot;geometry&quot;: {&quot;coordinates&quot;: [[[-0.913847, 51.446549], [-0.920576, 51.445304], [-0.921745, 51.440803], [-0.916185, 51.437548], [-0.909457, 51.438794], [-0.908288, 51.443294], [-0.913847, 51.446549]]], &quot;type&quot;: &quot;Polygon&quot;}, &quot;id&quot;: &quot;88195d2a3dfffff&quot;, &quot;properties&quot;: {&quot;order_gk&quot;: 85}, &quot;type&quot;: &quot;Feature&quot;}, {&quot;geometry&quot;: {&quot;coordinates&quot;: [[[-0.99111, 51.445082], [-0.997841, 51.443832], [-0.999005, 51.439329], [-0.993437, 51.436077], [-0.986707, 51.437327], [-0.985543, 51.441829], [-0.99111, 51.445082]]], &quot;type&quot;: &quot;Polygon&quot;}, &quot;id&quot;: &quot;88195d2b33fffff&quot;, &quot;properties&quot;: {&quot;order_gk&quot;: 86}, &quot;type&quot;: &quot;Feature&quot;}, {&quot;geometry&quot;: {&quot;coordinates&quot;: [[[-0.934926, 51.464068], [-0.941657, 51.462822], [-0.942825, 51.458321], [-0.937261, 51.455067], [-0.930531, 51.456313], [-0.929362, 51.460814], [-0.934926, 51.464068]]], &quot;type&quot;: &quot;Polygon&quot;}, &quot;id&quot;: &quot;88195d2a2dfffff&quot;, &quot;properties&quot;: {&quot;order_gk&quot;: 90}, &quot;type&quot;: &quot;Feature&quot;}, {&quot;geometry&quot;: {&quot;coordinates&quot;: [[[-1.007817, 51.454838], [-1.01455, 51.453588], [-1.015712, 51.449085], [-1.010142, 51.445833], [-1.00341, 51.447084], [-1.002247, 51.451587], [-1.007817, 51.454838]]], &quot;type&quot;: &quot;Polygon&quot;}, &quot;id&quot;: &quot;88195d2b35fffff&quot;, &quot;properties&quot;: {&quot;order_gk&quot;: 93}, &quot;type&quot;: &quot;Feature&quot;}, {&quot;geometry&quot;: {&quot;coordinates&quot;: [[[-1.015712, 51.449085], [-1.022445, 51.447833], [-1.023607, 51.44333], [-1.018036, 51.440078], [-1.011305, 51.44133], [-1.010142, 51.445833], [-1.015712, 51.449085]]], &quot;type&quot;: &quot;Polygon&quot;}, &quot;id&quot;: &quot;88195d294bfffff&quot;, &quot;properties&quot;: {&quot;order_gk&quot;: 96}, &quot;type&quot;: &quot;Feature&quot;}, {&quot;geometry&quot;: {&quot;coordinates&quot;: [[[-1.00341, 51.447084], [-1.010142, 51.445833], [-1.011305, 51.44133], [-1.005736, 51.438078], [-0.999005, 51.439329], [-0.997841, 51.443832], [-1.00341, 51.447084]]], &quot;type&quot;: &quot;Polygon&quot;}, &quot;id&quot;: &quot;88195d2b37fffff&quot;, &quot;properties&quot;: {&quot;order_gk&quot;: 98}, &quot;type&quot;: &quot;Feature&quot;}, {&quot;geometry&quot;: {&quot;coordinates&quot;: [[[-0.977904, 51.421815], [-0.984633, 51.420565], [-0.985796, 51.416061], [-0.980233, 51.412808], [-0.973505, 51.414059], [-0.972341, 51.418562], [-0.977904, 51.421815]]], &quot;type&quot;: &quot;Polygon&quot;}, &quot;id&quot;: &quot;88195d2829fffff&quot;, &quot;properties&quot;: {&quot;order_gk&quot;: 99}, &quot;type&quot;: &quot;Feature&quot;}, {&quot;geometry&quot;: {&quot;coordinates&quot;: [[[-0.980629, 51.485595], [-0.987365, 51.484347], [-0.98853, 51.479846], [-0.982959, 51.476594], [-0.976224, 51.477842], [-0.975059, 51.482342], [-0.980629, 51.485595]]], &quot;type&quot;: &quot;Polygon&quot;}, &quot;id&quot;: &quot;88195d2b47fffff&quot;, &quot;properties&quot;: {&quot;order_gk&quot;: 109}, &quot;type&quot;: &quot;Feature&quot;}, {&quot;geometry&quot;: {&quot;coordinates&quot;: [[[-0.918239, 51.454304], [-0.924969, 51.453059], [-0.926137, 51.448559], [-0.920576, 51.445304], [-0.913847, 51.446549], [-0.912678, 51.451049], [-0.918239, 51.454304]]], &quot;type&quot;: &quot;Polygon&quot;}, &quot;id&quot;: &quot;88195d2a2bfffff&quot;, &quot;properties&quot;: {&quot;order_gk&quot;: 112}, &quot;type&quot;: &quot;Feature&quot;}, {&quot;geometry&quot;: {&quot;coordinates&quot;: [[[-0.925249, 51.4273], [-0.931976, 51.426053], [-0.933144, 51.421551], [-0.927585, 51.418297], [-0.920859, 51.419544], [-0.919691, 51.424045], [-0.925249, 51.4273]]], &quot;type&quot;: &quot;Polygon&quot;}, &quot;id&quot;: &quot;88195d285dfffff&quot;, &quot;properties&quot;: {&quot;order_gk&quot;: 113}, &quot;type&quot;: &quot;Feature&quot;}, {&quot;geometry&quot;: {&quot;coordinates&quot;: [[[-0.95772, 51.425564], [-0.964448, 51.424315], [-0.965613, 51.419812], [-0.960051, 51.416558], [-0.953324, 51.417807], [-0.952158, 51.42231], [-0.95772, 51.425564]]], &quot;type&quot;: &quot;Polygon&quot;}, &quot;id&quot;: &quot;88195d280dfffff&quot;, &quot;properties&quot;: {&quot;order_gk&quot;: 117}, &quot;type&quot;: &quot;Feature&quot;}, {&quot;geometry&quot;: {&quot;coordinates&quot;: [[[-0.962117, 51.433319], [-0.968847, 51.432071], [-0.970012, 51.427568], [-0.964448, 51.424315], [-0.95772, 51.425564], [-0.956554, 51.430066], [-0.962117, 51.433319]]], &quot;type&quot;: &quot;Polygon&quot;}, &quot;id&quot;: &quot;88195d286bfffff&quot;, &quot;properties&quot;: {&quot;order_gk&quot;: 117}, &quot;type&quot;: &quot;Feature&quot;}, {&quot;geometry&quot;: {&quot;coordinates&quot;: [[[-0.984124, 51.472093], [-0.990859, 51.470844], [-0.992023, 51.466343], [-0.986453, 51.46309], [-0.97972, 51.464339], [-0.978555, 51.46884], [-0.984124, 51.472093]]], &quot;type&quot;: &quot;Polygon&quot;}, &quot;id&quot;: &quot;88195d2b01fffff&quot;, &quot;properties&quot;: {&quot;order_gk&quot;: 120}, &quot;type&quot;: &quot;Feature&quot;}, {&quot;geometry&quot;: {&quot;coordinates&quot;: [[[-0.934034, 51.442812], [-0.940764, 51.441565], [-0.941931, 51.437063], [-0.936369, 51.433809], [-0.929641, 51.435056], [-0.928473, 51.439557], [-0.934034, 51.442812]]], &quot;type&quot;: &quot;Polygon&quot;}, &quot;id&quot;: &quot;88195d2849fffff&quot;, &quot;properties&quot;: {&quot;order_gk&quot;: 125}, &quot;type&quot;: &quot;Feature&quot;}, {&quot;geometry&quot;: {&quot;coordinates&quot;: [[[-1.012225, 51.462593], [-1.018959, 51.461342], [-1.020121, 51.456839], [-1.01455, 51.453588], [-1.007817, 51.454838], [-1.006654, 51.459341], [-1.012225, 51.462593]]], &quot;type&quot;: &quot;Polygon&quot;}, &quot;id&quot;: &quot;88195d2b23fffff&quot;, &quot;properties&quot;: {&quot;order_gk&quot;: 130}, &quot;type&quot;: &quot;Feature&quot;}, {&quot;geometry&quot;: {&quot;coordinates&quot;: [[[-0.982305, 51.429571], [-0.989034, 51.428321], [-0.990198, 51.423818], [-0.984633, 51.420565], [-0.977904, 51.421815], [-0.97674, 51.426318], [-0.982305, 51.429571]]], &quot;type&quot;: &quot;Polygon&quot;}, &quot;id&quot;: &quot;88195d2867fffff&quot;, &quot;properties&quot;: {&quot;order_gk&quot;: 151}, &quot;type&quot;: &quot;Feature&quot;}, {&quot;geometry&quot;: {&quot;coordinates&quot;: [[[-0.990198, 51.423818], [-0.996927, 51.422567], [-0.99809, 51.418063], [-0.992524, 51.41481], [-0.985796, 51.416061], [-0.984633, 51.420565], [-0.990198, 51.423818]]], &quot;type&quot;: &quot;Polygon&quot;}, &quot;id&quot;: &quot;88195d282dfffff&quot;, &quot;properties&quot;: {&quot;order_gk&quot;: 154}, &quot;type&quot;: &quot;Feature&quot;}, {&quot;geometry&quot;: {&quot;coordinates&quot;: [[[-0.970012, 51.427568], [-0.97674, 51.426318], [-0.977904, 51.421815], [-0.972341, 51.418562], [-0.965613, 51.419812], [-0.964448, 51.424315], [-0.970012, 51.427568]]], &quot;type&quot;: &quot;Polygon&quot;}, &quot;id&quot;: &quot;88195d2863fffff&quot;, &quot;properties&quot;: {&quot;order_gk&quot;: 174}, &quot;type&quot;: &quot;Feature&quot;}, {&quot;geometry&quot;: {&quot;coordinates&quot;: [[[-0.992023, 51.466343], [-0.998757, 51.465093], [-0.99992, 51.460591], [-0.994351, 51.457339], [-0.987618, 51.458588], [-0.986453, 51.46309], [-0.992023, 51.466343]]], &quot;type&quot;: &quot;Polygon&quot;}, &quot;id&quot;: &quot;88195d2b07fffff&quot;, &quot;properties&quot;: {&quot;order_gk&quot;: 189}, &quot;type&quot;: &quot;Feature&quot;}, {&quot;geometry&quot;: {&quot;coordinates&quot;: [[[-0.937537, 51.429308], [-0.944264, 51.42806], [-0.945431, 51.423558], [-0.939871, 51.420304], [-0.933144, 51.421551], [-0.931976, 51.426053], [-0.937537, 51.429308]]], &quot;type&quot;: &quot;Polygon&quot;}, &quot;id&quot;: &quot;88195d2843fffff&quot;, &quot;properties&quot;: {&quot;order_gk&quot;: 194}, &quot;type&quot;: &quot;Feature&quot;}, {&quot;geometry&quot;: {&quot;coordinates&quot;: [[[-0.921745, 51.440803], [-0.928473, 51.439557], [-0.929641, 51.435056], [-0.924081, 51.431801], [-0.917354, 51.433047], [-0.916185, 51.437548], [-0.921745, 51.440803]]], &quot;type&quot;: &quot;Polygon&quot;}, &quot;id&quot;: &quot;88195d2a35fffff&quot;, &quot;properties&quot;: {&quot;order_gk&quot;: 203}, &quot;type&quot;: &quot;Feature&quot;}, {&quot;geometry&quot;: {&quot;coordinates&quot;: [[[-0.926137, 51.448559], [-0.932867, 51.447312], [-0.934034, 51.442812], [-0.928473, 51.439557], [-0.921745, 51.440803], [-0.920576, 51.445304], [-0.926137, 51.448559]]], &quot;type&quot;: &quot;Polygon&quot;}, &quot;id&quot;: &quot;88195d2a23fffff&quot;, &quot;properties&quot;: {&quot;order_gk&quot;: 207}, &quot;type&quot;: &quot;Feature&quot;}, {&quot;geometry&quot;: {&quot;coordinates&quot;: [[[-0.941931, 51.437063], [-0.94866, 51.435816], [-0.949826, 51.431314], [-0.944264, 51.42806], [-0.937537, 51.429308], [-0.936369, 51.433809], [-0.941931, 51.437063]]], &quot;type&quot;: &quot;Polygon&quot;}, &quot;id&quot;: &quot;88195d2841fffff&quot;, &quot;properties&quot;: {&quot;order_gk&quot;: 213}, &quot;type&quot;: &quot;Feature&quot;}, {&quot;geometry&quot;: {&quot;coordinates&quot;: [[[-0.963922, 51.475836], [-0.970656, 51.474589], [-0.971821, 51.470088], [-0.966254, 51.466835], [-0.959521, 51.468083], [-0.958354, 51.472583], [-0.963922, 51.475836]]], &quot;type&quot;: &quot;Polygon&quot;}, &quot;id&quot;: &quot;88195d2b55fffff&quot;, &quot;properties&quot;: {&quot;order_gk&quot;: 215}, &quot;type&quot;: &quot;Feature&quot;}, {&quot;geometry&quot;: {&quot;coordinates&quot;: [[[-0.949826, 51.431314], [-0.956554, 51.430066], [-0.95772, 51.425564], [-0.952158, 51.42231], [-0.945431, 51.423558], [-0.944264, 51.42806], [-0.949826, 51.431314]]], &quot;type&quot;: &quot;Polygon&quot;}, &quot;id&quot;: &quot;88195d2847fffff&quot;, &quot;properties&quot;: {&quot;order_gk&quot;: 215}, &quot;type&quot;: &quot;Feature&quot;}, {&quot;geometry&quot;: {&quot;coordinates&quot;: [[[-0.98853, 51.479846], [-0.995265, 51.478597], [-0.996429, 51.474096], [-0.990859, 51.470844], [-0.984124, 51.472093], [-0.982959, 51.476594], [-0.98853, 51.479846]]], &quot;type&quot;: &quot;Polygon&quot;}, &quot;id&quot;: &quot;88195d2b0dfffff&quot;, &quot;properties&quot;: {&quot;order_gk&quot;: 222}, &quot;type&quot;: &quot;Feature&quot;}, {&quot;geometry&quot;: {&quot;coordinates&quot;: [[[-0.976224, 51.477842], [-0.982959, 51.476594], [-0.984124, 51.472093], [-0.978555, 51.46884], [-0.971821, 51.470088], [-0.970656, 51.474589], [-0.976224, 51.477842]]], &quot;type&quot;: &quot;Polygon&quot;}, &quot;id&quot;: &quot;88195d2b09fffff&quot;, &quot;properties&quot;: {&quot;order_gk&quot;: 269}, &quot;type&quot;: &quot;Feature&quot;}, {&quot;geometry&quot;: {&quot;coordinates&quot;: [[[-0.954222, 51.43907], [-0.960952, 51.437822], [-0.962117, 51.433319], [-0.956554, 51.430066], [-0.949826, 51.431314], [-0.94866, 51.435816], [-0.954222, 51.43907]]], &quot;type&quot;: &quot;Polygon&quot;}, &quot;id&quot;: &quot;88195d2845fffff&quot;, &quot;properties&quot;: {&quot;order_gk&quot;: 275}, &quot;type&quot;: &quot;Feature&quot;}, {&quot;geometry&quot;: {&quot;coordinates&quot;: [[[-0.951621, 51.47383], [-0.958354, 51.472583], [-0.959521, 51.468083], [-0.953955, 51.464829], [-0.947222, 51.466076], [-0.946055, 51.470576], [-0.951621, 51.47383]]], &quot;type&quot;: &quot;Polygon&quot;}, &quot;id&quot;: &quot;88195d2b51fffff&quot;, &quot;properties&quot;: {&quot;order_gk&quot;: 287}, &quot;type&quot;: &quot;Feature&quot;}, {&quot;geometry&quot;: {&quot;coordinates&quot;: [[[-0.959521, 51.468083], [-0.966254, 51.466835], [-0.96742, 51.462334], [-0.961853, 51.459081], [-0.955121, 51.460328], [-0.953955, 51.464829], [-0.959521, 51.468083]]], &quot;type&quot;: &quot;Polygon&quot;}, &quot;id&quot;: &quot;88195d2b57fffff&quot;, &quot;properties&quot;: {&quot;order_gk&quot;: 304}, &quot;type&quot;: &quot;Feature&quot;}, {&quot;geometry&quot;: {&quot;coordinates&quot;: [[[-0.983214, 51.450834], [-0.989946, 51.449584], [-0.99111, 51.445082], [-0.985543, 51.441829], [-0.978812, 51.443079], [-0.977647, 51.447581], [-0.983214, 51.450834]]], &quot;type&quot;: &quot;Polygon&quot;}, &quot;id&quot;: &quot;88195d2b3bfffff&quot;, &quot;properties&quot;: {&quot;order_gk&quot;: 374}, &quot;type&quot;: &quot;Feature&quot;}, {&quot;geometry&quot;: {&quot;coordinates&quot;: [[[-0.966516, 51.441075], [-0.973246, 51.439826], [-0.974411, 51.435324], [-0.968847, 51.432071], [-0.962117, 51.433319], [-0.960952, 51.437822], [-0.966516, 51.441075]]], &quot;type&quot;: &quot;Polygon&quot;}, &quot;id&quot;: &quot;88195d2869fffff&quot;, &quot;properties&quot;: {&quot;order_gk&quot;: 400}, &quot;type&quot;: &quot;Feature&quot;}, {&quot;geometry&quot;: {&quot;coordinates&quot;: [[[-0.99992, 51.460591], [-1.006654, 51.459341], [-1.007817, 51.454838], [-1.002247, 51.451587], [-0.995514, 51.452837], [-0.994351, 51.457339], [-0.99992, 51.460591]]], &quot;type&quot;: &quot;Polygon&quot;}, &quot;id&quot;: &quot;88195d2b3dfffff&quot;, &quot;properties&quot;: {&quot;order_gk&quot;: 424}, &quot;type&quot;: &quot;Feature&quot;}, {&quot;geometry&quot;: {&quot;coordinates&quot;: [[[-0.930531, 51.456313], [-0.937261, 51.455067], [-0.938429, 51.450567], [-0.932867, 51.447312], [-0.926137, 51.448559], [-0.924969, 51.453059], [-0.930531, 51.456313]]], &quot;type&quot;: &quot;Polygon&quot;}, &quot;id&quot;: &quot;88195d2a21fffff&quot;, &quot;properties&quot;: {&quot;order_gk&quot;: 447}, &quot;type&quot;: &quot;Feature&quot;}, {&quot;geometry&quot;: {&quot;coordinates&quot;: [[[-0.995514, 51.452837], [-1.002247, 51.451587], [-1.00341, 51.447084], [-0.997841, 51.443832], [-0.99111, 51.445082], [-0.989946, 51.449584], [-0.995514, 51.452837]]], &quot;type&quot;: &quot;Polygon&quot;}, &quot;id&quot;: &quot;88195d2b31fffff&quot;, &quot;properties&quot;: {&quot;order_gk&quot;: 498}, &quot;type&quot;: &quot;Feature&quot;}, {&quot;geometry&quot;: {&quot;coordinates&quot;: [[[-0.974411, 51.435324], [-0.981141, 51.434074], [-0.982305, 51.429571], [-0.97674, 51.426318], [-0.970012, 51.427568], [-0.968847, 51.432071], [-0.974411, 51.435324]]], &quot;type&quot;: &quot;Polygon&quot;}, &quot;id&quot;: &quot;88195d2861fffff&quot;, &quot;properties&quot;: {&quot;order_gk&quot;: 511}, &quot;type&quot;: &quot;Feature&quot;}, {&quot;geometry&quot;: {&quot;coordinates&quot;: [[[-0.987618, 51.458588], [-0.994351, 51.457339], [-0.995514, 51.452837], [-0.989946, 51.449584], [-0.983214, 51.450834], [-0.98205, 51.455336], [-0.987618, 51.458588]]], &quot;type&quot;: &quot;Polygon&quot;}, &quot;id&quot;: &quot;88195d2b39fffff&quot;, &quot;properties&quot;: {&quot;order_gk&quot;: 559}, &quot;type&quot;: &quot;Feature&quot;}, {&quot;geometry&quot;: {&quot;coordinates&quot;: [[[-0.970916, 51.44883], [-0.977647, 51.447581], [-0.978812, 51.443079], [-0.973246, 51.439826], [-0.966516, 51.441075], [-0.965351, 51.445577], [-0.970916, 51.44883]]], &quot;type&quot;: &quot;Polygon&quot;}, &quot;id&quot;: &quot;88195d2b17fffff&quot;, &quot;properties&quot;: {&quot;order_gk&quot;: 588}, &quot;type&quot;: &quot;Feature&quot;}, {&quot;geometry&quot;: {&quot;coordinates&quot;: [[[-0.97972, 51.464339], [-0.986453, 51.46309], [-0.987618, 51.458588], [-0.98205, 51.455336], [-0.975317, 51.456585], [-0.974152, 51.461086], [-0.97972, 51.464339]]], &quot;type&quot;: &quot;Polygon&quot;}, &quot;id&quot;: &quot;88195d2b03fffff&quot;, &quot;properties&quot;: {&quot;order_gk&quot;: 751}, &quot;type&quot;: &quot;Feature&quot;}, {&quot;geometry&quot;: {&quot;coordinates&quot;: [[[-0.95862, 51.446825], [-0.965351, 51.445577], [-0.966516, 51.441075], [-0.960952, 51.437822], [-0.954222, 51.43907], [-0.953056, 51.443571], [-0.95862, 51.446825]]], &quot;type&quot;: &quot;Polygon&quot;}, &quot;id&quot;: &quot;88195d2b13fffff&quot;, &quot;properties&quot;: {&quot;order_gk&quot;: 975}, &quot;type&quot;: &quot;Feature&quot;}, {&quot;geometry&quot;: {&quot;coordinates&quot;: [[[-0.942825, 51.458321], [-0.949556, 51.457075], [-0.950723, 51.452574], [-0.945159, 51.44932], [-0.938429, 51.450567], [-0.937261, 51.455067], [-0.942825, 51.458321]]], &quot;type&quot;: &quot;Polygon&quot;}, &quot;id&quot;: &quot;88195d2a25fffff&quot;, &quot;properties&quot;: {&quot;order_gk&quot;: 1074}, &quot;type&quot;: &quot;Feature&quot;}, {&quot;geometry&quot;: {&quot;coordinates&quot;: [[[-0.971821, 51.470088], [-0.978555, 51.46884], [-0.97972, 51.464339], [-0.974152, 51.461086], [-0.96742, 51.462334], [-0.966254, 51.466835], [-0.971821, 51.470088]]], &quot;type&quot;: &quot;Polygon&quot;}, &quot;id&quot;: &quot;88195d2b0bfffff&quot;, &quot;properties&quot;: {&quot;order_gk&quot;: 1091}, &quot;type&quot;: &quot;Feature&quot;}, {&quot;geometry&quot;: {&quot;coordinates&quot;: [[[-0.938429, 51.450567], [-0.945159, 51.44932], [-0.946326, 51.444819], [-0.940764, 51.441565], [-0.934034, 51.442812], [-0.932867, 51.447312], [-0.938429, 51.450567]]], &quot;type&quot;: &quot;Polygon&quot;}, &quot;id&quot;: &quot;88195d2a27fffff&quot;, &quot;properties&quot;: {&quot;order_gk&quot;: 1295}, &quot;type&quot;: &quot;Feature&quot;}, {&quot;geometry&quot;: {&quot;coordinates&quot;: [[[-0.946326, 51.444819], [-0.953056, 51.443571], [-0.954222, 51.43907], [-0.94866, 51.435816], [-0.941931, 51.437063], [-0.940764, 51.441565], [-0.946326, 51.444819]]], &quot;type&quot;: &quot;Polygon&quot;}, &quot;id&quot;: &quot;88195d284dfffff&quot;, &quot;properties&quot;: {&quot;order_gk&quot;: 1937}, &quot;type&quot;: &quot;Feature&quot;}, {&quot;geometry&quot;: {&quot;coordinates&quot;: [[[-0.955121, 51.460328], [-0.961853, 51.459081], [-0.963019, 51.45458], [-0.957454, 51.451326], [-0.950723, 51.452574], [-0.949556, 51.457075], [-0.955121, 51.460328]]], &quot;type&quot;: &quot;Polygon&quot;}, &quot;id&quot;: &quot;88195d2b19fffff&quot;, &quot;properties&quot;: {&quot;order_gk&quot;: 1960}, &quot;type&quot;: &quot;Feature&quot;}, {&quot;geometry&quot;: {&quot;coordinates&quot;: [[[-0.963019, 51.45458], [-0.969751, 51.453332], [-0.970916, 51.44883], [-0.965351, 51.445577], [-0.95862, 51.446825], [-0.957454, 51.451326], [-0.963019, 51.45458]]], &quot;type&quot;: &quot;Polygon&quot;}, &quot;id&quot;: &quot;88195d2b11fffff&quot;, &quot;properties&quot;: {&quot;order_gk&quot;: 2191}, &quot;type&quot;: &quot;Feature&quot;}, {&quot;geometry&quot;: {&quot;coordinates&quot;: [[[-0.975317, 51.456585], [-0.98205, 51.455336], [-0.983214, 51.450834], [-0.977647, 51.447581], [-0.970916, 51.44883], [-0.969751, 51.453332], [-0.975317, 51.456585]]], &quot;type&quot;: &quot;Polygon&quot;}, &quot;id&quot;: &quot;88195d2b15fffff&quot;, &quot;properties&quot;: {&quot;order_gk&quot;: 2461}, &quot;type&quot;: &quot;Feature&quot;}, {&quot;geometry&quot;: {&quot;coordinates&quot;: [[[-0.950723, 51.452574], [-0.957454, 51.451326], [-0.95862, 51.446825], [-0.953056, 51.443571], [-0.946326, 51.444819], [-0.945159, 51.44932], [-0.950723, 51.452574]]], &quot;type&quot;: &quot;Polygon&quot;}, &quot;id&quot;: &quot;88195d2b1bfffff&quot;, &quot;properties&quot;: {&quot;order_gk&quot;: 2603}, &quot;type&quot;: &quot;Feature&quot;}, {&quot;geometry&quot;: {&quot;coordinates&quot;: [[[-0.96742, 51.462334], [-0.974152, 51.461086], [-0.975317, 51.456585], [-0.969751, 51.453332], [-0.963019, 51.45458], [-0.961853, 51.459081], [-0.96742, 51.462334]]], &quot;type&quot;: &quot;Polygon&quot;}, &quot;id&quot;: &quot;88195d2b1dfffff&quot;, &quot;properties&quot;: {&quot;order_gk&quot;: 4488}, &quot;type&quot;: &quot;Feature&quot;}], &quot;type&quot;: &quot;FeatureCollection&quot;});\n",
       "\n",
       "        \n",
       "&lt;/script&gt;\" style=\"position:absolute;width:100%;height:100%;left:0;top:0;border:none !important;\" allowfullscreen webkitallowfullscreen mozallowfullscreen></iframe></div></div>"
      ],
      "text/plain": [
       "<folium.folium.Map at 0x11edd6340>"
      ]
     },
     "execution_count": 33,
     "metadata": {},
     "output_type": "execute_result"
    }
   ],
   "source": [
    "map"
   ]
  },
  {
   "cell_type": "markdown",
   "metadata": {
    "pycharm": {
     "name": "#%% md\n"
    }
   },
   "source": []
  }
 ],
 "metadata": {
  "kernelspec": {
   "display_name": "Python 3",
   "language": "python",
   "name": "python3"
  },
  "language_info": {
   "codemirror_mode": {
    "name": "ipython",
    "version": 3
   },
   "file_extension": ".py",
   "mimetype": "text/x-python",
   "name": "python",
   "nbconvert_exporter": "python",
   "pygments_lexer": "ipython3",
   "version": "3.8.8"
  }
 },
 "nbformat": 4,
 "nbformat_minor": 1
}
